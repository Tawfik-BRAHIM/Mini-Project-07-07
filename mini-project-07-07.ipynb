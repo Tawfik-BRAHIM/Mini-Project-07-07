{
 "cells": [
  {
   "cell_type": "code",
   "execution_count": 1,
   "id": "871ba4da",
   "metadata": {
    "_cell_guid": "b1076dfc-b9ad-4769-8c92-a6c4dae69d19",
    "_uuid": "8f2839f25d086af736a60e9eeb907d3b93b6e0e5",
    "execution": {
     "iopub.execute_input": "2022-07-06T17:47:50.005237Z",
     "iopub.status.busy": "2022-07-06T17:47:50.004487Z",
     "iopub.status.idle": "2022-07-06T17:47:53.656244Z",
     "shell.execute_reply": "2022-07-06T17:47:53.654800Z"
    },
    "papermill": {
     "duration": 3.662907,
     "end_time": "2022-07-06T17:47:53.659065",
     "exception": false,
     "start_time": "2022-07-06T17:47:49.996158",
     "status": "completed"
    },
    "tags": []
   },
   "outputs": [
    {
     "name": "stdout",
     "output_type": "stream",
     "text": [
      "/kaggle/input/blood-transfusion-dataset/transfusion.csv\n",
      "Setup Complete\n"
     ]
    }
   ],
   "source": [
    "import numpy as np # linear algebra\n",
    "from sklearn.model_selection import train_test_split\n",
    "from sklearn.tree import DecisionTreeRegressor\n",
    "from sklearn.metrics import mean_absolute_error\n",
    "from tpot import TPOTClassifier\n",
    "from sklearn.linear_model import LogisticRegression\n",
    "from sklearn.metrics import roc_auc_score\n",
    "from sklearn import linear_model\n",
    "import pandas as pd # data processing, CSV file I/O (e.g. pd.read_csv)\n",
    "pd.plotting.register_matplotlib_converters()\n",
    "import matplotlib.pyplot as plt\n",
    "%matplotlib inline\n",
    "import seaborn as sns\n",
    "\n",
    "import os\n",
    "for dirname, _, filenames in os.walk('/kaggle/input'):\n",
    "    for filename in filenames:\n",
    "        print(os.path.join(dirname, filename))\n",
    "\n",
    "print(\"Setup Complete\")"
   ]
  },
  {
   "cell_type": "code",
   "execution_count": 2,
   "id": "7e68e987",
   "metadata": {
    "execution": {
     "iopub.execute_input": "2022-07-06T17:47:53.671184Z",
     "iopub.status.busy": "2022-07-06T17:47:53.670562Z",
     "iopub.status.idle": "2022-07-06T17:47:53.693007Z",
     "shell.execute_reply": "2022-07-06T17:47:53.691439Z"
    },
    "papermill": {
     "duration": 0.03128,
     "end_time": "2022-07-06T17:47:53.695521",
     "exception": false,
     "start_time": "2022-07-06T17:47:53.664241",
     "status": "completed"
    },
    "tags": []
   },
   "outputs": [
    {
     "name": "stdout",
     "output_type": "stream",
     "text": [
      "Setup Complete\n"
     ]
    }
   ],
   "source": [
    "#Importing the data base \n",
    "donation_filepath = \"../input/blood-transfusion-dataset/transfusion.csv\"\n",
    "transfusion = pd.read_csv(donation_filepath)\n",
    "print(\"Setup Complete\")"
   ]
  },
  {
   "cell_type": "code",
   "execution_count": 3,
   "id": "e1f05043",
   "metadata": {
    "execution": {
     "iopub.execute_input": "2022-07-06T17:47:53.707683Z",
     "iopub.status.busy": "2022-07-06T17:47:53.707296Z",
     "iopub.status.idle": "2022-07-06T17:47:53.728077Z",
     "shell.execute_reply": "2022-07-06T17:47:53.726916Z"
    },
    "papermill": {
     "duration": 0.029838,
     "end_time": "2022-07-06T17:47:53.730448",
     "exception": false,
     "start_time": "2022-07-06T17:47:53.700610",
     "status": "completed"
    },
    "tags": []
   },
   "outputs": [
    {
     "data": {
      "text/html": [
       "<div>\n",
       "<style scoped>\n",
       "    .dataframe tbody tr th:only-of-type {\n",
       "        vertical-align: middle;\n",
       "    }\n",
       "\n",
       "    .dataframe tbody tr th {\n",
       "        vertical-align: top;\n",
       "    }\n",
       "\n",
       "    .dataframe thead th {\n",
       "        text-align: right;\n",
       "    }\n",
       "</style>\n",
       "<table border=\"1\" class=\"dataframe\">\n",
       "  <thead>\n",
       "    <tr style=\"text-align: right;\">\n",
       "      <th></th>\n",
       "      <th>Recency (months)</th>\n",
       "      <th>Frequency (times)</th>\n",
       "      <th>Monetary (c.c. blood)</th>\n",
       "      <th>Time (months)</th>\n",
       "      <th>whether he/she donated blood in March 2007</th>\n",
       "    </tr>\n",
       "  </thead>\n",
       "  <tbody>\n",
       "    <tr>\n",
       "      <th>0</th>\n",
       "      <td>2</td>\n",
       "      <td>50</td>\n",
       "      <td>12500</td>\n",
       "      <td>98</td>\n",
       "      <td>1</td>\n",
       "    </tr>\n",
       "    <tr>\n",
       "      <th>1</th>\n",
       "      <td>0</td>\n",
       "      <td>13</td>\n",
       "      <td>3250</td>\n",
       "      <td>28</td>\n",
       "      <td>1</td>\n",
       "    </tr>\n",
       "    <tr>\n",
       "      <th>2</th>\n",
       "      <td>1</td>\n",
       "      <td>16</td>\n",
       "      <td>4000</td>\n",
       "      <td>35</td>\n",
       "      <td>1</td>\n",
       "    </tr>\n",
       "    <tr>\n",
       "      <th>3</th>\n",
       "      <td>2</td>\n",
       "      <td>20</td>\n",
       "      <td>5000</td>\n",
       "      <td>45</td>\n",
       "      <td>1</td>\n",
       "    </tr>\n",
       "    <tr>\n",
       "      <th>4</th>\n",
       "      <td>1</td>\n",
       "      <td>24</td>\n",
       "      <td>6000</td>\n",
       "      <td>77</td>\n",
       "      <td>0</td>\n",
       "    </tr>\n",
       "  </tbody>\n",
       "</table>\n",
       "</div>"
      ],
      "text/plain": [
       "   Recency (months)  Frequency (times)  Monetary (c.c. blood)  Time (months)  \\\n",
       "0                 2                 50                  12500             98   \n",
       "1                 0                 13                   3250             28   \n",
       "2                 1                 16                   4000             35   \n",
       "3                 2                 20                   5000             45   \n",
       "4                 1                 24                   6000             77   \n",
       "\n",
       "   whether he/she donated blood in March 2007  \n",
       "0                                           1  \n",
       "1                                           1  \n",
       "2                                           1  \n",
       "3                                           1  \n",
       "4                                           0  "
      ]
     },
     "execution_count": 3,
     "metadata": {},
     "output_type": "execute_result"
    }
   ],
   "source": [
    "#inspecting the 5 first rows\n",
    "transfusion.head()\n"
   ]
  },
  {
   "cell_type": "code",
   "execution_count": 4,
   "id": "abcc845c",
   "metadata": {
    "execution": {
     "iopub.execute_input": "2022-07-06T17:47:53.742253Z",
     "iopub.status.busy": "2022-07-06T17:47:53.741885Z",
     "iopub.status.idle": "2022-07-06T17:47:53.784805Z",
     "shell.execute_reply": "2022-07-06T17:47:53.783668Z"
    },
    "papermill": {
     "duration": 0.05165,
     "end_time": "2022-07-06T17:47:53.787190",
     "exception": false,
     "start_time": "2022-07-06T17:47:53.735540",
     "status": "completed"
    },
    "tags": []
   },
   "outputs": [
    {
     "data": {
      "text/html": [
       "<div>\n",
       "<style scoped>\n",
       "    .dataframe tbody tr th:only-of-type {\n",
       "        vertical-align: middle;\n",
       "    }\n",
       "\n",
       "    .dataframe tbody tr th {\n",
       "        vertical-align: top;\n",
       "    }\n",
       "\n",
       "    .dataframe thead th {\n",
       "        text-align: right;\n",
       "    }\n",
       "</style>\n",
       "<table border=\"1\" class=\"dataframe\">\n",
       "  <thead>\n",
       "    <tr style=\"text-align: right;\">\n",
       "      <th></th>\n",
       "      <th>Recency (months)</th>\n",
       "      <th>Frequency (times)</th>\n",
       "      <th>Monetary (c.c. blood)</th>\n",
       "      <th>Time (months)</th>\n",
       "      <th>whether he/she donated blood in March 2007</th>\n",
       "    </tr>\n",
       "  </thead>\n",
       "  <tbody>\n",
       "    <tr>\n",
       "      <th>count</th>\n",
       "      <td>748.000000</td>\n",
       "      <td>748.000000</td>\n",
       "      <td>748.000000</td>\n",
       "      <td>748.000000</td>\n",
       "      <td>748.000000</td>\n",
       "    </tr>\n",
       "    <tr>\n",
       "      <th>mean</th>\n",
       "      <td>9.506684</td>\n",
       "      <td>5.514706</td>\n",
       "      <td>1378.676471</td>\n",
       "      <td>34.282086</td>\n",
       "      <td>0.237968</td>\n",
       "    </tr>\n",
       "    <tr>\n",
       "      <th>std</th>\n",
       "      <td>8.095396</td>\n",
       "      <td>5.839307</td>\n",
       "      <td>1459.826781</td>\n",
       "      <td>24.376714</td>\n",
       "      <td>0.426124</td>\n",
       "    </tr>\n",
       "    <tr>\n",
       "      <th>min</th>\n",
       "      <td>0.000000</td>\n",
       "      <td>1.000000</td>\n",
       "      <td>250.000000</td>\n",
       "      <td>2.000000</td>\n",
       "      <td>0.000000</td>\n",
       "    </tr>\n",
       "    <tr>\n",
       "      <th>25%</th>\n",
       "      <td>2.750000</td>\n",
       "      <td>2.000000</td>\n",
       "      <td>500.000000</td>\n",
       "      <td>16.000000</td>\n",
       "      <td>0.000000</td>\n",
       "    </tr>\n",
       "    <tr>\n",
       "      <th>50%</th>\n",
       "      <td>7.000000</td>\n",
       "      <td>4.000000</td>\n",
       "      <td>1000.000000</td>\n",
       "      <td>28.000000</td>\n",
       "      <td>0.000000</td>\n",
       "    </tr>\n",
       "    <tr>\n",
       "      <th>75%</th>\n",
       "      <td>14.000000</td>\n",
       "      <td>7.000000</td>\n",
       "      <td>1750.000000</td>\n",
       "      <td>50.000000</td>\n",
       "      <td>0.000000</td>\n",
       "    </tr>\n",
       "    <tr>\n",
       "      <th>max</th>\n",
       "      <td>74.000000</td>\n",
       "      <td>50.000000</td>\n",
       "      <td>12500.000000</td>\n",
       "      <td>98.000000</td>\n",
       "      <td>1.000000</td>\n",
       "    </tr>\n",
       "  </tbody>\n",
       "</table>\n",
       "</div>"
      ],
      "text/plain": [
       "       Recency (months)  Frequency (times)  Monetary (c.c. blood)  \\\n",
       "count        748.000000         748.000000             748.000000   \n",
       "mean           9.506684           5.514706            1378.676471   \n",
       "std            8.095396           5.839307            1459.826781   \n",
       "min            0.000000           1.000000             250.000000   \n",
       "25%            2.750000           2.000000             500.000000   \n",
       "50%            7.000000           4.000000            1000.000000   \n",
       "75%           14.000000           7.000000            1750.000000   \n",
       "max           74.000000          50.000000           12500.000000   \n",
       "\n",
       "       Time (months)  whether he/she donated blood in March 2007  \n",
       "count     748.000000                                  748.000000  \n",
       "mean       34.282086                                    0.237968  \n",
       "std        24.376714                                    0.426124  \n",
       "min         2.000000                                    0.000000  \n",
       "25%        16.000000                                    0.000000  \n",
       "50%        28.000000                                    0.000000  \n",
       "75%        50.000000                                    0.000000  \n",
       "max        98.000000                                    1.000000  "
      ]
     },
     "execution_count": 4,
     "metadata": {},
     "output_type": "execute_result"
    }
   ],
   "source": [
    "transfusion.describe()"
   ]
  },
  {
   "cell_type": "code",
   "execution_count": 5,
   "id": "13212d63",
   "metadata": {
    "execution": {
     "iopub.execute_input": "2022-07-06T17:47:53.799399Z",
     "iopub.status.busy": "2022-07-06T17:47:53.799047Z",
     "iopub.status.idle": "2022-07-06T17:47:53.811068Z",
     "shell.execute_reply": "2022-07-06T17:47:53.809839Z"
    },
    "papermill": {
     "duration": 0.020619,
     "end_time": "2022-07-06T17:47:53.813107",
     "exception": false,
     "start_time": "2022-07-06T17:47:53.792488",
     "status": "completed"
    },
    "tags": []
   },
   "outputs": [
    {
     "data": {
      "text/html": [
       "<div>\n",
       "<style scoped>\n",
       "    .dataframe tbody tr th:only-of-type {\n",
       "        vertical-align: middle;\n",
       "    }\n",
       "\n",
       "    .dataframe tbody tr th {\n",
       "        vertical-align: top;\n",
       "    }\n",
       "\n",
       "    .dataframe thead th {\n",
       "        text-align: right;\n",
       "    }\n",
       "</style>\n",
       "<table border=\"1\" class=\"dataframe\">\n",
       "  <thead>\n",
       "    <tr style=\"text-align: right;\">\n",
       "      <th></th>\n",
       "      <th>Recency (months)</th>\n",
       "      <th>Frequency (times)</th>\n",
       "      <th>Monetary (c.c. blood)</th>\n",
       "      <th>Time (months)</th>\n",
       "      <th>target</th>\n",
       "    </tr>\n",
       "  </thead>\n",
       "  <tbody>\n",
       "    <tr>\n",
       "      <th>0</th>\n",
       "      <td>2</td>\n",
       "      <td>50</td>\n",
       "      <td>12500</td>\n",
       "      <td>98</td>\n",
       "      <td>1</td>\n",
       "    </tr>\n",
       "    <tr>\n",
       "      <th>1</th>\n",
       "      <td>0</td>\n",
       "      <td>13</td>\n",
       "      <td>3250</td>\n",
       "      <td>28</td>\n",
       "      <td>1</td>\n",
       "    </tr>\n",
       "    <tr>\n",
       "      <th>2</th>\n",
       "      <td>1</td>\n",
       "      <td>16</td>\n",
       "      <td>4000</td>\n",
       "      <td>35</td>\n",
       "      <td>1</td>\n",
       "    </tr>\n",
       "    <tr>\n",
       "      <th>3</th>\n",
       "      <td>2</td>\n",
       "      <td>20</td>\n",
       "      <td>5000</td>\n",
       "      <td>45</td>\n",
       "      <td>1</td>\n",
       "    </tr>\n",
       "    <tr>\n",
       "      <th>4</th>\n",
       "      <td>1</td>\n",
       "      <td>24</td>\n",
       "      <td>6000</td>\n",
       "      <td>77</td>\n",
       "      <td>0</td>\n",
       "    </tr>\n",
       "  </tbody>\n",
       "</table>\n",
       "</div>"
      ],
      "text/plain": [
       "   Recency (months)  Frequency (times)  Monetary (c.c. blood)  Time (months)  \\\n",
       "0                 2                 50                  12500             98   \n",
       "1                 0                 13                   3250             28   \n",
       "2                 1                 16                   4000             35   \n",
       "3                 2                 20                   5000             45   \n",
       "4                 1                 24                   6000             77   \n",
       "\n",
       "   target  \n",
       "0       1  \n",
       "1       1  \n",
       "2       1  \n",
       "3       1  \n",
       "4       0  "
      ]
     },
     "execution_count": 5,
     "metadata": {},
     "output_type": "execute_result"
    }
   ],
   "source": [
    "#creating target column\n",
    "\n",
    "transfusion.rename(columns={'whether he/she donated blood in March 2007': 'target'}, inplace=True)\n",
    "transfusion.head()"
   ]
  },
  {
   "cell_type": "code",
   "execution_count": 6,
   "id": "3370a137",
   "metadata": {
    "execution": {
     "iopub.execute_input": "2022-07-06T17:47:53.826588Z",
     "iopub.status.busy": "2022-07-06T17:47:53.825417Z",
     "iopub.status.idle": "2022-07-06T17:47:54.031205Z",
     "shell.execute_reply": "2022-07-06T17:47:54.030161Z"
    },
    "papermill": {
     "duration": 0.215061,
     "end_time": "2022-07-06T17:47:54.033662",
     "exception": false,
     "start_time": "2022-07-06T17:47:53.818601",
     "status": "completed"
    },
    "tags": []
   },
   "outputs": [
    {
     "data": {
      "image/png": "[encoded data removed]",
      "text/plain": [
       "<Figure size 216x504 with 1 Axes>"
      ]
     },
     "metadata": {
      "needs_background": "light"
     },
     "output_type": "display_data"
    }
   ],
   "source": [
    "#Checking target incidence\n",
    "#figure parameters\n",
    "plt.figure(figsize=(3,7))\n",
    "plt.xlabel('Target')\n",
    "plt.ylabel('Occurence')\n",
    "plt.title('target incidence')\n",
    "#ploting \n",
    "ax=sns.countplot(x='target', data=transfusion )\n",
    "#annotating the percentage\n",
    "total = float(len(transfusion))\n",
    "for p in ax.patches:\n",
    "    percentage = '{:.1f}%'.format(100 * p.get_height()/total)\n",
    "    x = p.get_x() + p.get_width()\n",
    "    y = p.get_height()\n",
    "    ax.annotate(percentage, (x, y),ha='right')\n",
    "plt.show()"
   ]
  },
  {
   "cell_type": "code",
   "execution_count": 7,
   "id": "307e7759",
   "metadata": {
    "execution": {
     "iopub.execute_input": "2022-07-06T17:47:54.047638Z",
     "iopub.status.busy": "2022-07-06T17:47:54.046725Z",
     "iopub.status.idle": "2022-07-06T17:47:54.057895Z",
     "shell.execute_reply": "2022-07-06T17:47:54.056332Z"
    },
    "papermill": {
     "duration": 0.020568,
     "end_time": "2022-07-06T17:47:54.060090",
     "exception": false,
     "start_time": "2022-07-06T17:47:54.039522",
     "status": "completed"
    },
    "tags": []
   },
   "outputs": [
    {
     "name": "stdout",
     "output_type": "stream",
     "text": [
      "0    76.203209\n",
      "1    23.796791\n",
      "Name: target, dtype: float64\n",
      "0    76.203209\n",
      "1    23.796791\n",
      "Name: target, dtype: float64\n"
     ]
    }
   ],
   "source": [
    "#extracting x and y from dataframe\n",
    "x=transfusion.drop(columns='target', axis=1)\n",
    "y=transfusion['target']\n",
    "print(y.value_counts(normalize=True)*100)\n",
    "print(y.value_counts(normalize=True)*100)"
   ]
  },
  {
   "cell_type": "code",
   "execution_count": 8,
   "id": "999fa3dc",
   "metadata": {
    "execution": {
     "iopub.execute_input": "2022-07-06T17:47:54.073721Z",
     "iopub.status.busy": "2022-07-06T17:47:54.073304Z",
     "iopub.status.idle": "2022-07-06T17:47:54.088287Z",
     "shell.execute_reply": "2022-07-06T17:47:54.086923Z"
    },
    "papermill": {
     "duration": 0.02441,
     "end_time": "2022-07-06T17:47:54.090606",
     "exception": false,
     "start_time": "2022-07-06T17:47:54.066196",
     "status": "completed"
    },
    "tags": []
   },
   "outputs": [
    {
     "name": "stdout",
     "output_type": "stream",
     "text": [
      "(748, 4) (598, 4) (150, 4)\n",
      "(748,) (598,) (150,)\n",
      "0    76.254181\n",
      "1    23.745819\n",
      "Name: target, dtype: float64\n",
      "0    76.0\n",
      "1    24.0\n",
      "Name: target, dtype: float64\n"
     ]
    }
   ],
   "source": [
    "#Splitting transfusion into train and test datasets\n",
    "x_train,x_test,y_train,y_test=train_test_split(x,y,test_size=0.2, random_state=1, stratify=y)\n",
    "print(x.shape,x_train.shape,x_test.shape)\n",
    "print(y.shape,y_train.shape,y_test.shape)\n",
    "print(y_train.value_counts(normalize=True)*100)\n",
    "print(y_test.value_counts(normalize=True)*100)"
   ]
  },
  {
   "cell_type": "code",
   "execution_count": 9,
   "id": "37477c46",
   "metadata": {
    "execution": {
     "iopub.execute_input": "2022-07-06T17:47:54.104731Z",
     "iopub.status.busy": "2022-07-06T17:47:54.103715Z",
     "iopub.status.idle": "2022-07-06T17:51:04.305987Z",
     "shell.execute_reply": "2022-07-06T17:51:04.304461Z"
    },
    "papermill": {
     "duration": 190.212805,
     "end_time": "2022-07-06T17:51:04.309311",
     "exception": false,
     "start_time": "2022-07-06T17:47:54.096506",
     "status": "completed"
    },
    "tags": []
   },
   "outputs": [
    {
     "data": {
      "application/vnd.jupyter.widget-view+json": {
       "model_id": "07074826fec1405caf2455df5dfa5755",
       "version_major": 2,
       "version_minor": 0
      },
      "text/plain": [
       "Optimization Progress:   0%|          | 0/300 [00:00<?, ?pipeline/s]"
      ]
     },
     "metadata": {},
     "output_type": "display_data"
    },
    {
     "name": "stdout",
     "output_type": "stream",
     "text": [
      "\n",
      "Generation 1 - Current best internal CV score: 0.8109803921568627\n",
      "\n",
      "Generation 2 - Current best internal CV score: 0.8109803921568627\n",
      "\n",
      "Generation 3 - Current best internal CV score: 0.8109803921568627\n",
      "\n",
      "Generation 4 - Current best internal CV score: 0.8109803921568627\n",
      "\n",
      "Generation 5 - Current best internal CV score: 0.8109803921568627\n",
      "\n",
      "Best pipeline: XGBClassifier(input_matrix, learning_rate=0.001, max_depth=5, min_child_weight=2, n_estimators=100, n_jobs=1, subsample=0.7500000000000001, verbosity=0)\n"
     ]
    }
   ],
   "source": [
    "#Selecting model using TPOT\n",
    "tpot = TPOTClassifier(generations=5, population_size=50, verbosity=2,n_jobs=-1)\n",
    "tpot.fit(x_train, y_train)\n",
    "tpot.export('tpot_digits_pipeline.py')"
   ]
  },
  {
   "cell_type": "code",
   "execution_count": 10,
   "id": "bfdae7f2",
   "metadata": {
    "execution": {
     "iopub.execute_input": "2022-07-06T17:51:04.327262Z",
     "iopub.status.busy": "2022-07-06T17:51:04.325925Z",
     "iopub.status.idle": "2022-07-06T17:51:04.359231Z",
     "shell.execute_reply": "2022-07-06T17:51:04.357820Z"
    },
    "papermill": {
     "duration": 0.044456,
     "end_time": "2022-07-06T17:51:04.361695",
     "exception": false,
     "start_time": "2022-07-06T17:51:04.317239",
     "status": "completed"
    },
    "tags": []
   },
   "outputs": [
    {
     "name": "stdout",
     "output_type": "stream",
     "text": [
      "\n",
      "AUC score : 0.6831\n",
      "\n",
      "Model score :  0.76\n",
      "\n",
      "MAE=  0.24\n"
     ]
    }
   ],
   "source": [
    "#cheking AUC \n",
    "logreg_auc_score=roc_auc_score(y_test, tpot.predict_proba(x_test)[:,1])\n",
    "print(f'\\nAUC score : {logreg_auc_score:.4f}')\n",
    "#cheking tpot score\n",
    "print('\\nModel score : ',tpot.score(x_test, y_test))\n",
    "#cheking MAE\n",
    "y_pred=tpot.predict(x_test)\n",
    "print('\\nMAE= ',mean_absolute_error(y_test,y_pred))"
   ]
  },
  {
   "cell_type": "code",
   "execution_count": 11,
   "id": "094da008",
   "metadata": {
    "execution": {
     "iopub.execute_input": "2022-07-06T17:51:04.378525Z",
     "iopub.status.busy": "2022-07-06T17:51:04.377095Z",
     "iopub.status.idle": "2022-07-06T17:51:04.410251Z",
     "shell.execute_reply": "2022-07-06T17:51:04.408964Z"
    },
    "papermill": {
     "duration": 0.044488,
     "end_time": "2022-07-06T17:51:04.413124",
     "exception": false,
     "start_time": "2022-07-06T17:51:04.368636",
     "status": "completed"
    },
    "tags": []
   },
   "outputs": [
    {
     "data": {
      "text/plain": [
       "Pipeline(steps=[('xgbclassifier',\n",
       "                 XGBClassifier(base_score=0.5, booster='gbtree', callbacks=None,\n",
       "                               colsample_bylevel=1, colsample_bynode=1,\n",
       "                               colsample_bytree=1, early_stopping_rounds=None,\n",
       "                               enable_categorical=False, eval_metric=None,\n",
       "                               gamma=0, gpu_id=-1, grow_policy='depthwise',\n",
       "                               importance_type=None, interaction_constraints='',\n",
       "                               learning_rate=0.001, max_bin=256,\n",
       "                               max_cat_to_onehot=4, max_delta_step=0,\n",
       "                               max_depth=5, max_leaves=0, min_child_weight=2,\n",
       "                               missing=nan, monotone_constraints='()',\n",
       "                               n_estimators=100, n_jobs=1, num_parallel_tree=1,\n",
       "                               predictor='auto', random_state=0, reg_alpha=0,\n",
       "                               reg_lambda=1, ...))])"
      ]
     },
     "execution_count": 11,
     "metadata": {},
     "output_type": "execute_result"
    }
   ],
   "source": [
    "#cheking the best model chosen by tpot\n",
    "tpot.fitted_pipeline_"
   ]
  },
  {
   "cell_type": "code",
   "execution_count": 12,
   "id": "1c6385cf",
   "metadata": {
    "execution": {
     "iopub.execute_input": "2022-07-06T17:51:04.430180Z",
     "iopub.status.busy": "2022-07-06T17:51:04.429390Z",
     "iopub.status.idle": "2022-07-06T17:51:04.441470Z",
     "shell.execute_reply": "2022-07-06T17:51:04.440107Z"
    },
    "papermill": {
     "duration": 0.023611,
     "end_time": "2022-07-06T17:51:04.444033",
     "exception": false,
     "start_time": "2022-07-06T17:51:04.420422",
     "status": "completed"
    },
    "tags": []
   },
   "outputs": [
    {
     "data": {
      "text/plain": [
       "Recency (months)              78.0\n",
       "Frequency (times)             31.0\n",
       "Monetary (c.c. blood)    1940789.0\n",
       "Time (months)                514.0\n",
       "dtype: float64"
      ]
     },
     "execution_count": 12,
     "metadata": {},
     "output_type": "execute_result"
    }
   ],
   "source": [
    "#Checking the variance\n",
    "np.var(x_test).round()"
   ]
  },
  {
   "cell_type": "code",
   "execution_count": 13,
   "id": "8c230b39",
   "metadata": {
    "execution": {
     "iopub.execute_input": "2022-07-06T17:51:04.460909Z",
     "iopub.status.busy": "2022-07-06T17:51:04.459879Z",
     "iopub.status.idle": "2022-07-06T17:51:04.476824Z",
     "shell.execute_reply": "2022-07-06T17:51:04.475185Z"
    },
    "papermill": {
     "duration": 0.028416,
     "end_time": "2022-07-06T17:51:04.479567",
     "exception": false,
     "start_time": "2022-07-06T17:51:04.451151",
     "status": "completed"
    },
    "tags": []
   },
   "outputs": [
    {
     "data": {
      "text/plain": [
       "Recency (months)              78.0\n",
       "Frequency (times)             31.0\n",
       "Monetary (c.c. blood)    1940789.0\n",
       "Time (months)                514.0\n",
       "Log_cc                         1.0\n",
       "dtype: float64"
      ]
     },
     "execution_count": 13,
     "metadata": {},
     "output_type": "execute_result"
    }
   ],
   "source": [
    "# Log normalization the Monetary (c.c. blood) column\n",
    "x_train_normed,x_test_normed = x_train.copy(),x_test.copy()\n",
    "x_train_normed['Log_cc'] = np.log(x_train_normed['Monetary (c.c. blood)'])\n",
    "x_test_normed['Log_cc'] = np.log(x_test_normed['Monetary (c.c. blood)'])\n",
    "#cheking the variance for changes\n",
    "np.var(x_test_normed).round()"
   ]
  },
  {
   "cell_type": "code",
   "execution_count": 14,
   "id": "3f66c6a2",
   "metadata": {
    "execution": {
     "iopub.execute_input": "2022-07-06T17:51:04.496306Z",
     "iopub.status.busy": "2022-07-06T17:51:04.495881Z",
     "iopub.status.idle": "2022-07-06T17:51:04.515272Z",
     "shell.execute_reply": "2022-07-06T17:51:04.513642Z"
    },
    "papermill": {
     "duration": 0.032833,
     "end_time": "2022-07-06T17:51:04.519580",
     "exception": false,
     "start_time": "2022-07-06T17:51:04.486747",
     "status": "completed"
    },
    "tags": []
   },
   "outputs": [
    {
     "name": "stdout",
     "output_type": "stream",
     "text": [
      "\n",
      "Model score :  0.76\n",
      "\n",
      "MAE=  0.32536788250849646\n"
     ]
    }
   ],
   "source": [
    "#Training the linear regression model\n",
    "model=linear_model.LinearRegression()\n",
    "model.fit(x_train,y_train)\n",
    "#cheking tpot score\n",
    "print('\\nModel score : ',tpot.score(x_test, y_test))\n",
    "#cheking MAE\n",
    "y_pred=model.predict(x_test)\n",
    "print('\\nMAE= ',mean_absolute_error(y_test,y_pred))\n"
   ]
  }
 ],
 "metadata": {
  "kernelspec": {
   "display_name": "Python 3",
   "language": "python",
   "name": "python3"
  },
  "language_info": {
   "codemirror_mode": {
    "name": "ipython",
    "version": 3
   },
   "file_extension": ".py",
   "mimetype": "text/x-python",
   "name": "python",
   "nbconvert_exporter": "python",
   "pygments_lexer": "ipython3",
   "version": "3.7.12"
  },
  "papermill": {
   "default_parameters": {},
   "duration": 207.497318,
   "end_time": "2022-07-06T17:51:07.151059",
   "environment_variables": {},
   "exception": null,
   "input_path": "__notebook__.ipynb",
   "output_path": "__notebook__.ipynb",
   "parameters": {},
   "start_time": "2022-07-06T17:47:39.653741",
   "version": "2.3.4"
  },
  "widgets": {
   "application/vnd.jupyter.widget-state+json": {
    "state": {
     "05f21574178042a59aa83283af9c0126": {
      "model_module": "@jupyter-widgets/controls",
      "model_module_version": "1.5.0",
      "model_name": "HTMLModel",
      "state": {
       "_dom_classes": [],
       "_model_module": "@jupyter-widgets/controls",
       "_model_module_version": "1.5.0",
       "_model_name": "HTMLModel",
       "_view_count": null,
       "_view_module": "@jupyter-widgets/controls",
       "_view_module_version": "1.5.0",
       "_view_name": "HTMLView",
       "description": "",
       "description_tooltip": null,
       "layout": "IPY_MODEL_71b610d047254ebb92581c401e8053ca",
       "placeholder": "​",
       "style": "IPY_MODEL_8dd5ac3cbb644185853817225a2c97e0",
       "value": " 300/300 [03:04&lt;00:00,  2.15pipeline/s]"
      }
     },
     "07074826fec1405caf2455df5dfa5755": {
      "model_module": "@jupyter-widgets/controls",
      "model_module_version": "1.5.0",
      "model_name": "HBoxModel",
      "state": {
       "_dom_classes": [],
       "_model_module": "@jupyter-widgets/controls",
       "_model_module_version": "1.5.0",
       "_model_name": "HBoxModel",
       "_view_count": null,
       "_view_module": "@jupyter-widgets/controls",
       "_view_module_version": "1.5.0",
       "_view_name": "HBoxView",
       "box_style": "",
       "children": [
        "IPY_MODEL_d63ff4697b974d28826917c7e81a3439",
        "IPY_MODEL_84ca5a07c9534fe7b454a2b401f3e4c0",
        "IPY_MODEL_05f21574178042a59aa83283af9c0126"
       ],
       "layout": "IPY_MODEL_88f9fe692e6c4ebd9fb056e0c75d5cd8"
      }
     },
     "241459edb8164321a376c779305d15b0": {
      "model_module": "@jupyter-widgets/controls",
      "model_module_version": "1.5.0",
      "model_name": "DescriptionStyleModel",
      "state": {
       "_model_module": "@jupyter-widgets/controls",
       "_model_module_version": "1.5.0",
       "_model_name": "DescriptionStyleModel",
       "_view_count": null,
       "_view_module": "@jupyter-widgets/base",
       "_view_module_version": "1.2.0",
       "_view_name": "StyleView",
       "description_width": ""
      }
     },
     "3525c04f6e8d423a8c95f135694be236": {
      "model_module": "@jupyter-widgets/base",
      "model_module_version": "1.2.0",
      "model_name": "LayoutModel",
      "state": {
       "_model_module": "@jupyter-widgets/base",
       "_model_module_version": "1.2.0",
       "_model_name": "LayoutModel",
       "_view_count": null,
       "_view_module": "@jupyter-widgets/base",
       "_view_module_version": "1.2.0",
       "_view_name": "LayoutView",
       "align_content": null,
       "align_items": null,
       "align_self": null,
       "border": null,
       "bottom": null,
       "display": null,
       "flex": null,
       "flex_flow": null,
       "grid_area": null,
       "grid_auto_columns": null,
       "grid_auto_flow": null,
       "grid_auto_rows": null,
       "grid_column": null,
       "grid_gap": null,
       "grid_row": null,
       "grid_template_areas": null,
       "grid_template_columns": null,
       "grid_template_rows": null,
       "height": null,
       "justify_content": null,
       "justify_items": null,
       "left": null,
       "margin": null,
       "max_height": null,
       "max_width": null,
       "min_height": null,
       "min_width": null,
       "object_fit": null,
       "object_position": null,
       "order": null,
       "overflow": null,
       "overflow_x": null,
       "overflow_y": null,
       "padding": null,
       "right": null,
       "top": null,
       "visibility": null,
       "width": null
      }
     },
     "71b610d047254ebb92581c401e8053ca": {
      "model_module": "@jupyter-widgets/base",
      "model_module_version": "1.2.0",
      "model_name": "LayoutModel",
      "state": {
       "_model_module": "@jupyter-widgets/base",
       "_model_module_version": "1.2.0",
       "_model_name": "LayoutModel",
       "_view_count": null,
       "_view_module": "@jupyter-widgets/base",
       "_view_module_version": "1.2.0",
       "_view_name": "LayoutView",
       "align_content": null,
       "align_items": null,
       "align_self": null,
       "border": null,
       "bottom": null,
       "display": null,
       "flex": null,
       "flex_flow": null,
       "grid_area": null,
       "grid_auto_columns": null,
       "grid_auto_flow": null,
       "grid_auto_rows": null,
       "grid_column": null,
       "grid_gap": null,
       "grid_row": null,
       "grid_template_areas": null,
       "grid_template_columns": null,
       "grid_template_rows": null,
       "height": null,
       "justify_content": null,
       "justify_items": null,
       "left": null,
       "margin": null,
       "max_height": null,
       "max_width": null,
       "min_height": null,
       "min_width": null,
       "object_fit": null,
       "object_position": null,
       "order": null,
       "overflow": null,
       "overflow_x": null,
       "overflow_y": null,
       "padding": null,
       "right": null,
       "top": null,
       "visibility": null,
       "width": null
      }
     },
     "84ca5a07c9534fe7b454a2b401f3e4c0": {
      "model_module": "@jupyter-widgets/controls",
      "model_module_version": "1.5.0",
      "model_name": "FloatProgressModel",
      "state": {
       "_dom_classes": [],
       "_model_module": "@jupyter-widgets/controls",
       "_model_module_version": "1.5.0",
       "_model_name": "FloatProgressModel",
       "_view_count": null,
       "_view_module": "@jupyter-widgets/controls",
       "_view_module_version": "1.5.0",
       "_view_name": "ProgressView",
       "bar_style": "",
       "description": "",
       "description_tooltip": null,
       "layout": "IPY_MODEL_3525c04f6e8d423a8c95f135694be236",
       "max": 300.0,
       "min": 0.0,
       "orientation": "horizontal",
       "style": "IPY_MODEL_faf835c5ec9948799c28c4a309b22a77",
       "value": 300.0
      }
     },
     "88f9fe692e6c4ebd9fb056e0c75d5cd8": {
      "model_module": "@jupyter-widgets/base",
      "model_module_version": "1.2.0",
      "model_name": "LayoutModel",
      "state": {
       "_model_module": "@jupyter-widgets/base",
       "_model_module_version": "1.2.0",
       "_model_name": "LayoutModel",
       "_view_count": null,
       "_view_module": "@jupyter-widgets/base",
       "_view_module_version": "1.2.0",
       "_view_name": "LayoutView",
       "align_content": null,
       "align_items": null,
       "align_self": null,
       "border": null,
       "bottom": null,
       "display": null,
       "flex": null,
       "flex_flow": null,
       "grid_area": null,
       "grid_auto_columns": null,
       "grid_auto_flow": null,
       "grid_auto_rows": null,
       "grid_column": null,
       "grid_gap": null,
       "grid_row": null,
       "grid_template_areas": null,
       "grid_template_columns": null,
       "grid_template_rows": null,
       "height": null,
       "justify_content": null,
       "justify_items": null,
       "left": null,
       "margin": null,
       "max_height": null,
       "max_width": null,
       "min_height": null,
       "min_width": null,
       "object_fit": null,
       "object_position": null,
       "order": null,
       "overflow": null,
       "overflow_x": null,
       "overflow_y": null,
       "padding": null,
       "right": null,
       "top": null,
       "visibility": null,
       "width": null
      }
     },
     "8dd5ac3cbb644185853817225a2c97e0": {
      "model_module": "@jupyter-widgets/controls",
      "model_module_version": "1.5.0",
      "model_name": "DescriptionStyleModel",
      "state": {
       "_model_module": "@jupyter-widgets/controls",
       "_model_module_version": "1.5.0",
       "_model_name": "DescriptionStyleModel",
       "_view_count": null,
       "_view_module": "@jupyter-widgets/base",
       "_view_module_version": "1.2.0",
       "_view_name": "StyleView",
       "description_width": ""
      }
     },
     "ca91f0a701484fae945eea1392d9b3f6": {
      "model_module": "@jupyter-widgets/base",
      "model_module_version": "1.2.0",
      "model_name": "LayoutModel",
      "state": {
       "_model_module": "@jupyter-widgets/base",
       "_model_module_version": "1.2.0",
       "_model_name": "LayoutModel",
       "_view_count": null,
       "_view_module": "@jupyter-widgets/base",
       "_view_module_version": "1.2.0",
       "_view_name": "LayoutView",
       "align_content": null,
       "align_items": null,
       "align_self": null,
       "border": null,
       "bottom": null,
       "display": null,
       "flex": null,
       "flex_flow": null,
       "grid_area": null,
       "grid_auto_columns": null,
       "grid_auto_flow": null,
       "grid_auto_rows": null,
       "grid_column": null,
       "grid_gap": null,
       "grid_row": null,
       "grid_template_areas": null,
       "grid_template_columns": null,
       "grid_template_rows": null,
       "height": null,
       "justify_content": null,
       "justify_items": null,
       "left": null,
       "margin": null,
       "max_height": null,
       "max_width": null,
       "min_height": null,
       "min_width": null,
       "object_fit": null,
       "object_position": null,
       "order": null,
       "overflow": null,
       "overflow_x": null,
       "overflow_y": null,
       "padding": null,
       "right": null,
       "top": null,
       "visibility": null,
       "width": null
      }
     },
     "d63ff4697b974d28826917c7e81a3439": {
      "model_module": "@jupyter-widgets/controls",
      "model_module_version": "1.5.0",
      "model_name": "HTMLModel",
      "state": {
       "_dom_classes": [],
       "_model_module": "@jupyter-widgets/controls",
       "_model_module_version": "1.5.0",
       "_model_name": "HTMLModel",
       "_view_count": null,
       "_view_module": "@jupyter-widgets/controls",
       "_view_module_version": "1.5.0",
       "_view_name": "HTMLView",
       "description": "",
       "description_tooltip": null,
       "layout": "IPY_MODEL_ca91f0a701484fae945eea1392d9b3f6",
       "placeholder": "​",
       "style": "IPY_MODEL_241459edb8164321a376c779305d15b0",
       "value": "Optimization Progress: 100%"
      }
     },
     "faf835c5ec9948799c28c4a309b22a77": {
      "model_module": "@jupyter-widgets/controls",
      "model_module_version": "1.5.0",
      "model_name": "ProgressStyleModel",
      "state": {
       "_model_module": "@jupyter-widgets/controls",
       "_model_module_version": "1.5.0",
       "_model_name": "ProgressStyleModel",
       "_view_count": null,
       "_view_module": "@jupyter-widgets/base",
       "_view_module_version": "1.2.0",
       "_view_name": "StyleView",
       "bar_color": null,
       "description_width": ""
      }
     }
    },
    "version_major": 2,
    "version_minor": 0
   }
  }
 },
 "nbformat": 4,
 "nbformat_minor": 5
}
