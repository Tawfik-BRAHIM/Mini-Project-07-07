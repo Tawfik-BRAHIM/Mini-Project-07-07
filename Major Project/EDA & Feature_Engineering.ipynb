{
 "cells": [
  {
   "cell_type": "markdown",
   "id": "a66ecb56",
   "metadata": {
    "papermill": {
     "duration": 0.015339,
     "end_time": "2022-07-25T19:14:01.265913",
     "exception": false,
     "start_time": "2022-07-25T19:14:01.250574",
     "status": "completed"
    },
    "tags": []
   },
   "source": [
    "# PROSPER LOAN DATA EDA & Feature Engineering"
   ]
  },
  {
   "cell_type": "code",
   "execution_count": 1,
   "id": "d5734cae",
   "metadata": {
    "_cell_guid": "b1076dfc-b9ad-4769-8c92-a6c4dae69d19",
    "_uuid": "8f2839f25d086af736a60e9eeb907d3b93b6e0e5",
    "execution": {
     "iopub.execute_input": "2022-07-25T19:14:01.297245Z",
     "iopub.status.busy": "2022-07-25T19:14:01.296511Z",
     "iopub.status.idle": "2022-07-25T19:14:02.935766Z",
     "shell.execute_reply": "2022-07-25T19:14:02.934261Z"
    },
    "papermill": {
     "duration": 1.657793,
     "end_time": "2022-07-25T19:14:02.938595",
     "exception": false,
     "start_time": "2022-07-25T19:14:01.280802",
     "status": "completed"
    },
    "tags": []
   },
   "outputs": [
    {
     "name": "stdout",
     "output_type": "stream",
     "text": [
      "Setup Complete\n"
     ]
    }
   ],
   "source": [
    "import numpy as np\n",
    "import pandas as pd\n",
    "import seaborn as sns\n",
    "import matplotlib.pyplot as plt\n",
    "from sklearn.model_selection import train_test_split\n",
    "from sklearn.datasets import make_classification\n",
    "from sklearn.linear_model import LogisticRegression\n",
    "from sklearn.metrics import confusion_matrix\n",
    "%matplotlib inline\n",
    "plt.style.use('seaborn-darkgrid')\n",
    "\n",
    "print(\"Setup Complete\")"
   ]
  },
  {
   "cell_type": "code",
   "execution_count": 2,
   "id": "2f40328e",
   "metadata": {
    "execution": {
     "iopub.execute_input": "2022-07-25T19:14:02.969182Z",
     "iopub.status.busy": "2022-07-25T19:14:02.968180Z",
     "iopub.status.idle": "2022-07-25T19:14:05.844395Z",
     "shell.execute_reply": "2022-07-25T19:14:05.842816Z"
    },
    "jupyter": {
     "source_hidden": true
    },
    "papermill": {
     "duration": 2.894513,
     "end_time": "2022-07-25T19:14:05.847222",
     "exception": false,
     "start_time": "2022-07-25T19:14:02.952709",
     "status": "completed"
    },
    "tags": []
   },
   "outputs": [
    {
     "name": "stdout",
     "output_type": "stream",
     "text": [
      "Setup Complete\n"
     ]
    }
   ],
   "source": [
    "#Importing the data base \n",
    "proposerloan_filepath = \"../input/prosper-loan/prosperLoanData.csv\"\n",
    "loan = pd.read_csv(proposerloan_filepath)\n",
    "np.random.seed(0) \n",
    "print(\"Setup Complete\")"
   ]
  },
  {
   "cell_type": "code",
   "execution_count": 3,
   "id": "abb5fe43",
   "metadata": {
    "execution": {
     "iopub.execute_input": "2022-07-25T19:14:05.877927Z",
     "iopub.status.busy": "2022-07-25T19:14:05.877542Z",
     "iopub.status.idle": "2022-07-25T19:14:05.888735Z",
     "shell.execute_reply": "2022-07-25T19:14:05.887472Z"
    },
    "papermill": {
     "duration": 0.02954,
     "end_time": "2022-07-25T19:14:05.890958",
     "exception": false,
     "start_time": "2022-07-25T19:14:05.861418",
     "status": "completed"
    },
    "tags": []
   },
   "outputs": [
    {
     "data": {
      "text/plain": [
       "Index(['ListingKey', 'ListingNumber', 'ListingCreationDate', 'CreditGrade',\n",
       "       'Term', 'LoanStatus', 'ClosedDate', 'BorrowerAPR', 'BorrowerRate',\n",
       "       'LenderYield', 'EstimatedEffectiveYield', 'EstimatedLoss',\n",
       "       'EstimatedReturn', 'ProsperRating (numeric)', 'ProsperRating (Alpha)',\n",
       "       'ProsperScore', 'ListingCategory (numeric)', 'BorrowerState',\n",
       "       'Occupation', 'EmploymentStatus', 'EmploymentStatusDuration',\n",
       "       'IsBorrowerHomeowner', 'CurrentlyInGroup', 'GroupKey',\n",
       "       'DateCreditPulled', 'CreditScoreRangeLower', 'CreditScoreRangeUpper',\n",
       "       'FirstRecordedCreditLine', 'CurrentCreditLines', 'OpenCreditLines',\n",
       "       'TotalCreditLinespast7years', 'OpenRevolvingAccounts',\n",
       "       'OpenRevolvingMonthlyPayment', 'InquiriesLast6Months', 'TotalInquiries',\n",
       "       'CurrentDelinquencies', 'AmountDelinquent', 'DelinquenciesLast7Years',\n",
       "       'PublicRecordsLast10Years', 'PublicRecordsLast12Months',\n",
       "       'RevolvingCreditBalance', 'BankcardUtilization',\n",
       "       'AvailableBankcardCredit', 'TotalTrades',\n",
       "       'TradesNeverDelinquent (percentage)', 'TradesOpenedLast6Months',\n",
       "       'DebtToIncomeRatio', 'IncomeRange', 'IncomeVerifiable',\n",
       "       'StatedMonthlyIncome', 'LoanKey', 'TotalProsperLoans',\n",
       "       'TotalProsperPaymentsBilled', 'OnTimeProsperPayments',\n",
       "       'ProsperPaymentsLessThanOneMonthLate',\n",
       "       'ProsperPaymentsOneMonthPlusLate', 'ProsperPrincipalBorrowed',\n",
       "       'ProsperPrincipalOutstanding', 'ScorexChangeAtTimeOfListing',\n",
       "       'LoanCurrentDaysDelinquent', 'LoanFirstDefaultedCycleNumber',\n",
       "       'LoanMonthsSinceOrigination', 'LoanNumber', 'LoanOriginalAmount',\n",
       "       'LoanOriginationDate', 'LoanOriginationQuarter', 'MemberKey',\n",
       "       'MonthlyLoanPayment', 'LP_CustomerPayments',\n",
       "       'LP_CustomerPrincipalPayments', 'LP_InterestandFees', 'LP_ServiceFees',\n",
       "       'LP_CollectionFees', 'LP_GrossPrincipalLoss', 'LP_NetPrincipalLoss',\n",
       "       'LP_NonPrincipalRecoverypayments', 'PercentFunded', 'Recommendations',\n",
       "       'InvestmentFromFriendsCount', 'InvestmentFromFriendsAmount',\n",
       "       'Investors'],\n",
       "      dtype='object')"
      ]
     },
     "execution_count": 3,
     "metadata": {},
     "output_type": "execute_result"
    }
   ],
   "source": [
    "loan.columns"
   ]
  },
  {
   "cell_type": "code",
   "execution_count": 4,
   "id": "89dcd137",
   "metadata": {
    "execution": {
     "iopub.execute_input": "2022-07-25T19:14:05.921625Z",
     "iopub.status.busy": "2022-07-25T19:14:05.920940Z",
     "iopub.status.idle": "2022-07-25T19:14:06.426019Z",
     "shell.execute_reply": "2022-07-25T19:14:06.424816Z"
    },
    "papermill": {
     "duration": 0.523307,
     "end_time": "2022-07-25T19:14:06.428702",
     "exception": false,
     "start_time": "2022-07-25T19:14:05.905395",
     "status": "completed"
    },
    "tags": []
   },
   "outputs": [
    {
     "data": {
      "text/html": [
       "<div>\n",
       "<style scoped>\n",
       "    .dataframe tbody tr th:only-of-type {\n",
       "        vertical-align: middle;\n",
       "    }\n",
       "\n",
       "    .dataframe tbody tr th {\n",
       "        vertical-align: top;\n",
       "    }\n",
       "\n",
       "    .dataframe thead th {\n",
       "        text-align: right;\n",
       "    }\n",
       "</style>\n",
       "<table border=\"1\" class=\"dataframe\">\n",
       "  <thead>\n",
       "    <tr style=\"text-align: right;\">\n",
       "      <th></th>\n",
       "      <th>ListingNumber</th>\n",
       "      <th>Term</th>\n",
       "      <th>BorrowerAPR</th>\n",
       "      <th>BorrowerRate</th>\n",
       "      <th>LenderYield</th>\n",
       "      <th>EstimatedEffectiveYield</th>\n",
       "      <th>EstimatedLoss</th>\n",
       "      <th>EstimatedReturn</th>\n",
       "      <th>ProsperRating (numeric)</th>\n",
       "      <th>ProsperScore</th>\n",
       "      <th>...</th>\n",
       "      <th>LP_ServiceFees</th>\n",
       "      <th>LP_CollectionFees</th>\n",
       "      <th>LP_GrossPrincipalLoss</th>\n",
       "      <th>LP_NetPrincipalLoss</th>\n",
       "      <th>LP_NonPrincipalRecoverypayments</th>\n",
       "      <th>PercentFunded</th>\n",
       "      <th>Recommendations</th>\n",
       "      <th>InvestmentFromFriendsCount</th>\n",
       "      <th>InvestmentFromFriendsAmount</th>\n",
       "      <th>Investors</th>\n",
       "    </tr>\n",
       "  </thead>\n",
       "  <tbody>\n",
       "    <tr>\n",
       "      <th>count</th>\n",
       "      <td>1.139370e+05</td>\n",
       "      <td>113937.000000</td>\n",
       "      <td>113912.000000</td>\n",
       "      <td>113937.000000</td>\n",
       "      <td>113937.000000</td>\n",
       "      <td>84853.000000</td>\n",
       "      <td>84853.000000</td>\n",
       "      <td>84853.000000</td>\n",
       "      <td>84853.000000</td>\n",
       "      <td>84853.000000</td>\n",
       "      <td>...</td>\n",
       "      <td>113937.000000</td>\n",
       "      <td>113937.000000</td>\n",
       "      <td>113937.000000</td>\n",
       "      <td>113937.000000</td>\n",
       "      <td>113937.000000</td>\n",
       "      <td>113937.000000</td>\n",
       "      <td>113937.000000</td>\n",
       "      <td>113937.000000</td>\n",
       "      <td>113937.000000</td>\n",
       "      <td>113937.000000</td>\n",
       "    </tr>\n",
       "    <tr>\n",
       "      <th>mean</th>\n",
       "      <td>6.278857e+05</td>\n",
       "      <td>40.830248</td>\n",
       "      <td>0.218828</td>\n",
       "      <td>0.192764</td>\n",
       "      <td>0.182701</td>\n",
       "      <td>0.168661</td>\n",
       "      <td>0.080306</td>\n",
       "      <td>0.096068</td>\n",
       "      <td>4.072243</td>\n",
       "      <td>5.950067</td>\n",
       "      <td>...</td>\n",
       "      <td>-54.725641</td>\n",
       "      <td>-14.242698</td>\n",
       "      <td>700.446342</td>\n",
       "      <td>681.420499</td>\n",
       "      <td>25.142686</td>\n",
       "      <td>0.998584</td>\n",
       "      <td>0.048027</td>\n",
       "      <td>0.023460</td>\n",
       "      <td>16.550751</td>\n",
       "      <td>80.475228</td>\n",
       "    </tr>\n",
       "    <tr>\n",
       "      <th>std</th>\n",
       "      <td>3.280762e+05</td>\n",
       "      <td>10.436212</td>\n",
       "      <td>0.080364</td>\n",
       "      <td>0.074818</td>\n",
       "      <td>0.074516</td>\n",
       "      <td>0.068467</td>\n",
       "      <td>0.046764</td>\n",
       "      <td>0.030403</td>\n",
       "      <td>1.673227</td>\n",
       "      <td>2.376501</td>\n",
       "      <td>...</td>\n",
       "      <td>60.675425</td>\n",
       "      <td>109.232758</td>\n",
       "      <td>2388.513831</td>\n",
       "      <td>2357.167068</td>\n",
       "      <td>275.657937</td>\n",
       "      <td>0.017919</td>\n",
       "      <td>0.332353</td>\n",
       "      <td>0.232412</td>\n",
       "      <td>294.545422</td>\n",
       "      <td>103.239020</td>\n",
       "    </tr>\n",
       "    <tr>\n",
       "      <th>min</th>\n",
       "      <td>4.000000e+00</td>\n",
       "      <td>12.000000</td>\n",
       "      <td>0.006530</td>\n",
       "      <td>0.000000</td>\n",
       "      <td>-0.010000</td>\n",
       "      <td>-0.182700</td>\n",
       "      <td>0.004900</td>\n",
       "      <td>-0.182700</td>\n",
       "      <td>1.000000</td>\n",
       "      <td>1.000000</td>\n",
       "      <td>...</td>\n",
       "      <td>-664.870000</td>\n",
       "      <td>-9274.750000</td>\n",
       "      <td>-94.200000</td>\n",
       "      <td>-954.550000</td>\n",
       "      <td>0.000000</td>\n",
       "      <td>0.700000</td>\n",
       "      <td>0.000000</td>\n",
       "      <td>0.000000</td>\n",
       "      <td>0.000000</td>\n",
       "      <td>1.000000</td>\n",
       "    </tr>\n",
       "    <tr>\n",
       "      <th>25%</th>\n",
       "      <td>4.009190e+05</td>\n",
       "      <td>36.000000</td>\n",
       "      <td>0.156290</td>\n",
       "      <td>0.134000</td>\n",
       "      <td>0.124200</td>\n",
       "      <td>0.115670</td>\n",
       "      <td>0.042400</td>\n",
       "      <td>0.074080</td>\n",
       "      <td>3.000000</td>\n",
       "      <td>4.000000</td>\n",
       "      <td>...</td>\n",
       "      <td>-73.180000</td>\n",
       "      <td>0.000000</td>\n",
       "      <td>0.000000</td>\n",
       "      <td>0.000000</td>\n",
       "      <td>0.000000</td>\n",
       "      <td>1.000000</td>\n",
       "      <td>0.000000</td>\n",
       "      <td>0.000000</td>\n",
       "      <td>0.000000</td>\n",
       "      <td>2.000000</td>\n",
       "    </tr>\n",
       "    <tr>\n",
       "      <th>50%</th>\n",
       "      <td>6.005540e+05</td>\n",
       "      <td>36.000000</td>\n",
       "      <td>0.209760</td>\n",
       "      <td>0.184000</td>\n",
       "      <td>0.173000</td>\n",
       "      <td>0.161500</td>\n",
       "      <td>0.072400</td>\n",
       "      <td>0.091700</td>\n",
       "      <td>4.000000</td>\n",
       "      <td>6.000000</td>\n",
       "      <td>...</td>\n",
       "      <td>-34.440000</td>\n",
       "      <td>0.000000</td>\n",
       "      <td>0.000000</td>\n",
       "      <td>0.000000</td>\n",
       "      <td>0.000000</td>\n",
       "      <td>1.000000</td>\n",
       "      <td>0.000000</td>\n",
       "      <td>0.000000</td>\n",
       "      <td>0.000000</td>\n",
       "      <td>44.000000</td>\n",
       "    </tr>\n",
       "    <tr>\n",
       "      <th>75%</th>\n",
       "      <td>8.926340e+05</td>\n",
       "      <td>36.000000</td>\n",
       "      <td>0.283810</td>\n",
       "      <td>0.250000</td>\n",
       "      <td>0.240000</td>\n",
       "      <td>0.224300</td>\n",
       "      <td>0.112000</td>\n",
       "      <td>0.116600</td>\n",
       "      <td>5.000000</td>\n",
       "      <td>8.000000</td>\n",
       "      <td>...</td>\n",
       "      <td>-13.920000</td>\n",
       "      <td>0.000000</td>\n",
       "      <td>0.000000</td>\n",
       "      <td>0.000000</td>\n",
       "      <td>0.000000</td>\n",
       "      <td>1.000000</td>\n",
       "      <td>0.000000</td>\n",
       "      <td>0.000000</td>\n",
       "      <td>0.000000</td>\n",
       "      <td>115.000000</td>\n",
       "    </tr>\n",
       "    <tr>\n",
       "      <th>max</th>\n",
       "      <td>1.255725e+06</td>\n",
       "      <td>60.000000</td>\n",
       "      <td>0.512290</td>\n",
       "      <td>0.497500</td>\n",
       "      <td>0.492500</td>\n",
       "      <td>0.319900</td>\n",
       "      <td>0.366000</td>\n",
       "      <td>0.283700</td>\n",
       "      <td>7.000000</td>\n",
       "      <td>11.000000</td>\n",
       "      <td>...</td>\n",
       "      <td>32.060000</td>\n",
       "      <td>0.000000</td>\n",
       "      <td>25000.000000</td>\n",
       "      <td>25000.000000</td>\n",
       "      <td>21117.900000</td>\n",
       "      <td>1.012500</td>\n",
       "      <td>39.000000</td>\n",
       "      <td>33.000000</td>\n",
       "      <td>25000.000000</td>\n",
       "      <td>1189.000000</td>\n",
       "    </tr>\n",
       "  </tbody>\n",
       "</table>\n",
       "<p>8 rows × 61 columns</p>\n",
       "</div>"
      ],
      "text/plain": [
       "       ListingNumber           Term    BorrowerAPR   BorrowerRate  \\\n",
       "count   1.139370e+05  113937.000000  113912.000000  113937.000000   \n",
       "mean    6.278857e+05      40.830248       0.218828       0.192764   \n",
       "std     3.280762e+05      10.436212       0.080364       0.074818   \n",
       "min     4.000000e+00      12.000000       0.006530       0.000000   \n",
       "25%     4.009190e+05      36.000000       0.156290       0.134000   \n",
       "50%     6.005540e+05      36.000000       0.209760       0.184000   \n",
       "75%     8.926340e+05      36.000000       0.283810       0.250000   \n",
       "max     1.255725e+06      60.000000       0.512290       0.497500   \n",
       "\n",
       "         LenderYield  EstimatedEffectiveYield  EstimatedLoss  EstimatedReturn  \\\n",
       "count  113937.000000             84853.000000   84853.000000     84853.000000   \n",
       "mean        0.182701                 0.168661       0.080306         0.096068   \n",
       "std         0.074516                 0.068467       0.046764         0.030403   \n",
       "min        -0.010000                -0.182700       0.004900        -0.182700   \n",
       "25%         0.124200                 0.115670       0.042400         0.074080   \n",
       "50%         0.173000                 0.161500       0.072400         0.091700   \n",
       "75%         0.240000                 0.224300       0.112000         0.116600   \n",
       "max         0.492500                 0.319900       0.366000         0.283700   \n",
       "\n",
       "       ProsperRating (numeric)  ProsperScore  ...  LP_ServiceFees  \\\n",
       "count             84853.000000  84853.000000  ...   113937.000000   \n",
       "mean                  4.072243      5.950067  ...      -54.725641   \n",
       "std                   1.673227      2.376501  ...       60.675425   \n",
       "min                   1.000000      1.000000  ...     -664.870000   \n",
       "25%                   3.000000      4.000000  ...      -73.180000   \n",
       "50%                   4.000000      6.000000  ...      -34.440000   \n",
       "75%                   5.000000      8.000000  ...      -13.920000   \n",
       "max                   7.000000     11.000000  ...       32.060000   \n",
       "\n",
       "       LP_CollectionFees  LP_GrossPrincipalLoss  LP_NetPrincipalLoss  \\\n",
       "count      113937.000000          113937.000000        113937.000000   \n",
       "mean          -14.242698             700.446342           681.420499   \n",
       "std           109.232758            2388.513831          2357.167068   \n",
       "min         -9274.750000             -94.200000          -954.550000   \n",
       "25%             0.000000               0.000000             0.000000   \n",
       "50%             0.000000               0.000000             0.000000   \n",
       "75%             0.000000               0.000000             0.000000   \n",
       "max             0.000000           25000.000000         25000.000000   \n",
       "\n",
       "       LP_NonPrincipalRecoverypayments  PercentFunded  Recommendations  \\\n",
       "count                    113937.000000  113937.000000    113937.000000   \n",
       "mean                         25.142686       0.998584         0.048027   \n",
       "std                         275.657937       0.017919         0.332353   \n",
       "min                           0.000000       0.700000         0.000000   \n",
       "25%                           0.000000       1.000000         0.000000   \n",
       "50%                           0.000000       1.000000         0.000000   \n",
       "75%                           0.000000       1.000000         0.000000   \n",
       "max                       21117.900000       1.012500        39.000000   \n",
       "\n",
       "       InvestmentFromFriendsCount  InvestmentFromFriendsAmount      Investors  \n",
       "count               113937.000000                113937.000000  113937.000000  \n",
       "mean                     0.023460                    16.550751      80.475228  \n",
       "std                      0.232412                   294.545422     103.239020  \n",
       "min                      0.000000                     0.000000       1.000000  \n",
       "25%                      0.000000                     0.000000       2.000000  \n",
       "50%                      0.000000                     0.000000      44.000000  \n",
       "75%                      0.000000                     0.000000     115.000000  \n",
       "max                     33.000000                 25000.000000    1189.000000  \n",
       "\n",
       "[8 rows x 61 columns]"
      ]
     },
     "execution_count": 4,
     "metadata": {},
     "output_type": "execute_result"
    }
   ],
   "source": [
    "loan.describe()\n"
   ]
  },
  {
   "cell_type": "code",
   "execution_count": 5,
   "id": "7125be28",
   "metadata": {
    "execution": {
     "iopub.execute_input": "2022-07-25T19:14:06.460203Z",
     "iopub.status.busy": "2022-07-25T19:14:06.459820Z",
     "iopub.status.idle": "2022-07-25T19:14:07.729842Z",
     "shell.execute_reply": "2022-07-25T19:14:07.728413Z"
    },
    "papermill": {
     "duration": 1.288701,
     "end_time": "2022-07-25T19:14:07.732420",
     "exception": false,
     "start_time": "2022-07-25T19:14:06.443719",
     "status": "completed"
    },
    "tags": []
   },
   "outputs": [
    {
     "data": {
      "text/html": [
       "<div>\n",
       "<style scoped>\n",
       "    .dataframe tbody tr th:only-of-type {\n",
       "        vertical-align: middle;\n",
       "    }\n",
       "\n",
       "    .dataframe tbody tr th {\n",
       "        vertical-align: top;\n",
       "    }\n",
       "\n",
       "    .dataframe thead th {\n",
       "        text-align: right;\n",
       "    }\n",
       "</style>\n",
       "<table border=\"1\" class=\"dataframe\">\n",
       "  <thead>\n",
       "    <tr style=\"text-align: right;\">\n",
       "      <th></th>\n",
       "      <th>ListingNumber</th>\n",
       "      <th>Term</th>\n",
       "      <th>BorrowerAPR</th>\n",
       "      <th>BorrowerRate</th>\n",
       "      <th>LenderYield</th>\n",
       "      <th>EstimatedEffectiveYield</th>\n",
       "      <th>EstimatedLoss</th>\n",
       "      <th>EstimatedReturn</th>\n",
       "      <th>ProsperRating (numeric)</th>\n",
       "      <th>ProsperScore</th>\n",
       "      <th>...</th>\n",
       "      <th>LP_ServiceFees</th>\n",
       "      <th>LP_CollectionFees</th>\n",
       "      <th>LP_GrossPrincipalLoss</th>\n",
       "      <th>LP_NetPrincipalLoss</th>\n",
       "      <th>LP_NonPrincipalRecoverypayments</th>\n",
       "      <th>PercentFunded</th>\n",
       "      <th>Recommendations</th>\n",
       "      <th>InvestmentFromFriendsCount</th>\n",
       "      <th>InvestmentFromFriendsAmount</th>\n",
       "      <th>Investors</th>\n",
       "    </tr>\n",
       "  </thead>\n",
       "  <tbody>\n",
       "    <tr>\n",
       "      <th>ListingNumber</th>\n",
       "      <td>1.000000</td>\n",
       "      <td>0.319971</td>\n",
       "      <td>-0.031520</td>\n",
       "      <td>-0.114391</td>\n",
       "      <td>-0.113544</td>\n",
       "      <td>-0.217721</td>\n",
       "      <td>-0.239568</td>\n",
       "      <td>-0.461391</td>\n",
       "      <td>0.209200</td>\n",
       "      <td>-0.106235</td>\n",
       "      <td>...</td>\n",
       "      <td>0.208286</td>\n",
       "      <td>0.104191</td>\n",
       "      <td>-0.251739</td>\n",
       "      <td>-0.247716</td>\n",
       "      <td>-0.096004</td>\n",
       "      <td>0.014688</td>\n",
       "      <td>-0.126031</td>\n",
       "      <td>-0.092813</td>\n",
       "      <td>-0.053481</td>\n",
       "      <td>-0.279659</td>\n",
       "    </tr>\n",
       "    <tr>\n",
       "      <th>Term</th>\n",
       "      <td>0.319971</td>\n",
       "      <td>1.000000</td>\n",
       "      <td>-0.011183</td>\n",
       "      <td>0.020085</td>\n",
       "      <td>0.020556</td>\n",
       "      <td>0.057047</td>\n",
       "      <td>-0.107140</td>\n",
       "      <td>0.152505</td>\n",
       "      <td>0.079179</td>\n",
       "      <td>0.028947</td>\n",
       "      <td>...</td>\n",
       "      <td>-0.167600</td>\n",
       "      <td>0.035841</td>\n",
       "      <td>-0.038353</td>\n",
       "      <td>-0.035981</td>\n",
       "      <td>-0.034157</td>\n",
       "      <td>-0.028806</td>\n",
       "      <td>-0.056680</td>\n",
       "      <td>-0.043507</td>\n",
       "      <td>-0.024472</td>\n",
       "      <td>-0.045137</td>\n",
       "    </tr>\n",
       "    <tr>\n",
       "      <th>BorrowerAPR</th>\n",
       "      <td>-0.031520</td>\n",
       "      <td>-0.011183</td>\n",
       "      <td>1.000000</td>\n",
       "      <td>0.989824</td>\n",
       "      <td>0.989329</td>\n",
       "      <td>0.895635</td>\n",
       "      <td>0.949538</td>\n",
       "      <td>0.794275</td>\n",
       "      <td>-0.962151</td>\n",
       "      <td>-0.668287</td>\n",
       "      <td>...</td>\n",
       "      <td>0.116974</td>\n",
       "      <td>-0.041452</td>\n",
       "      <td>0.067301</td>\n",
       "      <td>0.067385</td>\n",
       "      <td>0.028519</td>\n",
       "      <td>-0.028236</td>\n",
       "      <td>-0.044236</td>\n",
       "      <td>-0.046757</td>\n",
       "      <td>-0.031841</td>\n",
       "      <td>-0.307606</td>\n",
       "    </tr>\n",
       "    <tr>\n",
       "      <th>BorrowerRate</th>\n",
       "      <td>-0.114391</td>\n",
       "      <td>0.020085</td>\n",
       "      <td>0.989824</td>\n",
       "      <td>1.000000</td>\n",
       "      <td>0.999211</td>\n",
       "      <td>0.895282</td>\n",
       "      <td>0.945297</td>\n",
       "      <td>0.817670</td>\n",
       "      <td>-0.953105</td>\n",
       "      <td>-0.649736</td>\n",
       "      <td>...</td>\n",
       "      <td>0.095993</td>\n",
       "      <td>-0.053378</td>\n",
       "      <td>0.100635</td>\n",
       "      <td>0.100308</td>\n",
       "      <td>0.042059</td>\n",
       "      <td>-0.029025</td>\n",
       "      <td>-0.030579</td>\n",
       "      <td>-0.037312</td>\n",
       "      <td>-0.026512</td>\n",
       "      <td>-0.274217</td>\n",
       "    </tr>\n",
       "    <tr>\n",
       "      <th>LenderYield</th>\n",
       "      <td>-0.113544</td>\n",
       "      <td>0.020556</td>\n",
       "      <td>0.989329</td>\n",
       "      <td>0.999211</td>\n",
       "      <td>1.000000</td>\n",
       "      <td>0.895343</td>\n",
       "      <td>0.945308</td>\n",
       "      <td>0.817654</td>\n",
       "      <td>-0.953119</td>\n",
       "      <td>-0.649783</td>\n",
       "      <td>...</td>\n",
       "      <td>0.097854</td>\n",
       "      <td>-0.052954</td>\n",
       "      <td>0.099506</td>\n",
       "      <td>0.099195</td>\n",
       "      <td>0.041025</td>\n",
       "      <td>-0.029209</td>\n",
       "      <td>-0.031069</td>\n",
       "      <td>-0.037302</td>\n",
       "      <td>-0.026632</td>\n",
       "      <td>-0.274174</td>\n",
       "    </tr>\n",
       "    <tr>\n",
       "      <th>...</th>\n",
       "      <td>...</td>\n",
       "      <td>...</td>\n",
       "      <td>...</td>\n",
       "      <td>...</td>\n",
       "      <td>...</td>\n",
       "      <td>...</td>\n",
       "      <td>...</td>\n",
       "      <td>...</td>\n",
       "      <td>...</td>\n",
       "      <td>...</td>\n",
       "      <td>...</td>\n",
       "      <td>...</td>\n",
       "      <td>...</td>\n",
       "      <td>...</td>\n",
       "      <td>...</td>\n",
       "      <td>...</td>\n",
       "      <td>...</td>\n",
       "      <td>...</td>\n",
       "      <td>...</td>\n",
       "      <td>...</td>\n",
       "      <td>...</td>\n",
       "    </tr>\n",
       "    <tr>\n",
       "      <th>PercentFunded</th>\n",
       "      <td>0.014688</td>\n",
       "      <td>-0.028806</td>\n",
       "      <td>-0.028236</td>\n",
       "      <td>-0.029025</td>\n",
       "      <td>-0.029209</td>\n",
       "      <td>-0.043366</td>\n",
       "      <td>-0.022738</td>\n",
       "      <td>-0.039422</td>\n",
       "      <td>0.012491</td>\n",
       "      <td>-0.019344</td>\n",
       "      <td>...</td>\n",
       "      <td>0.069591</td>\n",
       "      <td>0.006186</td>\n",
       "      <td>-0.013144</td>\n",
       "      <td>-0.013578</td>\n",
       "      <td>0.000776</td>\n",
       "      <td>1.000000</td>\n",
       "      <td>0.009604</td>\n",
       "      <td>0.001622</td>\n",
       "      <td>0.003338</td>\n",
       "      <td>-0.049716</td>\n",
       "    </tr>\n",
       "    <tr>\n",
       "      <th>Recommendations</th>\n",
       "      <td>-0.126031</td>\n",
       "      <td>-0.056680</td>\n",
       "      <td>-0.044236</td>\n",
       "      <td>-0.030579</td>\n",
       "      <td>-0.031069</td>\n",
       "      <td>-0.046694</td>\n",
       "      <td>0.004081</td>\n",
       "      <td>-0.019886</td>\n",
       "      <td>0.004772</td>\n",
       "      <td>0.026658</td>\n",
       "      <td>...</td>\n",
       "      <td>-0.039016</td>\n",
       "      <td>-0.015910</td>\n",
       "      <td>0.041372</td>\n",
       "      <td>0.040897</td>\n",
       "      <td>0.016845</td>\n",
       "      <td>0.009604</td>\n",
       "      <td>1.000000</td>\n",
       "      <td>0.718079</td>\n",
       "      <td>0.322062</td>\n",
       "      <td>0.073824</td>\n",
       "    </tr>\n",
       "    <tr>\n",
       "      <th>InvestmentFromFriendsCount</th>\n",
       "      <td>-0.092813</td>\n",
       "      <td>-0.043507</td>\n",
       "      <td>-0.046757</td>\n",
       "      <td>-0.037312</td>\n",
       "      <td>-0.037302</td>\n",
       "      <td>-0.063848</td>\n",
       "      <td>0.009475</td>\n",
       "      <td>-0.043022</td>\n",
       "      <td>0.007746</td>\n",
       "      <td>0.028343</td>\n",
       "      <td>...</td>\n",
       "      <td>-0.035004</td>\n",
       "      <td>-0.008319</td>\n",
       "      <td>0.020932</td>\n",
       "      <td>0.020350</td>\n",
       "      <td>0.010109</td>\n",
       "      <td>0.001622</td>\n",
       "      <td>0.718079</td>\n",
       "      <td>1.000000</td>\n",
       "      <td>0.483506</td>\n",
       "      <td>0.058773</td>\n",
       "    </tr>\n",
       "    <tr>\n",
       "      <th>InvestmentFromFriendsAmount</th>\n",
       "      <td>-0.053481</td>\n",
       "      <td>-0.024472</td>\n",
       "      <td>-0.031841</td>\n",
       "      <td>-0.026512</td>\n",
       "      <td>-0.026632</td>\n",
       "      <td>-0.038146</td>\n",
       "      <td>0.024555</td>\n",
       "      <td>-0.031902</td>\n",
       "      <td>-0.010459</td>\n",
       "      <td>0.003131</td>\n",
       "      <td>...</td>\n",
       "      <td>-0.056675</td>\n",
       "      <td>-0.010141</td>\n",
       "      <td>0.028762</td>\n",
       "      <td>0.028301</td>\n",
       "      <td>0.018604</td>\n",
       "      <td>0.003338</td>\n",
       "      <td>0.322062</td>\n",
       "      <td>0.483506</td>\n",
       "      <td>1.000000</td>\n",
       "      <td>0.012178</td>\n",
       "    </tr>\n",
       "    <tr>\n",
       "      <th>Investors</th>\n",
       "      <td>-0.279659</td>\n",
       "      <td>-0.045137</td>\n",
       "      <td>-0.307606</td>\n",
       "      <td>-0.274217</td>\n",
       "      <td>-0.274174</td>\n",
       "      <td>-0.265244</td>\n",
       "      <td>-0.275501</td>\n",
       "      <td>-0.092337</td>\n",
       "      <td>0.307753</td>\n",
       "      <td>0.320594</td>\n",
       "      <td>...</td>\n",
       "      <td>-0.524836</td>\n",
       "      <td>-0.074550</td>\n",
       "      <td>0.219807</td>\n",
       "      <td>0.216049</td>\n",
       "      <td>0.066970</td>\n",
       "      <td>-0.049716</td>\n",
       "      <td>0.073824</td>\n",
       "      <td>0.058773</td>\n",
       "      <td>0.012178</td>\n",
       "      <td>1.000000</td>\n",
       "    </tr>\n",
       "  </tbody>\n",
       "</table>\n",
       "<p>64 rows × 64 columns</p>\n",
       "</div>"
      ],
      "text/plain": [
       "                             ListingNumber      Term  BorrowerAPR  \\\n",
       "ListingNumber                     1.000000  0.319971    -0.031520   \n",
       "Term                              0.319971  1.000000    -0.011183   \n",
       "BorrowerAPR                      -0.031520 -0.011183     1.000000   \n",
       "BorrowerRate                     -0.114391  0.020085     0.989824   \n",
       "LenderYield                      -0.113544  0.020556     0.989329   \n",
       "...                                    ...       ...          ...   \n",
       "PercentFunded                     0.014688 -0.028806    -0.028236   \n",
       "Recommendations                  -0.126031 -0.056680    -0.044236   \n",
       "InvestmentFromFriendsCount       -0.092813 -0.043507    -0.046757   \n",
       "InvestmentFromFriendsAmount      -0.053481 -0.024472    -0.031841   \n",
       "Investors                        -0.279659 -0.045137    -0.307606   \n",
       "\n",
       "                             BorrowerRate  LenderYield  \\\n",
       "ListingNumber                   -0.114391    -0.113544   \n",
       "Term                             0.020085     0.020556   \n",
       "BorrowerAPR                      0.989824     0.989329   \n",
       "BorrowerRate                     1.000000     0.999211   \n",
       "LenderYield                      0.999211     1.000000   \n",
       "...                                   ...          ...   \n",
       "PercentFunded                   -0.029025    -0.029209   \n",
       "Recommendations                 -0.030579    -0.031069   \n",
       "InvestmentFromFriendsCount      -0.037312    -0.037302   \n",
       "InvestmentFromFriendsAmount     -0.026512    -0.026632   \n",
       "Investors                       -0.274217    -0.274174   \n",
       "\n",
       "                             EstimatedEffectiveYield  EstimatedLoss  \\\n",
       "ListingNumber                              -0.217721      -0.239568   \n",
       "Term                                        0.057047      -0.107140   \n",
       "BorrowerAPR                                 0.895635       0.949538   \n",
       "BorrowerRate                                0.895282       0.945297   \n",
       "LenderYield                                 0.895343       0.945308   \n",
       "...                                              ...            ...   \n",
       "PercentFunded                              -0.043366      -0.022738   \n",
       "Recommendations                            -0.046694       0.004081   \n",
       "InvestmentFromFriendsCount                 -0.063848       0.009475   \n",
       "InvestmentFromFriendsAmount                -0.038146       0.024555   \n",
       "Investors                                  -0.265244      -0.275501   \n",
       "\n",
       "                             EstimatedReturn  ProsperRating (numeric)  \\\n",
       "ListingNumber                      -0.461391                 0.209200   \n",
       "Term                                0.152505                 0.079179   \n",
       "BorrowerAPR                         0.794275                -0.962151   \n",
       "BorrowerRate                        0.817670                -0.953105   \n",
       "LenderYield                         0.817654                -0.953119   \n",
       "...                                      ...                      ...   \n",
       "PercentFunded                      -0.039422                 0.012491   \n",
       "Recommendations                    -0.019886                 0.004772   \n",
       "InvestmentFromFriendsCount         -0.043022                 0.007746   \n",
       "InvestmentFromFriendsAmount        -0.031902                -0.010459   \n",
       "Investors                          -0.092337                 0.307753   \n",
       "\n",
       "                             ProsperScore  ...  LP_ServiceFees  \\\n",
       "ListingNumber                   -0.106235  ...        0.208286   \n",
       "Term                             0.028947  ...       -0.167600   \n",
       "BorrowerAPR                     -0.668287  ...        0.116974   \n",
       "BorrowerRate                    -0.649736  ...        0.095993   \n",
       "LenderYield                     -0.649783  ...        0.097854   \n",
       "...                                   ...  ...             ...   \n",
       "PercentFunded                   -0.019344  ...        0.069591   \n",
       "Recommendations                  0.026658  ...       -0.039016   \n",
       "InvestmentFromFriendsCount       0.028343  ...       -0.035004   \n",
       "InvestmentFromFriendsAmount      0.003131  ...       -0.056675   \n",
       "Investors                        0.320594  ...       -0.524836   \n",
       "\n",
       "                             LP_CollectionFees  LP_GrossPrincipalLoss  \\\n",
       "ListingNumber                         0.104191              -0.251739   \n",
       "Term                                  0.035841              -0.038353   \n",
       "BorrowerAPR                          -0.041452               0.067301   \n",
       "BorrowerRate                         -0.053378               0.100635   \n",
       "LenderYield                          -0.052954               0.099506   \n",
       "...                                        ...                    ...   \n",
       "PercentFunded                         0.006186              -0.013144   \n",
       "Recommendations                      -0.015910               0.041372   \n",
       "InvestmentFromFriendsCount           -0.008319               0.020932   \n",
       "InvestmentFromFriendsAmount          -0.010141               0.028762   \n",
       "Investors                            -0.074550               0.219807   \n",
       "\n",
       "                             LP_NetPrincipalLoss  \\\n",
       "ListingNumber                          -0.247716   \n",
       "Term                                   -0.035981   \n",
       "BorrowerAPR                             0.067385   \n",
       "BorrowerRate                            0.100308   \n",
       "LenderYield                             0.099195   \n",
       "...                                          ...   \n",
       "PercentFunded                          -0.013578   \n",
       "Recommendations                         0.040897   \n",
       "InvestmentFromFriendsCount              0.020350   \n",
       "InvestmentFromFriendsAmount             0.028301   \n",
       "Investors                               0.216049   \n",
       "\n",
       "                             LP_NonPrincipalRecoverypayments  PercentFunded  \\\n",
       "ListingNumber                                      -0.096004       0.014688   \n",
       "Term                                               -0.034157      -0.028806   \n",
       "BorrowerAPR                                         0.028519      -0.028236   \n",
       "BorrowerRate                                        0.042059      -0.029025   \n",
       "LenderYield                                         0.041025      -0.029209   \n",
       "...                                                      ...            ...   \n",
       "PercentFunded                                       0.000776       1.000000   \n",
       "Recommendations                                     0.016845       0.009604   \n",
       "InvestmentFromFriendsCount                          0.010109       0.001622   \n",
       "InvestmentFromFriendsAmount                         0.018604       0.003338   \n",
       "Investors                                           0.066970      -0.049716   \n",
       "\n",
       "                             Recommendations  InvestmentFromFriendsCount  \\\n",
       "ListingNumber                      -0.126031                   -0.092813   \n",
       "Term                               -0.056680                   -0.043507   \n",
       "BorrowerAPR                        -0.044236                   -0.046757   \n",
       "BorrowerRate                       -0.030579                   -0.037312   \n",
       "LenderYield                        -0.031069                   -0.037302   \n",
       "...                                      ...                         ...   \n",
       "PercentFunded                       0.009604                    0.001622   \n",
       "Recommendations                     1.000000                    0.718079   \n",
       "InvestmentFromFriendsCount          0.718079                    1.000000   \n",
       "InvestmentFromFriendsAmount         0.322062                    0.483506   \n",
       "Investors                           0.073824                    0.058773   \n",
       "\n",
       "                             InvestmentFromFriendsAmount  Investors  \n",
       "ListingNumber                                  -0.053481  -0.279659  \n",
       "Term                                           -0.024472  -0.045137  \n",
       "BorrowerAPR                                    -0.031841  -0.307606  \n",
       "BorrowerRate                                   -0.026512  -0.274217  \n",
       "LenderYield                                    -0.026632  -0.274174  \n",
       "...                                                  ...        ...  \n",
       "PercentFunded                                   0.003338  -0.049716  \n",
       "Recommendations                                 0.322062   0.073824  \n",
       "InvestmentFromFriendsCount                      0.483506   0.058773  \n",
       "InvestmentFromFriendsAmount                     1.000000   0.012178  \n",
       "Investors                                       0.012178   1.000000  \n",
       "\n",
       "[64 rows x 64 columns]"
      ]
     },
     "execution_count": 5,
     "metadata": {},
     "output_type": "execute_result"
    }
   ],
   "source": [
    "loan.corr()"
   ]
  },
  {
   "cell_type": "code",
   "execution_count": 6,
   "id": "e6d8f4c5",
   "metadata": {
    "execution": {
     "iopub.execute_input": "2022-07-25T19:14:07.765374Z",
     "iopub.status.busy": "2022-07-25T19:14:07.764968Z",
     "iopub.status.idle": "2022-07-25T19:14:08.203373Z",
     "shell.execute_reply": "2022-07-25T19:14:08.201191Z"
    },
    "papermill": {
     "duration": 0.458344,
     "end_time": "2022-07-25T19:14:08.206333",
     "exception": false,
     "start_time": "2022-07-25T19:14:07.747989",
     "status": "completed"
    },
    "tags": []
   },
   "outputs": [
    {
     "name": "stdout",
     "output_type": "stream",
     "text": [
      "Missing values per collumn : \n",
      " ListingKey                         0\n",
      "ListingNumber                      0\n",
      "ListingCreationDate                0\n",
      "CreditGrade                    84984\n",
      "Term                               0\n",
      "                               ...  \n",
      "PercentFunded                      0\n",
      "Recommendations                    0\n",
      "InvestmentFromFriendsCount         0\n",
      "InvestmentFromFriendsAmount        0\n",
      "Investors                          0\n",
      "Length: 81, dtype: int64\n",
      "\n",
      " Total missing values :  1364086\n",
      "\n",
      " Missing values percentage :  14.780596207759173 %\n",
      "\n",
      " \n",
      "<class 'pandas.core.frame.DataFrame'>\n",
      "RangeIndex: 113937 entries, 0 to 113936\n",
      "Data columns (total 81 columns):\n",
      " #   Column                               Non-Null Count   Dtype  \n",
      "---  ------                               --------------   -----  \n",
      " 0   ListingKey                           113937 non-null  object \n",
      " 1   ListingNumber                        113937 non-null  int64  \n",
      " 2   ListingCreationDate                  113937 non-null  object \n",
      " 3   CreditGrade                          28953 non-null   object \n",
      " 4   Term                                 113937 non-null  int64  \n",
      " 5   LoanStatus                           113937 non-null  object \n",
      " 6   ClosedDate                           55089 non-null   object \n",
      " 7   BorrowerAPR                          113912 non-null  float64\n",
      " 8   BorrowerRate                         113937 non-null  float64\n",
      " 9   LenderYield                          113937 non-null  float64\n",
      " 10  EstimatedEffectiveYield              84853 non-null   float64\n",
      " 11  EstimatedLoss                        84853 non-null   float64\n",
      " 12  EstimatedReturn                      84853 non-null   float64\n",
      " 13  ProsperRating (numeric)              84853 non-null   float64\n",
      " 14  ProsperRating (Alpha)                84853 non-null   object \n",
      " 15  ProsperScore                         84853 non-null   float64\n",
      " 16  ListingCategory (numeric)            113937 non-null  int64  \n",
      " 17  BorrowerState                        108422 non-null  object \n",
      " 18  Occupation                           110349 non-null  object \n",
      " 19  EmploymentStatus                     111682 non-null  object \n",
      " 20  EmploymentStatusDuration             106312 non-null  float64\n",
      " 21  IsBorrowerHomeowner                  113937 non-null  bool   \n",
      " 22  CurrentlyInGroup                     113937 non-null  bool   \n",
      " 23  GroupKey                             13341 non-null   object \n",
      " 24  DateCreditPulled                     113937 non-null  object \n",
      " 25  CreditScoreRangeLower                113346 non-null  float64\n",
      " 26  CreditScoreRangeUpper                113346 non-null  float64\n",
      " 27  FirstRecordedCreditLine              113240 non-null  object \n",
      " 28  CurrentCreditLines                   106333 non-null  float64\n",
      " 29  OpenCreditLines                      106333 non-null  float64\n",
      " 30  TotalCreditLinespast7years           113240 non-null  float64\n",
      " 31  OpenRevolvingAccounts                113937 non-null  int64  \n",
      " 32  OpenRevolvingMonthlyPayment          113937 non-null  float64\n",
      " 33  InquiriesLast6Months                 113240 non-null  float64\n",
      " 34  TotalInquiries                       112778 non-null  float64\n",
      " 35  CurrentDelinquencies                 113240 non-null  float64\n",
      " 36  AmountDelinquent                     106315 non-null  float64\n",
      " 37  DelinquenciesLast7Years              112947 non-null  float64\n",
      " 38  PublicRecordsLast10Years             113240 non-null  float64\n",
      " 39  PublicRecordsLast12Months            106333 non-null  float64\n",
      " 40  RevolvingCreditBalance               106333 non-null  float64\n",
      " 41  BankcardUtilization                  106333 non-null  float64\n",
      " 42  AvailableBankcardCredit              106393 non-null  float64\n",
      " 43  TotalTrades                          106393 non-null  float64\n",
      " 44  TradesNeverDelinquent (percentage)   106393 non-null  float64\n",
      " 45  TradesOpenedLast6Months              106393 non-null  float64\n",
      " 46  DebtToIncomeRatio                    105383 non-null  float64\n",
      " 47  IncomeRange                          113937 non-null  object \n",
      " 48  IncomeVerifiable                     113937 non-null  bool   \n",
      " 49  StatedMonthlyIncome                  113937 non-null  float64\n",
      " 50  LoanKey                              113937 non-null  object \n",
      " 51  TotalProsperLoans                    22085 non-null   float64\n",
      " 52  TotalProsperPaymentsBilled           22085 non-null   float64\n",
      " 53  OnTimeProsperPayments                22085 non-null   float64\n",
      " 54  ProsperPaymentsLessThanOneMonthLate  22085 non-null   float64\n",
      " 55  ProsperPaymentsOneMonthPlusLate      22085 non-null   float64\n",
      " 56  ProsperPrincipalBorrowed             22085 non-null   float64\n",
      " 57  ProsperPrincipalOutstanding          22085 non-null   float64\n",
      " 58  ScorexChangeAtTimeOfListing          18928 non-null   float64\n",
      " 59  LoanCurrentDaysDelinquent            113937 non-null  int64  \n",
      " 60  LoanFirstDefaultedCycleNumber        16952 non-null   float64\n",
      " 61  LoanMonthsSinceOrigination           113937 non-null  int64  \n",
      " 62  LoanNumber                           113937 non-null  int64  \n",
      " 63  LoanOriginalAmount                   113937 non-null  int64  \n",
      " 64  LoanOriginationDate                  113937 non-null  object \n",
      " 65  LoanOriginationQuarter               113937 non-null  object \n",
      " 66  MemberKey                            113937 non-null  object \n",
      " 67  MonthlyLoanPayment                   113937 non-null  float64\n",
      " 68  LP_CustomerPayments                  113937 non-null  float64\n",
      " 69  LP_CustomerPrincipalPayments         113937 non-null  float64\n",
      " 70  LP_InterestandFees                   113937 non-null  float64\n",
      " 71  LP_ServiceFees                       113937 non-null  float64\n",
      " 72  LP_CollectionFees                    113937 non-null  float64\n",
      " 73  LP_GrossPrincipalLoss                113937 non-null  float64\n",
      " 74  LP_NetPrincipalLoss                  113937 non-null  float64\n",
      " 75  LP_NonPrincipalRecoverypayments      113937 non-null  float64\n",
      " 76  PercentFunded                        113937 non-null  float64\n",
      " 77  Recommendations                      113937 non-null  int64  \n",
      " 78  InvestmentFromFriendsCount           113937 non-null  int64  \n",
      " 79  InvestmentFromFriendsAmount          113937 non-null  float64\n",
      " 80  Investors                            113937 non-null  int64  \n",
      "dtypes: bool(3), float64(50), int64(11), object(17)\n",
      "memory usage: 68.1+ MB\n"
     ]
    }
   ],
   "source": [
    "# get the number of missing data points per column\n",
    "missing_values_count = loan.isnull().sum()\n",
    "print(\"Missing values per collumn : \\n\",missing_values_count)\n",
    "\n",
    "# how many total missing values do we have?\n",
    "total_cells = np.product(loan.shape)\n",
    "total_missing = missing_values_count.sum()\n",
    "print(\"\\n Total missing values : \" ,total_missing)\n",
    "\n",
    "# percent of data that is missing\n",
    "percent_missing = (total_missing/total_cells) * 100\n",
    "print(\"\\n Missing values percentage : \",percent_missing,\"%\")\n",
    "\n",
    "#more information about data\n",
    "print(\"\\n \")\n",
    "loan.info()"
   ]
  },
  {
   "cell_type": "markdown",
   "id": "7fb26622",
   "metadata": {
    "papermill": {
     "duration": 0.015774,
     "end_time": "2022-07-25T19:14:08.238008",
     "exception": false,
     "start_time": "2022-07-25T19:14:08.222234",
     "status": "completed"
    },
    "tags": []
   },
   "source": [
    " * It looks like there are some variables missing \"**NAN**\" and many other having the value **0**\n",
    " * \"ListingNumber\",\"Term\",\"BorrowerRate\",\"LenderYield\", are **not missing** any values\n",
    " * \"LP_ServiceFees\",\"LP_CollectionFees\",\"LP_GrossPrincipalLoss\",\"LP_NetPrincipalLoss\",\"LP_NonPrincipalRecoverypayments\"   \"PercentFunded\",\"Recommendations\",\"InvestmentFromFriendsCount\",\"InvestmentFromFriendsAmount\",\"Investors\" are not missing   any values but have **many 0 variables \n",
    " * \"EstimatedEffectiveYield\",\"BorrowerAPR\",\"EstimatedLoss\",\"EstimatedReturn\",\"ProsperRating      (numeric)\",\"ProsperScore\",\"ClosedDate\",\"CreditGrade\" have **many missing values \"NAN\"\n",
    " \n",
    " ---> After further investigating to the data , it looks like that the variables with 0 values are consistant ( in general they refure to an amount of money or a score ..)\n",
    " The variables with \"NAN\" value are not missing , it's just that they **doesn't exist** yet\n",
    " "
   ]
  },
  {
   "cell_type": "markdown",
   "id": "86408a42",
   "metadata": {
    "papermill": {
     "duration": 0.01573,
     "end_time": "2022-07-25T19:14:08.269623",
     "exception": false,
     "start_time": "2022-07-25T19:14:08.253893",
     "status": "completed"
    },
    "tags": []
   },
   "source": [
    "**Parsing DATES**"
   ]
  },
  {
   "cell_type": "code",
   "execution_count": 7,
   "id": "c363051c",
   "metadata": {
    "execution": {
     "iopub.execute_input": "2022-07-25T19:14:08.303947Z",
     "iopub.status.busy": "2022-07-25T19:14:08.303200Z",
     "iopub.status.idle": "2022-07-25T19:14:08.312981Z",
     "shell.execute_reply": "2022-07-25T19:14:08.311118Z"
    },
    "papermill": {
     "duration": 0.030065,
     "end_time": "2022-07-25T19:14:08.315695",
     "exception": false,
     "start_time": "2022-07-25T19:14:08.285630",
     "status": "completed"
    },
    "tags": []
   },
   "outputs": [
    {
     "name": "stdout",
     "output_type": "stream",
     "text": [
      "\n",
      " 0    2007-08-26 19:09:29.263000000\n",
      "1    2014-02-27 08:28:07.900000000\n",
      "2    2007-01-05 15:00:47.090000000\n",
      "3    2012-10-22 11:02:35.010000000\n",
      "4    2013-09-14 18:38:39.097000000\n",
      "Name: ListingCreationDate, dtype: object\n",
      "\n",
      " 0    2009-08-14 00:00:00\n",
      "1                    NaN\n",
      "2    2009-12-17 00:00:00\n",
      "3                    NaN\n",
      "4                    NaN\n",
      "Name: ClosedDate, dtype: object\n",
      "\n",
      " 0    2007-08-26 18:41:46.780000000\n",
      "1              2014-02-27 08:28:14\n",
      "2    2007-01-02 14:09:10.060000000\n",
      "3              2012-10-22 11:02:32\n",
      "4              2013-09-14 18:38:44\n",
      "Name: DateCreditPulled, dtype: object\n",
      "\n",
      " 0    2007-09-12 00:00:00\n",
      "1    2014-03-03 00:00:00\n",
      "2    2007-01-17 00:00:00\n",
      "3    2012-11-01 00:00:00\n",
      "4    2013-09-20 00:00:00\n",
      "Name: LoanOriginationDate, dtype: object\n"
     ]
    }
   ],
   "source": [
    "print(\"\\n\",loan['ListingCreationDate'].head())\n",
    "print(\"\\n\",loan['ClosedDate'].head())\n",
    "print(\"\\n\",loan['DateCreditPulled'].head())\n",
    "print(\"\\n\",loan['LoanOriginationDate'].head())\n",
    "#It looks like date needs to be parsing "
   ]
  },
  {
   "cell_type": "code",
   "execution_count": 8,
   "id": "4511c5a7",
   "metadata": {
    "execution": {
     "iopub.execute_input": "2022-07-25T19:14:08.351124Z",
     "iopub.status.busy": "2022-07-25T19:14:08.350421Z",
     "iopub.status.idle": "2022-07-25T19:14:08.558302Z",
     "shell.execute_reply": "2022-07-25T19:14:08.557065Z"
    },
    "papermill": {
     "duration": 0.228784,
     "end_time": "2022-07-25T19:14:08.561342",
     "exception": false,
     "start_time": "2022-07-25T19:14:08.332558",
     "status": "completed"
    },
    "tags": []
   },
   "outputs": [],
   "source": [
    "# create a new columns, date_parsed, with the parsed dates\n",
    "loan['ListingCreationDate_parsed'] = pd.to_datetime(loan['ListingCreationDate'],infer_datetime_format=True)\n",
    "loan['ClosedDate_parsed'] = pd.to_datetime(loan['ClosedDate'],infer_datetime_format=True)\n",
    "loan['DateCreditPulled_parsed'] = pd.to_datetime(loan['DateCreditPulled'],infer_datetime_format=True)\n",
    "loan['LoanOriginationDate_parsed'] = pd.to_datetime(loan['LoanOriginationDate'],infer_datetime_format=True)"
   ]
  },
  {
   "cell_type": "code",
   "execution_count": 9,
   "id": "0296d000",
   "metadata": {
    "execution": {
     "iopub.execute_input": "2022-07-25T19:14:08.595760Z",
     "iopub.status.busy": "2022-07-25T19:14:08.594469Z",
     "iopub.status.idle": "2022-07-25T19:14:08.606566Z",
     "shell.execute_reply": "2022-07-25T19:14:08.605098Z"
    },
    "papermill": {
     "duration": 0.031828,
     "end_time": "2022-07-25T19:14:08.609121",
     "exception": false,
     "start_time": "2022-07-25T19:14:08.577293",
     "status": "completed"
    },
    "tags": []
   },
   "outputs": [
    {
     "name": "stdout",
     "output_type": "stream",
     "text": [
      "\n",
      " 0   2007-08-26 19:09:29.263\n",
      "1   2014-02-27 08:28:07.900\n",
      "2   2007-01-05 15:00:47.090\n",
      "3   2012-10-22 11:02:35.010\n",
      "4   2013-09-14 18:38:39.097\n",
      "Name: ListingCreationDate_parsed, dtype: datetime64[ns]\n",
      "\n",
      " 0   2009-08-14\n",
      "1          NaT\n",
      "2   2009-12-17\n",
      "3          NaT\n",
      "4          NaT\n",
      "Name: ClosedDate_parsed, dtype: datetime64[ns]\n",
      "\n",
      " 0   2007-08-26 18:41:46.780\n",
      "1   2014-02-27 08:28:14.000\n",
      "2   2007-01-02 14:09:10.060\n",
      "3   2012-10-22 11:02:32.000\n",
      "4   2013-09-14 18:38:44.000\n",
      "Name: DateCreditPulled_parsed, dtype: datetime64[ns]\n",
      "\n",
      " 0   2007-09-12\n",
      "1   2014-03-03\n",
      "2   2007-01-17\n",
      "3   2012-11-01\n",
      "4   2013-09-20\n",
      "Name: LoanOriginationDate_parsed, dtype: datetime64[ns]\n"
     ]
    }
   ],
   "source": [
    "print(\"\\n\",loan['ListingCreationDate_parsed'].head())\n",
    "print(\"\\n\",loan['ClosedDate_parsed'].head())\n",
    "print(\"\\n\",loan['DateCreditPulled_parsed'].head())\n",
    "print(\"\\n\",loan['LoanOriginationDate_parsed'].head())"
   ]
  },
  {
   "cell_type": "markdown",
   "id": "5df032e1",
   "metadata": {
    "papermill": {
     "duration": 0.015776,
     "end_time": "2022-07-25T19:14:08.641996",
     "exception": false,
     "start_time": "2022-07-25T19:14:08.626220",
     "status": "completed"
    },
    "tags": []
   },
   "source": [
    "# Let's try to symplify the loan status feature variables"
   ]
  },
  {
   "cell_type": "code",
   "execution_count": 10,
   "id": "9f273d6c",
   "metadata": {
    "execution": {
     "iopub.execute_input": "2022-07-25T19:14:08.677336Z",
     "iopub.status.busy": "2022-07-25T19:14:08.675943Z",
     "iopub.status.idle": "2022-07-25T19:14:08.738929Z",
     "shell.execute_reply": "2022-07-25T19:14:08.737735Z"
    },
    "papermill": {
     "duration": 0.083901,
     "end_time": "2022-07-25T19:14:08.741870",
     "exception": false,
     "start_time": "2022-07-25T19:14:08.657969",
     "status": "completed"
    },
    "tags": []
   },
   "outputs": [],
   "source": [
    "# those are current, completed and cancelled are categorize as completed (1)otherwise defaulted(0)\n",
    "loan['Status'] = np.where((loan['LoanStatus'] == 'Current')|(loan['LoanStatus'] == 'Completed')|(loan['LoanStatus'] == 'Cancelled'), \n",
    "                         1, 0)"
   ]
  },
  {
   "cell_type": "markdown",
   "id": "569b3c4f",
   "metadata": {
    "papermill": {
     "duration": 0.015812,
     "end_time": "2022-07-25T19:14:08.773549",
     "exception": false,
     "start_time": "2022-07-25T19:14:08.757737",
     "status": "completed"
    },
    "tags": []
   },
   "source": [
    "# Let's try to drop all columns with NAN"
   ]
  },
  {
   "cell_type": "code",
   "execution_count": 11,
   "id": "84e7f0f3",
   "metadata": {
    "execution": {
     "iopub.execute_input": "2022-07-25T19:14:08.808812Z",
     "iopub.status.busy": "2022-07-25T19:14:08.808019Z",
     "iopub.status.idle": "2022-07-25T19:14:09.073210Z",
     "shell.execute_reply": "2022-07-25T19:14:09.071951Z"
    },
    "papermill": {
     "duration": 0.285977,
     "end_time": "2022-07-25T19:14:09.076168",
     "exception": false,
     "start_time": "2022-07-25T19:14:08.790191",
     "status": "completed"
    },
    "tags": []
   },
   "outputs": [
    {
     "name": "stdout",
     "output_type": "stream",
     "text": [
      "Columns in original dataset: 86 \n",
      "\n",
      "Columns with na's dropped: 42\n"
     ]
    }
   ],
   "source": [
    "# remove all columns with at least one missing value\n",
    "columns_with_na_dropped = loan.dropna(axis=1)\n",
    "\n",
    "# just how much data did we lose?\n",
    "print(\"Columns in original dataset: %d \\n\" % loan.shape[1])\n",
    "print(\"Columns with na's dropped: %d\" % columns_with_na_dropped.shape[1])"
   ]
  },
  {
   "cell_type": "markdown",
   "id": "bd897b17",
   "metadata": {
    "papermill": {
     "duration": 0.016338,
     "end_time": "2022-07-25T19:14:09.111463",
     "exception": false,
     "start_time": "2022-07-25T19:14:09.095125",
     "status": "completed"
    },
    "tags": []
   },
   "source": [
    "**ooops it looks like we deleted too many columns !!!**"
   ]
  },
  {
   "cell_type": "markdown",
   "id": "5f3a5d08",
   "metadata": {
    "papermill": {
     "duration": 0.015996,
     "end_time": "2022-07-25T19:14:09.144388",
     "exception": false,
     "start_time": "2022-07-25T19:14:09.128392",
     "status": "completed"
    },
    "tags": []
   },
   "source": [
    "# Let's replace all NAN with 0"
   ]
  },
  {
   "cell_type": "code",
   "execution_count": 12,
   "id": "f92a7b25",
   "metadata": {
    "execution": {
     "iopub.execute_input": "2022-07-25T19:14:09.178889Z",
     "iopub.status.busy": "2022-07-25T19:14:09.178243Z",
     "iopub.status.idle": "2022-07-25T19:14:09.276092Z",
     "shell.execute_reply": "2022-07-25T19:14:09.274966Z"
    },
    "papermill": {
     "duration": 0.11828,
     "end_time": "2022-07-25T19:14:09.278839",
     "exception": false,
     "start_time": "2022-07-25T19:14:09.160559",
     "status": "completed"
    },
    "tags": []
   },
   "outputs": [
    {
     "data": {
      "text/html": [
       "<div>\n",
       "<style scoped>\n",
       "    .dataframe tbody tr th:only-of-type {\n",
       "        vertical-align: middle;\n",
       "    }\n",
       "\n",
       "    .dataframe tbody tr th {\n",
       "        vertical-align: top;\n",
       "    }\n",
       "\n",
       "    .dataframe thead th {\n",
       "        text-align: right;\n",
       "    }\n",
       "</style>\n",
       "<table border=\"1\" class=\"dataframe\">\n",
       "  <thead>\n",
       "    <tr style=\"text-align: right;\">\n",
       "      <th></th>\n",
       "      <th>ListingKey</th>\n",
       "      <th>ListingNumber</th>\n",
       "      <th>ListingCreationDate</th>\n",
       "      <th>CreditGrade</th>\n",
       "      <th>Term</th>\n",
       "      <th>LoanStatus</th>\n",
       "      <th>ClosedDate</th>\n",
       "      <th>BorrowerAPR</th>\n",
       "      <th>BorrowerRate</th>\n",
       "      <th>LenderYield</th>\n",
       "      <th>...</th>\n",
       "      <th>PercentFunded</th>\n",
       "      <th>Recommendations</th>\n",
       "      <th>InvestmentFromFriendsCount</th>\n",
       "      <th>InvestmentFromFriendsAmount</th>\n",
       "      <th>Investors</th>\n",
       "      <th>ListingCreationDate_parsed</th>\n",
       "      <th>ClosedDate_parsed</th>\n",
       "      <th>DateCreditPulled_parsed</th>\n",
       "      <th>LoanOriginationDate_parsed</th>\n",
       "      <th>Status</th>\n",
       "    </tr>\n",
       "  </thead>\n",
       "  <tbody>\n",
       "    <tr>\n",
       "      <th>0</th>\n",
       "      <td>1021339766868145413AB3B</td>\n",
       "      <td>193129</td>\n",
       "      <td>2007-08-26 19:09:29.263000000</td>\n",
       "      <td>C</td>\n",
       "      <td>36</td>\n",
       "      <td>Completed</td>\n",
       "      <td>2009-08-14 00:00:00</td>\n",
       "      <td>0.16516</td>\n",
       "      <td>0.1580</td>\n",
       "      <td>0.1380</td>\n",
       "      <td>...</td>\n",
       "      <td>1.0</td>\n",
       "      <td>0</td>\n",
       "      <td>0</td>\n",
       "      <td>0.0</td>\n",
       "      <td>258</td>\n",
       "      <td>2007-08-26 19:09:29.263</td>\n",
       "      <td>2009-08-14</td>\n",
       "      <td>2007-08-26 18:41:46.780</td>\n",
       "      <td>2007-09-12</td>\n",
       "      <td>1</td>\n",
       "    </tr>\n",
       "    <tr>\n",
       "      <th>1</th>\n",
       "      <td>10273602499503308B223C1</td>\n",
       "      <td>1209647</td>\n",
       "      <td>2014-02-27 08:28:07.900000000</td>\n",
       "      <td>NaN</td>\n",
       "      <td>36</td>\n",
       "      <td>Current</td>\n",
       "      <td>NaN</td>\n",
       "      <td>0.12016</td>\n",
       "      <td>0.0920</td>\n",
       "      <td>0.0820</td>\n",
       "      <td>...</td>\n",
       "      <td>1.0</td>\n",
       "      <td>0</td>\n",
       "      <td>0</td>\n",
       "      <td>0.0</td>\n",
       "      <td>1</td>\n",
       "      <td>2014-02-27 08:28:07.900</td>\n",
       "      <td>NaT</td>\n",
       "      <td>2014-02-27 08:28:14.000</td>\n",
       "      <td>2014-03-03</td>\n",
       "      <td>1</td>\n",
       "    </tr>\n",
       "    <tr>\n",
       "      <th>2</th>\n",
       "      <td>0EE9337825851032864889A</td>\n",
       "      <td>81716</td>\n",
       "      <td>2007-01-05 15:00:47.090000000</td>\n",
       "      <td>HR</td>\n",
       "      <td>36</td>\n",
       "      <td>Completed</td>\n",
       "      <td>2009-12-17 00:00:00</td>\n",
       "      <td>0.28269</td>\n",
       "      <td>0.2750</td>\n",
       "      <td>0.2400</td>\n",
       "      <td>...</td>\n",
       "      <td>1.0</td>\n",
       "      <td>0</td>\n",
       "      <td>0</td>\n",
       "      <td>0.0</td>\n",
       "      <td>41</td>\n",
       "      <td>2007-01-05 15:00:47.090</td>\n",
       "      <td>2009-12-17</td>\n",
       "      <td>2007-01-02 14:09:10.060</td>\n",
       "      <td>2007-01-17</td>\n",
       "      <td>1</td>\n",
       "    </tr>\n",
       "    <tr>\n",
       "      <th>3</th>\n",
       "      <td>0EF5356002482715299901A</td>\n",
       "      <td>658116</td>\n",
       "      <td>2012-10-22 11:02:35.010000000</td>\n",
       "      <td>NaN</td>\n",
       "      <td>36</td>\n",
       "      <td>Current</td>\n",
       "      <td>NaN</td>\n",
       "      <td>0.12528</td>\n",
       "      <td>0.0974</td>\n",
       "      <td>0.0874</td>\n",
       "      <td>...</td>\n",
       "      <td>1.0</td>\n",
       "      <td>0</td>\n",
       "      <td>0</td>\n",
       "      <td>0.0</td>\n",
       "      <td>158</td>\n",
       "      <td>2012-10-22 11:02:35.010</td>\n",
       "      <td>NaT</td>\n",
       "      <td>2012-10-22 11:02:32.000</td>\n",
       "      <td>2012-11-01</td>\n",
       "      <td>1</td>\n",
       "    </tr>\n",
       "    <tr>\n",
       "      <th>4</th>\n",
       "      <td>0F023589499656230C5E3E2</td>\n",
       "      <td>909464</td>\n",
       "      <td>2013-09-14 18:38:39.097000000</td>\n",
       "      <td>NaN</td>\n",
       "      <td>36</td>\n",
       "      <td>Current</td>\n",
       "      <td>NaN</td>\n",
       "      <td>0.24614</td>\n",
       "      <td>0.2085</td>\n",
       "      <td>0.1985</td>\n",
       "      <td>...</td>\n",
       "      <td>1.0</td>\n",
       "      <td>0</td>\n",
       "      <td>0</td>\n",
       "      <td>0.0</td>\n",
       "      <td>20</td>\n",
       "      <td>2013-09-14 18:38:39.097</td>\n",
       "      <td>NaT</td>\n",
       "      <td>2013-09-14 18:38:44.000</td>\n",
       "      <td>2013-09-20</td>\n",
       "      <td>1</td>\n",
       "    </tr>\n",
       "    <tr>\n",
       "      <th>...</th>\n",
       "      <td>...</td>\n",
       "      <td>...</td>\n",
       "      <td>...</td>\n",
       "      <td>...</td>\n",
       "      <td>...</td>\n",
       "      <td>...</td>\n",
       "      <td>...</td>\n",
       "      <td>...</td>\n",
       "      <td>...</td>\n",
       "      <td>...</td>\n",
       "      <td>...</td>\n",
       "      <td>...</td>\n",
       "      <td>...</td>\n",
       "      <td>...</td>\n",
       "      <td>...</td>\n",
       "      <td>...</td>\n",
       "      <td>...</td>\n",
       "      <td>...</td>\n",
       "      <td>...</td>\n",
       "      <td>...</td>\n",
       "      <td>...</td>\n",
       "    </tr>\n",
       "    <tr>\n",
       "      <th>113932</th>\n",
       "      <td>E6D9357655724827169606C</td>\n",
       "      <td>753087</td>\n",
       "      <td>2013-04-14 05:55:02.663000000</td>\n",
       "      <td>NaN</td>\n",
       "      <td>36</td>\n",
       "      <td>Current</td>\n",
       "      <td>NaN</td>\n",
       "      <td>0.22354</td>\n",
       "      <td>0.1864</td>\n",
       "      <td>0.1764</td>\n",
       "      <td>...</td>\n",
       "      <td>1.0</td>\n",
       "      <td>0</td>\n",
       "      <td>0</td>\n",
       "      <td>0.0</td>\n",
       "      <td>1</td>\n",
       "      <td>2013-04-14 05:55:02.663</td>\n",
       "      <td>NaT</td>\n",
       "      <td>2013-04-14 05:54:58.000</td>\n",
       "      <td>2013-04-22</td>\n",
       "      <td>1</td>\n",
       "    </tr>\n",
       "    <tr>\n",
       "      <th>113933</th>\n",
       "      <td>E6DB353036033497292EE43</td>\n",
       "      <td>537216</td>\n",
       "      <td>2011-11-03 20:42:55.333000000</td>\n",
       "      <td>NaN</td>\n",
       "      <td>36</td>\n",
       "      <td>FinalPaymentInProgress</td>\n",
       "      <td>NaN</td>\n",
       "      <td>0.13220</td>\n",
       "      <td>0.1110</td>\n",
       "      <td>0.1010</td>\n",
       "      <td>...</td>\n",
       "      <td>1.0</td>\n",
       "      <td>0</td>\n",
       "      <td>0</td>\n",
       "      <td>0.0</td>\n",
       "      <td>22</td>\n",
       "      <td>2011-11-03 20:42:55.333</td>\n",
       "      <td>NaT</td>\n",
       "      <td>2011-11-03 20:42:53.000</td>\n",
       "      <td>2011-11-07</td>\n",
       "      <td>0</td>\n",
       "    </tr>\n",
       "    <tr>\n",
       "      <th>113934</th>\n",
       "      <td>E6E13596170052029692BB1</td>\n",
       "      <td>1069178</td>\n",
       "      <td>2013-12-13 05:49:12.703000000</td>\n",
       "      <td>NaN</td>\n",
       "      <td>60</td>\n",
       "      <td>Current</td>\n",
       "      <td>NaN</td>\n",
       "      <td>0.23984</td>\n",
       "      <td>0.2150</td>\n",
       "      <td>0.2050</td>\n",
       "      <td>...</td>\n",
       "      <td>1.0</td>\n",
       "      <td>0</td>\n",
       "      <td>0</td>\n",
       "      <td>0.0</td>\n",
       "      <td>119</td>\n",
       "      <td>2013-12-13 05:49:12.703</td>\n",
       "      <td>NaT</td>\n",
       "      <td>2013-12-13 05:49:15.000</td>\n",
       "      <td>2013-12-23</td>\n",
       "      <td>1</td>\n",
       "    </tr>\n",
       "    <tr>\n",
       "      <th>113935</th>\n",
       "      <td>E6EB3531504622671970D9E</td>\n",
       "      <td>539056</td>\n",
       "      <td>2011-11-14 13:18:26.597000000</td>\n",
       "      <td>NaN</td>\n",
       "      <td>60</td>\n",
       "      <td>Completed</td>\n",
       "      <td>2013-08-13 00:00:00</td>\n",
       "      <td>0.28408</td>\n",
       "      <td>0.2605</td>\n",
       "      <td>0.2505</td>\n",
       "      <td>...</td>\n",
       "      <td>1.0</td>\n",
       "      <td>0</td>\n",
       "      <td>0</td>\n",
       "      <td>0.0</td>\n",
       "      <td>274</td>\n",
       "      <td>2011-11-14 13:18:26.597</td>\n",
       "      <td>2013-08-13</td>\n",
       "      <td>2011-11-14 13:18:24.000</td>\n",
       "      <td>2011-11-21</td>\n",
       "      <td>1</td>\n",
       "    </tr>\n",
       "    <tr>\n",
       "      <th>113936</th>\n",
       "      <td>E6ED3600409833199F711B7</td>\n",
       "      <td>1140093</td>\n",
       "      <td>2014-01-15 09:27:37.657000000</td>\n",
       "      <td>NaN</td>\n",
       "      <td>36</td>\n",
       "      <td>Current</td>\n",
       "      <td>NaN</td>\n",
       "      <td>0.13189</td>\n",
       "      <td>0.1039</td>\n",
       "      <td>0.0939</td>\n",
       "      <td>...</td>\n",
       "      <td>1.0</td>\n",
       "      <td>0</td>\n",
       "      <td>0</td>\n",
       "      <td>0.0</td>\n",
       "      <td>1</td>\n",
       "      <td>2014-01-15 09:27:37.657</td>\n",
       "      <td>NaT</td>\n",
       "      <td>2014-01-15 09:27:40.000</td>\n",
       "      <td>2014-01-21</td>\n",
       "      <td>1</td>\n",
       "    </tr>\n",
       "  </tbody>\n",
       "</table>\n",
       "<p>113937 rows × 86 columns</p>\n",
       "</div>"
      ],
      "text/plain": [
       "                     ListingKey  ListingNumber            ListingCreationDate  \\\n",
       "0       1021339766868145413AB3B         193129  2007-08-26 19:09:29.263000000   \n",
       "1       10273602499503308B223C1        1209647  2014-02-27 08:28:07.900000000   \n",
       "2       0EE9337825851032864889A          81716  2007-01-05 15:00:47.090000000   \n",
       "3       0EF5356002482715299901A         658116  2012-10-22 11:02:35.010000000   \n",
       "4       0F023589499656230C5E3E2         909464  2013-09-14 18:38:39.097000000   \n",
       "...                         ...            ...                            ...   \n",
       "113932  E6D9357655724827169606C         753087  2013-04-14 05:55:02.663000000   \n",
       "113933  E6DB353036033497292EE43         537216  2011-11-03 20:42:55.333000000   \n",
       "113934  E6E13596170052029692BB1        1069178  2013-12-13 05:49:12.703000000   \n",
       "113935  E6EB3531504622671970D9E         539056  2011-11-14 13:18:26.597000000   \n",
       "113936  E6ED3600409833199F711B7        1140093  2014-01-15 09:27:37.657000000   \n",
       "\n",
       "       CreditGrade  Term              LoanStatus           ClosedDate  \\\n",
       "0                C    36               Completed  2009-08-14 00:00:00   \n",
       "1              NaN    36                 Current                  NaN   \n",
       "2               HR    36               Completed  2009-12-17 00:00:00   \n",
       "3              NaN    36                 Current                  NaN   \n",
       "4              NaN    36                 Current                  NaN   \n",
       "...            ...   ...                     ...                  ...   \n",
       "113932         NaN    36                 Current                  NaN   \n",
       "113933         NaN    36  FinalPaymentInProgress                  NaN   \n",
       "113934         NaN    60                 Current                  NaN   \n",
       "113935         NaN    60               Completed  2013-08-13 00:00:00   \n",
       "113936         NaN    36                 Current                  NaN   \n",
       "\n",
       "        BorrowerAPR  BorrowerRate  LenderYield  ...  PercentFunded  \\\n",
       "0           0.16516        0.1580       0.1380  ...            1.0   \n",
       "1           0.12016        0.0920       0.0820  ...            1.0   \n",
       "2           0.28269        0.2750       0.2400  ...            1.0   \n",
       "3           0.12528        0.0974       0.0874  ...            1.0   \n",
       "4           0.24614        0.2085       0.1985  ...            1.0   \n",
       "...             ...           ...          ...  ...            ...   \n",
       "113932      0.22354        0.1864       0.1764  ...            1.0   \n",
       "113933      0.13220        0.1110       0.1010  ...            1.0   \n",
       "113934      0.23984        0.2150       0.2050  ...            1.0   \n",
       "113935      0.28408        0.2605       0.2505  ...            1.0   \n",
       "113936      0.13189        0.1039       0.0939  ...            1.0   \n",
       "\n",
       "        Recommendations  InvestmentFromFriendsCount  \\\n",
       "0                     0                           0   \n",
       "1                     0                           0   \n",
       "2                     0                           0   \n",
       "3                     0                           0   \n",
       "4                     0                           0   \n",
       "...                 ...                         ...   \n",
       "113932                0                           0   \n",
       "113933                0                           0   \n",
       "113934                0                           0   \n",
       "113935                0                           0   \n",
       "113936                0                           0   \n",
       "\n",
       "        InvestmentFromFriendsAmount Investors  ListingCreationDate_parsed  \\\n",
       "0                               0.0       258     2007-08-26 19:09:29.263   \n",
       "1                               0.0         1     2014-02-27 08:28:07.900   \n",
       "2                               0.0        41     2007-01-05 15:00:47.090   \n",
       "3                               0.0       158     2012-10-22 11:02:35.010   \n",
       "4                               0.0        20     2013-09-14 18:38:39.097   \n",
       "...                             ...       ...                         ...   \n",
       "113932                          0.0         1     2013-04-14 05:55:02.663   \n",
       "113933                          0.0        22     2011-11-03 20:42:55.333   \n",
       "113934                          0.0       119     2013-12-13 05:49:12.703   \n",
       "113935                          0.0       274     2011-11-14 13:18:26.597   \n",
       "113936                          0.0         1     2014-01-15 09:27:37.657   \n",
       "\n",
       "        ClosedDate_parsed DateCreditPulled_parsed LoanOriginationDate_parsed  \\\n",
       "0              2009-08-14 2007-08-26 18:41:46.780                 2007-09-12   \n",
       "1                     NaT 2014-02-27 08:28:14.000                 2014-03-03   \n",
       "2              2009-12-17 2007-01-02 14:09:10.060                 2007-01-17   \n",
       "3                     NaT 2012-10-22 11:02:32.000                 2012-11-01   \n",
       "4                     NaT 2013-09-14 18:38:44.000                 2013-09-20   \n",
       "...                   ...                     ...                        ...   \n",
       "113932                NaT 2013-04-14 05:54:58.000                 2013-04-22   \n",
       "113933                NaT 2011-11-03 20:42:53.000                 2011-11-07   \n",
       "113934                NaT 2013-12-13 05:49:15.000                 2013-12-23   \n",
       "113935         2013-08-13 2011-11-14 13:18:24.000                 2011-11-21   \n",
       "113936                NaT 2014-01-15 09:27:40.000                 2014-01-21   \n",
       "\n",
       "       Status  \n",
       "0           1  \n",
       "1           1  \n",
       "2           1  \n",
       "3           1  \n",
       "4           1  \n",
       "...       ...  \n",
       "113932      1  \n",
       "113933      0  \n",
       "113934      1  \n",
       "113935      1  \n",
       "113936      1  \n",
       "\n",
       "[113937 rows x 86 columns]"
      ]
     },
     "execution_count": 12,
     "metadata": {},
     "output_type": "execute_result"
    }
   ],
   "source": [
    "loan"
   ]
  },
  {
   "cell_type": "code",
   "execution_count": 13,
   "id": "9607c2a5",
   "metadata": {
    "execution": {
     "iopub.execute_input": "2022-07-25T19:14:09.319489Z",
     "iopub.status.busy": "2022-07-25T19:14:09.318727Z",
     "iopub.status.idle": "2022-07-25T19:14:13.123891Z",
     "shell.execute_reply": "2022-07-25T19:14:13.122703Z"
    },
    "papermill": {
     "duration": 3.827973,
     "end_time": "2022-07-25T19:14:13.126736",
     "exception": false,
     "start_time": "2022-07-25T19:14:09.298763",
     "status": "completed"
    },
    "tags": []
   },
   "outputs": [
    {
     "data": {
      "text/html": [
       "<div>\n",
       "<style scoped>\n",
       "    .dataframe tbody tr th:only-of-type {\n",
       "        vertical-align: middle;\n",
       "    }\n",
       "\n",
       "    .dataframe tbody tr th {\n",
       "        vertical-align: top;\n",
       "    }\n",
       "\n",
       "    .dataframe thead th {\n",
       "        text-align: right;\n",
       "    }\n",
       "</style>\n",
       "<table border=\"1\" class=\"dataframe\">\n",
       "  <thead>\n",
       "    <tr style=\"text-align: right;\">\n",
       "      <th></th>\n",
       "      <th>ListingKey</th>\n",
       "      <th>ListingNumber</th>\n",
       "      <th>ListingCreationDate</th>\n",
       "      <th>CreditGrade</th>\n",
       "      <th>Term</th>\n",
       "      <th>LoanStatus</th>\n",
       "      <th>ClosedDate</th>\n",
       "      <th>BorrowerAPR</th>\n",
       "      <th>BorrowerRate</th>\n",
       "      <th>LenderYield</th>\n",
       "      <th>...</th>\n",
       "      <th>PercentFunded</th>\n",
       "      <th>Recommendations</th>\n",
       "      <th>InvestmentFromFriendsCount</th>\n",
       "      <th>InvestmentFromFriendsAmount</th>\n",
       "      <th>Investors</th>\n",
       "      <th>ListingCreationDate_parsed</th>\n",
       "      <th>ClosedDate_parsed</th>\n",
       "      <th>DateCreditPulled_parsed</th>\n",
       "      <th>LoanOriginationDate_parsed</th>\n",
       "      <th>Status</th>\n",
       "    </tr>\n",
       "  </thead>\n",
       "  <tbody>\n",
       "    <tr>\n",
       "      <th>0</th>\n",
       "      <td>1021339766868145413AB3B</td>\n",
       "      <td>193129</td>\n",
       "      <td>2007-08-26 19:09:29.263000000</td>\n",
       "      <td>C</td>\n",
       "      <td>36</td>\n",
       "      <td>Completed</td>\n",
       "      <td>2009-08-14 00:00:00</td>\n",
       "      <td>0.16516</td>\n",
       "      <td>0.1580</td>\n",
       "      <td>0.1380</td>\n",
       "      <td>...</td>\n",
       "      <td>1.0</td>\n",
       "      <td>0</td>\n",
       "      <td>0</td>\n",
       "      <td>0.0</td>\n",
       "      <td>258</td>\n",
       "      <td>2007-08-26 19:09:29.263</td>\n",
       "      <td>2009-08-14 00:00:00</td>\n",
       "      <td>2007-08-26 18:41:46.780</td>\n",
       "      <td>2007-09-12</td>\n",
       "      <td>1</td>\n",
       "    </tr>\n",
       "    <tr>\n",
       "      <th>1</th>\n",
       "      <td>10273602499503308B223C1</td>\n",
       "      <td>1209647</td>\n",
       "      <td>2014-02-27 08:28:07.900000000</td>\n",
       "      <td>0</td>\n",
       "      <td>36</td>\n",
       "      <td>Current</td>\n",
       "      <td>0</td>\n",
       "      <td>0.12016</td>\n",
       "      <td>0.0920</td>\n",
       "      <td>0.0820</td>\n",
       "      <td>...</td>\n",
       "      <td>1.0</td>\n",
       "      <td>0</td>\n",
       "      <td>0</td>\n",
       "      <td>0.0</td>\n",
       "      <td>1</td>\n",
       "      <td>2014-02-27 08:28:07.900</td>\n",
       "      <td>0</td>\n",
       "      <td>2014-02-27 08:28:14.000</td>\n",
       "      <td>2014-03-03</td>\n",
       "      <td>1</td>\n",
       "    </tr>\n",
       "    <tr>\n",
       "      <th>2</th>\n",
       "      <td>0EE9337825851032864889A</td>\n",
       "      <td>81716</td>\n",
       "      <td>2007-01-05 15:00:47.090000000</td>\n",
       "      <td>HR</td>\n",
       "      <td>36</td>\n",
       "      <td>Completed</td>\n",
       "      <td>2009-12-17 00:00:00</td>\n",
       "      <td>0.28269</td>\n",
       "      <td>0.2750</td>\n",
       "      <td>0.2400</td>\n",
       "      <td>...</td>\n",
       "      <td>1.0</td>\n",
       "      <td>0</td>\n",
       "      <td>0</td>\n",
       "      <td>0.0</td>\n",
       "      <td>41</td>\n",
       "      <td>2007-01-05 15:00:47.090</td>\n",
       "      <td>2009-12-17 00:00:00</td>\n",
       "      <td>2007-01-02 14:09:10.060</td>\n",
       "      <td>2007-01-17</td>\n",
       "      <td>1</td>\n",
       "    </tr>\n",
       "    <tr>\n",
       "      <th>3</th>\n",
       "      <td>0EF5356002482715299901A</td>\n",
       "      <td>658116</td>\n",
       "      <td>2012-10-22 11:02:35.010000000</td>\n",
       "      <td>0</td>\n",
       "      <td>36</td>\n",
       "      <td>Current</td>\n",
       "      <td>0</td>\n",
       "      <td>0.12528</td>\n",
       "      <td>0.0974</td>\n",
       "      <td>0.0874</td>\n",
       "      <td>...</td>\n",
       "      <td>1.0</td>\n",
       "      <td>0</td>\n",
       "      <td>0</td>\n",
       "      <td>0.0</td>\n",
       "      <td>158</td>\n",
       "      <td>2012-10-22 11:02:35.010</td>\n",
       "      <td>0</td>\n",
       "      <td>2012-10-22 11:02:32.000</td>\n",
       "      <td>2012-11-01</td>\n",
       "      <td>1</td>\n",
       "    </tr>\n",
       "    <tr>\n",
       "      <th>4</th>\n",
       "      <td>0F023589499656230C5E3E2</td>\n",
       "      <td>909464</td>\n",
       "      <td>2013-09-14 18:38:39.097000000</td>\n",
       "      <td>0</td>\n",
       "      <td>36</td>\n",
       "      <td>Current</td>\n",
       "      <td>0</td>\n",
       "      <td>0.24614</td>\n",
       "      <td>0.2085</td>\n",
       "      <td>0.1985</td>\n",
       "      <td>...</td>\n",
       "      <td>1.0</td>\n",
       "      <td>0</td>\n",
       "      <td>0</td>\n",
       "      <td>0.0</td>\n",
       "      <td>20</td>\n",
       "      <td>2013-09-14 18:38:39.097</td>\n",
       "      <td>0</td>\n",
       "      <td>2013-09-14 18:38:44.000</td>\n",
       "      <td>2013-09-20</td>\n",
       "      <td>1</td>\n",
       "    </tr>\n",
       "    <tr>\n",
       "      <th>...</th>\n",
       "      <td>...</td>\n",
       "      <td>...</td>\n",
       "      <td>...</td>\n",
       "      <td>...</td>\n",
       "      <td>...</td>\n",
       "      <td>...</td>\n",
       "      <td>...</td>\n",
       "      <td>...</td>\n",
       "      <td>...</td>\n",
       "      <td>...</td>\n",
       "      <td>...</td>\n",
       "      <td>...</td>\n",
       "      <td>...</td>\n",
       "      <td>...</td>\n",
       "      <td>...</td>\n",
       "      <td>...</td>\n",
       "      <td>...</td>\n",
       "      <td>...</td>\n",
       "      <td>...</td>\n",
       "      <td>...</td>\n",
       "      <td>...</td>\n",
       "    </tr>\n",
       "    <tr>\n",
       "      <th>113932</th>\n",
       "      <td>E6D9357655724827169606C</td>\n",
       "      <td>753087</td>\n",
       "      <td>2013-04-14 05:55:02.663000000</td>\n",
       "      <td>0</td>\n",
       "      <td>36</td>\n",
       "      <td>Current</td>\n",
       "      <td>0</td>\n",
       "      <td>0.22354</td>\n",
       "      <td>0.1864</td>\n",
       "      <td>0.1764</td>\n",
       "      <td>...</td>\n",
       "      <td>1.0</td>\n",
       "      <td>0</td>\n",
       "      <td>0</td>\n",
       "      <td>0.0</td>\n",
       "      <td>1</td>\n",
       "      <td>2013-04-14 05:55:02.663</td>\n",
       "      <td>0</td>\n",
       "      <td>2013-04-14 05:54:58.000</td>\n",
       "      <td>2013-04-22</td>\n",
       "      <td>1</td>\n",
       "    </tr>\n",
       "    <tr>\n",
       "      <th>113933</th>\n",
       "      <td>E6DB353036033497292EE43</td>\n",
       "      <td>537216</td>\n",
       "      <td>2011-11-03 20:42:55.333000000</td>\n",
       "      <td>0</td>\n",
       "      <td>36</td>\n",
       "      <td>FinalPaymentInProgress</td>\n",
       "      <td>0</td>\n",
       "      <td>0.13220</td>\n",
       "      <td>0.1110</td>\n",
       "      <td>0.1010</td>\n",
       "      <td>...</td>\n",
       "      <td>1.0</td>\n",
       "      <td>0</td>\n",
       "      <td>0</td>\n",
       "      <td>0.0</td>\n",
       "      <td>22</td>\n",
       "      <td>2011-11-03 20:42:55.333</td>\n",
       "      <td>0</td>\n",
       "      <td>2011-11-03 20:42:53.000</td>\n",
       "      <td>2011-11-07</td>\n",
       "      <td>0</td>\n",
       "    </tr>\n",
       "    <tr>\n",
       "      <th>113934</th>\n",
       "      <td>E6E13596170052029692BB1</td>\n",
       "      <td>1069178</td>\n",
       "      <td>2013-12-13 05:49:12.703000000</td>\n",
       "      <td>0</td>\n",
       "      <td>60</td>\n",
       "      <td>Current</td>\n",
       "      <td>0</td>\n",
       "      <td>0.23984</td>\n",
       "      <td>0.2150</td>\n",
       "      <td>0.2050</td>\n",
       "      <td>...</td>\n",
       "      <td>1.0</td>\n",
       "      <td>0</td>\n",
       "      <td>0</td>\n",
       "      <td>0.0</td>\n",
       "      <td>119</td>\n",
       "      <td>2013-12-13 05:49:12.703</td>\n",
       "      <td>0</td>\n",
       "      <td>2013-12-13 05:49:15.000</td>\n",
       "      <td>2013-12-23</td>\n",
       "      <td>1</td>\n",
       "    </tr>\n",
       "    <tr>\n",
       "      <th>113935</th>\n",
       "      <td>E6EB3531504622671970D9E</td>\n",
       "      <td>539056</td>\n",
       "      <td>2011-11-14 13:18:26.597000000</td>\n",
       "      <td>0</td>\n",
       "      <td>60</td>\n",
       "      <td>Completed</td>\n",
       "      <td>2013-08-13 00:00:00</td>\n",
       "      <td>0.28408</td>\n",
       "      <td>0.2605</td>\n",
       "      <td>0.2505</td>\n",
       "      <td>...</td>\n",
       "      <td>1.0</td>\n",
       "      <td>0</td>\n",
       "      <td>0</td>\n",
       "      <td>0.0</td>\n",
       "      <td>274</td>\n",
       "      <td>2011-11-14 13:18:26.597</td>\n",
       "      <td>2013-08-13 00:00:00</td>\n",
       "      <td>2011-11-14 13:18:24.000</td>\n",
       "      <td>2011-11-21</td>\n",
       "      <td>1</td>\n",
       "    </tr>\n",
       "    <tr>\n",
       "      <th>113936</th>\n",
       "      <td>E6ED3600409833199F711B7</td>\n",
       "      <td>1140093</td>\n",
       "      <td>2014-01-15 09:27:37.657000000</td>\n",
       "      <td>0</td>\n",
       "      <td>36</td>\n",
       "      <td>Current</td>\n",
       "      <td>0</td>\n",
       "      <td>0.13189</td>\n",
       "      <td>0.1039</td>\n",
       "      <td>0.0939</td>\n",
       "      <td>...</td>\n",
       "      <td>1.0</td>\n",
       "      <td>0</td>\n",
       "      <td>0</td>\n",
       "      <td>0.0</td>\n",
       "      <td>1</td>\n",
       "      <td>2014-01-15 09:27:37.657</td>\n",
       "      <td>0</td>\n",
       "      <td>2014-01-15 09:27:40.000</td>\n",
       "      <td>2014-01-21</td>\n",
       "      <td>1</td>\n",
       "    </tr>\n",
       "  </tbody>\n",
       "</table>\n",
       "<p>113937 rows × 86 columns</p>\n",
       "</div>"
      ],
      "text/plain": [
       "                     ListingKey  ListingNumber            ListingCreationDate  \\\n",
       "0       1021339766868145413AB3B         193129  2007-08-26 19:09:29.263000000   \n",
       "1       10273602499503308B223C1        1209647  2014-02-27 08:28:07.900000000   \n",
       "2       0EE9337825851032864889A          81716  2007-01-05 15:00:47.090000000   \n",
       "3       0EF5356002482715299901A         658116  2012-10-22 11:02:35.010000000   \n",
       "4       0F023589499656230C5E3E2         909464  2013-09-14 18:38:39.097000000   \n",
       "...                         ...            ...                            ...   \n",
       "113932  E6D9357655724827169606C         753087  2013-04-14 05:55:02.663000000   \n",
       "113933  E6DB353036033497292EE43         537216  2011-11-03 20:42:55.333000000   \n",
       "113934  E6E13596170052029692BB1        1069178  2013-12-13 05:49:12.703000000   \n",
       "113935  E6EB3531504622671970D9E         539056  2011-11-14 13:18:26.597000000   \n",
       "113936  E6ED3600409833199F711B7        1140093  2014-01-15 09:27:37.657000000   \n",
       "\n",
       "       CreditGrade  Term              LoanStatus           ClosedDate  \\\n",
       "0                C    36               Completed  2009-08-14 00:00:00   \n",
       "1                0    36                 Current                    0   \n",
       "2               HR    36               Completed  2009-12-17 00:00:00   \n",
       "3                0    36                 Current                    0   \n",
       "4                0    36                 Current                    0   \n",
       "...            ...   ...                     ...                  ...   \n",
       "113932           0    36                 Current                    0   \n",
       "113933           0    36  FinalPaymentInProgress                    0   \n",
       "113934           0    60                 Current                    0   \n",
       "113935           0    60               Completed  2013-08-13 00:00:00   \n",
       "113936           0    36                 Current                    0   \n",
       "\n",
       "        BorrowerAPR  BorrowerRate  LenderYield  ...  PercentFunded  \\\n",
       "0           0.16516        0.1580       0.1380  ...            1.0   \n",
       "1           0.12016        0.0920       0.0820  ...            1.0   \n",
       "2           0.28269        0.2750       0.2400  ...            1.0   \n",
       "3           0.12528        0.0974       0.0874  ...            1.0   \n",
       "4           0.24614        0.2085       0.1985  ...            1.0   \n",
       "...             ...           ...          ...  ...            ...   \n",
       "113932      0.22354        0.1864       0.1764  ...            1.0   \n",
       "113933      0.13220        0.1110       0.1010  ...            1.0   \n",
       "113934      0.23984        0.2150       0.2050  ...            1.0   \n",
       "113935      0.28408        0.2605       0.2505  ...            1.0   \n",
       "113936      0.13189        0.1039       0.0939  ...            1.0   \n",
       "\n",
       "        Recommendations  InvestmentFromFriendsCount  \\\n",
       "0                     0                           0   \n",
       "1                     0                           0   \n",
       "2                     0                           0   \n",
       "3                     0                           0   \n",
       "4                     0                           0   \n",
       "...                 ...                         ...   \n",
       "113932                0                           0   \n",
       "113933                0                           0   \n",
       "113934                0                           0   \n",
       "113935                0                           0   \n",
       "113936                0                           0   \n",
       "\n",
       "        InvestmentFromFriendsAmount Investors  ListingCreationDate_parsed  \\\n",
       "0                               0.0       258     2007-08-26 19:09:29.263   \n",
       "1                               0.0         1     2014-02-27 08:28:07.900   \n",
       "2                               0.0        41     2007-01-05 15:00:47.090   \n",
       "3                               0.0       158     2012-10-22 11:02:35.010   \n",
       "4                               0.0        20     2013-09-14 18:38:39.097   \n",
       "...                             ...       ...                         ...   \n",
       "113932                          0.0         1     2013-04-14 05:55:02.663   \n",
       "113933                          0.0        22     2011-11-03 20:42:55.333   \n",
       "113934                          0.0       119     2013-12-13 05:49:12.703   \n",
       "113935                          0.0       274     2011-11-14 13:18:26.597   \n",
       "113936                          0.0         1     2014-01-15 09:27:37.657   \n",
       "\n",
       "          ClosedDate_parsed DateCreditPulled_parsed  \\\n",
       "0       2009-08-14 00:00:00 2007-08-26 18:41:46.780   \n",
       "1                         0 2014-02-27 08:28:14.000   \n",
       "2       2009-12-17 00:00:00 2007-01-02 14:09:10.060   \n",
       "3                         0 2012-10-22 11:02:32.000   \n",
       "4                         0 2013-09-14 18:38:44.000   \n",
       "...                     ...                     ...   \n",
       "113932                    0 2013-04-14 05:54:58.000   \n",
       "113933                    0 2011-11-03 20:42:53.000   \n",
       "113934                    0 2013-12-13 05:49:15.000   \n",
       "113935  2013-08-13 00:00:00 2011-11-14 13:18:24.000   \n",
       "113936                    0 2014-01-15 09:27:40.000   \n",
       "\n",
       "       LoanOriginationDate_parsed Status  \n",
       "0                      2007-09-12      1  \n",
       "1                      2014-03-03      1  \n",
       "2                      2007-01-17      1  \n",
       "3                      2012-11-01      1  \n",
       "4                      2013-09-20      1  \n",
       "...                           ...    ...  \n",
       "113932                 2013-04-22      1  \n",
       "113933                 2011-11-07      0  \n",
       "113934                 2013-12-23      1  \n",
       "113935                 2011-11-21      1  \n",
       "113936                 2014-01-21      1  \n",
       "\n",
       "[113937 rows x 86 columns]"
      ]
     },
     "execution_count": 13,
     "metadata": {},
     "output_type": "execute_result"
    }
   ],
   "source": [
    "subset_loan = loan.loc[:, :]\n",
    "# replace all NA's with 0\n",
    "subset_loan.fillna(0)"
   ]
  },
  {
   "cell_type": "markdown",
   "id": "f9474832",
   "metadata": {
    "papermill": {
     "duration": 0.017346,
     "end_time": "2022-07-25T19:14:13.161595",
     "exception": false,
     "start_time": "2022-07-25T19:14:13.144249",
     "status": "completed"
    },
    "tags": []
   },
   "source": [
    "# Let's see What features in the dataset will help support our investigation into the performance of the loan\n",
    "**From my point of vue , this features are the most important ones :**\n",
    "* IncomeRange\n",
    "* DebToIncomeRatio \n",
    "* CreditGrade\n",
    "* ProsperScore\n",
    "* IsBorrowerHomeowner \n",
    "* ProsperRating (Alpha) \n",
    "* Investors \n",
    "* EstimatedReturn \n",
    "* CurrentlyInGroup...."
   ]
  },
  {
   "cell_type": "code",
   "execution_count": 14,
   "id": "d0f1fe7c",
   "metadata": {
    "execution": {
     "iopub.execute_input": "2022-07-25T19:14:13.198906Z",
     "iopub.status.busy": "2022-07-25T19:14:13.198167Z",
     "iopub.status.idle": "2022-07-25T19:14:13.208564Z",
     "shell.execute_reply": "2022-07-25T19:14:13.207423Z"
    },
    "papermill": {
     "duration": 0.031619,
     "end_time": "2022-07-25T19:14:13.210951",
     "exception": false,
     "start_time": "2022-07-25T19:14:13.179332",
     "status": "completed"
    },
    "tags": []
   },
   "outputs": [],
   "source": [
    "cels=['IncomeRange','BorrowerRate','DebtToIncomeRatio','CreditGrade','ProsperScore','IsBorrowerHomeowner','ProsperRating (Alpha)','Investors','EstimatedReturn','CurrentlyInGroup','EmploymentStatus','Status']\n",
    "int_feat=subset_loan[cels]"
   ]
  },
  {
   "cell_type": "code",
   "execution_count": 15,
   "id": "4a206732",
   "metadata": {
    "execution": {
     "iopub.execute_input": "2022-07-25T19:14:13.249290Z",
     "iopub.status.busy": "2022-07-25T19:14:13.248595Z",
     "iopub.status.idle": "2022-07-25T19:14:15.398929Z",
     "shell.execute_reply": "2022-07-25T19:14:15.397204Z"
    },
    "papermill": {
     "duration": 2.173844,
     "end_time": "2022-07-25T19:14:15.402588",
     "exception": false,
     "start_time": "2022-07-25T19:14:13.228744",
     "status": "completed"
    },
    "tags": []
   },
   "outputs": [
    {
     "data": {
      "text/plain": [
       "<AxesSubplot:>"
      ]
     },
     "execution_count": 15,
     "metadata": {},
     "output_type": "execute_result"
    },
    {
     "data": {
      "image/png": "[encoded data removed]",
      "text/plain": [
       "<Figure size 1080x720 with 1 Axes>"
      ]
     },
     "metadata": {},
     "output_type": "display_data"
    }
   ],
   "source": [
    "plt.figure(figsize=(15,10))\n",
    "sns.heatmap(int_feat.isnull(), cbar = False, cmap='flag_r')"
   ]
  },
  {
   "cell_type": "markdown",
   "id": "45ef7eda",
   "metadata": {
    "papermill": {
     "duration": 0.0205,
     "end_time": "2022-07-25T19:14:15.442644",
     "exception": false,
     "start_time": "2022-07-25T19:14:15.422144",
     "status": "completed"
    },
    "tags": []
   },
   "source": [
    "\n",
    "# Let's see if Borrower are Homeowner!"
   ]
  },
  {
   "cell_type": "code",
   "execution_count": 16,
   "id": "d2947697",
   "metadata": {
    "execution": {
     "iopub.execute_input": "2022-07-25T19:14:15.485164Z",
     "iopub.status.busy": "2022-07-25T19:14:15.484172Z",
     "iopub.status.idle": "2022-07-25T19:14:15.682364Z",
     "shell.execute_reply": "2022-07-25T19:14:15.681214Z"
    },
    "papermill": {
     "duration": 0.222865,
     "end_time": "2022-07-25T19:14:15.685181",
     "exception": false,
     "start_time": "2022-07-25T19:14:15.462316",
     "status": "completed"
    },
    "tags": []
   },
   "outputs": [
    {
     "data": {
      "image/png": "[encoded data removed]",
      "text/plain": [
       "<Figure size 360x504 with 1 Axes>"
      ]
     },
     "metadata": {},
     "output_type": "display_data"
    }
   ],
   "source": [
    "plt.figure(figsize=(5,7))\n",
    "#ploting \n",
    "ax=sns.countplot(x='IsBorrowerHomeowner', data=int_feat, palette='BuPu' )\n",
    "plt.xlabel('Is Borrower Homeowner')\n",
    "plt.ylabel('Occurence')\n",
    "plt.title('How many Borrower are homeowner')\n",
    "#annotating the percentage\n",
    "total = float(len(int_feat))\n",
    "for p in ax.patches:\n",
    "    percentage = '{:.1f}%'.format(100 * p.get_height()/total)\n",
    "    x = p.get_x() + p.get_width()\n",
    "    y = p.get_height()\n",
    "    ax.annotate(percentage, (x, y),ha='right')\n",
    "plt.show()"
   ]
  },
  {
   "cell_type": "markdown",
   "id": "b7a4c044",
   "metadata": {
    "papermill": {
     "duration": 0.018912,
     "end_time": "2022-07-25T19:14:15.723626",
     "exception": false,
     "start_time": "2022-07-25T19:14:15.704714",
     "status": "completed"
    },
    "tags": []
   },
   "source": [
    "* **Intresting to see that half borrowers are homeowners while the other half are not**\n",
    "* so it looks that the feature of owning a home alone, does not affect the performance of the loan performance"
   ]
  },
  {
   "cell_type": "markdown",
   "id": "08deb7df",
   "metadata": {
    "papermill": {
     "duration": 0.019198,
     "end_time": "2022-07-25T19:14:15.762655",
     "exception": false,
     "start_time": "2022-07-25T19:14:15.743457",
     "status": "completed"
    },
    "tags": []
   },
   "source": [
    "# Let's see how income range affects loans"
   ]
  },
  {
   "cell_type": "code",
   "execution_count": 17,
   "id": "36c87258",
   "metadata": {
    "execution": {
     "iopub.execute_input": "2022-07-25T19:14:15.805906Z",
     "iopub.status.busy": "2022-07-25T19:14:15.805294Z",
     "iopub.status.idle": "2022-07-25T19:14:15.832088Z",
     "shell.execute_reply": "2022-07-25T19:14:15.830751Z"
    },
    "papermill": {
     "duration": 0.052489,
     "end_time": "2022-07-25T19:14:15.835323",
     "exception": false,
     "start_time": "2022-07-25T19:14:15.782834",
     "status": "completed"
    },
    "tags": []
   },
   "outputs": [
    {
     "name": "stdout",
     "output_type": "stream",
     "text": [
      "$25,000-49,999    32192\n",
      "$50,000-74,999    31050\n",
      "$100,000+         17337\n",
      "$75,000-99,999    16916\n",
      "Not displayed      7741\n",
      "$1-24,999          7274\n",
      "Not employed        806\n",
      "$0                  621\n",
      "Name: IncomeRange, dtype: int64\n"
     ]
    }
   ],
   "source": [
    "print (int_feat.IncomeRange.value_counts())"
   ]
  },
  {
   "cell_type": "markdown",
   "id": "98e21039",
   "metadata": {
    "papermill": {
     "duration": 0.019084,
     "end_time": "2022-07-25T19:14:15.875894",
     "exception": false,
     "start_time": "2022-07-25T19:14:15.856810",
     "status": "completed"
    },
    "tags": []
   },
   "source": [
    "**To simplify the data visualisation we need to replace 'Not displayed ' and 'Not employed' with '$0'**"
   ]
  },
  {
   "cell_type": "code",
   "execution_count": 18,
   "id": "07c84498",
   "metadata": {
    "execution": {
     "iopub.execute_input": "2022-07-25T19:14:15.917144Z",
     "iopub.status.busy": "2022-07-25T19:14:15.916383Z",
     "iopub.status.idle": "2022-07-25T19:14:15.951738Z",
     "shell.execute_reply": "2022-07-25T19:14:15.950765Z"
    },
    "papermill": {
     "duration": 0.059233,
     "end_time": "2022-07-25T19:14:15.954321",
     "exception": false,
     "start_time": "2022-07-25T19:14:15.895088",
     "status": "completed"
    },
    "tags": []
   },
   "outputs": [
    {
     "name": "stderr",
     "output_type": "stream",
     "text": [
      "/opt/conda/lib/python3.7/site-packages/pandas/core/generic.py:6619: SettingWithCopyWarning: \n",
      "A value is trying to be set on a copy of a slice from a DataFrame\n",
      "\n",
      "See the caveats in the documentation: https://pandas.pydata.org/pandas-docs/stable/user_guide/indexing.html#returning-a-view-versus-a-copy\n",
      "  return self._update_inplace(result)\n"
     ]
    }
   ],
   "source": [
    "int_feat['IncomeRange'].replace(['Not employed', 'Not displayed'], '$0', inplace = True)"
   ]
  },
  {
   "cell_type": "code",
   "execution_count": 19,
   "id": "cc0c1bab",
   "metadata": {
    "execution": {
     "iopub.execute_input": "2022-07-25T19:14:15.996279Z",
     "iopub.status.busy": "2022-07-25T19:14:15.995544Z",
     "iopub.status.idle": "2022-07-25T19:14:16.360891Z",
     "shell.execute_reply": "2022-07-25T19:14:16.360057Z"
    },
    "papermill": {
     "duration": 0.389425,
     "end_time": "2022-07-25T19:14:16.363453",
     "exception": false,
     "start_time": "2022-07-25T19:14:15.974028",
     "status": "completed"
    },
    "tags": []
   },
   "outputs": [
    {
     "data": {
      "image/png": "[encoded data removed]",
      "text/plain": [
       "<Figure size 720x360 with 1 Axes>"
      ]
     },
     "metadata": {},
     "output_type": "display_data"
    }
   ],
   "source": [
    "plt.figure(figsize = [10, 5])\n",
    "# bar chart\n",
    "ax=sns.countplot(x = 'IncomeRange',  data = int_feat, palette='Blues')\n",
    "plt.xlabel('Income Range')\n",
    "plt.ylabel('Count')\n",
    "plt.title('Distribution of Borrower Incomes')\n",
    "\n",
    "#annotating the percentage\n",
    "total = float(len(int_feat))\n",
    "for p in ax.patches:\n",
    "    percentage = '{:.1f}%'.format(100 * p.get_height()/total)\n",
    "    x = p.get_x() + p.get_width()\n",
    "    y = p.get_height()\n",
    "    ax.annotate(percentage, (x, y),ha='right')\n",
    "plt.show()"
   ]
  },
  {
   "cell_type": "code",
   "execution_count": 20,
   "id": "69e93246",
   "metadata": {
    "execution": {
     "iopub.execute_input": "2022-07-25T19:14:16.405208Z",
     "iopub.status.busy": "2022-07-25T19:14:16.404815Z",
     "iopub.status.idle": "2022-07-25T19:14:16.803088Z",
     "shell.execute_reply": "2022-07-25T19:14:16.802184Z"
    },
    "papermill": {
     "duration": 0.421747,
     "end_time": "2022-07-25T19:14:16.805165",
     "exception": false,
     "start_time": "2022-07-25T19:14:16.383418",
     "status": "completed"
    },
    "tags": []
   },
   "outputs": [
    {
     "data": {
      "image/png": "[encoded data removed]",
      "text/plain": [
       "<Figure size 576x360 with 1 Axes>"
      ]
     },
     "metadata": {},
     "output_type": "display_data"
    }
   ],
   "source": [
    "plt.figure(figsize = [8,5])\n",
    "ax = sns.countplot(data = int_feat, y = 'IncomeRange', hue = 'IsBorrowerHomeowner',\n",
    "                   palette = 'rocket')"
   ]
  },
  {
   "cell_type": "markdown",
   "id": "869964fe",
   "metadata": {
    "papermill": {
     "duration": 0.020603,
     "end_time": "2022-07-25T19:14:16.846006",
     "exception": false,
     "start_time": "2022-07-25T19:14:16.825403",
     "status": "completed"
    },
    "tags": []
   },
   "source": [
    "\n",
    "* **we notice that most borrowers have an income of 25k-50K and 50K-75K**\n",
    "* **It's also clear that the number of borrowers for the 25K-50K categorie is the same as 50K-75K categorie (same goes for 75K-100K and 100K-125K categories)**\n",
    "* so it looks like the income feature does affect the loan performance"
   ]
  },
  {
   "cell_type": "markdown",
   "id": "2475b307",
   "metadata": {
    "papermill": {
     "duration": 0.020115,
     "end_time": "2022-07-25T19:14:16.886562",
     "exception": false,
     "start_time": "2022-07-25T19:14:16.866447",
     "status": "completed"
    },
    "tags": []
   },
   "source": [
    "# Let's take a look how the borrower's Debt to Income Ratio looks like \n",
    "* This is very for a creditor who wants to make sure you're not overleveraged in the case you have a loss of income and are unable to repay all of your debts."
   ]
  },
  {
   "cell_type": "code",
   "execution_count": 21,
   "id": "b6a3c338",
   "metadata": {
    "execution": {
     "iopub.execute_input": "2022-07-25T19:14:16.929835Z",
     "iopub.status.busy": "2022-07-25T19:14:16.929094Z",
     "iopub.status.idle": "2022-07-25T19:14:18.107214Z",
     "shell.execute_reply": "2022-07-25T19:14:18.106305Z"
    },
    "papermill": {
     "duration": 1.202212,
     "end_time": "2022-07-25T19:14:18.109420",
     "exception": false,
     "start_time": "2022-07-25T19:14:16.907208",
     "status": "completed"
    },
    "tags": []
   },
   "outputs": [
    {
     "data": {
      "text/plain": [
       "<Figure size 576x360 with 0 Axes>"
      ]
     },
     "metadata": {},
     "output_type": "display_data"
    },
    {
     "data": {
      "image/png": "[encoded data removed]",
      "text/plain": [
       "<Figure size 360x360 with 1 Axes>"
      ]
     },
     "metadata": {},
     "output_type": "display_data"
    }
   ],
   "source": [
    "plt.figure(figsize = [8,5])\n",
    "sns.displot(int_feat['DebtToIncomeRatio'],bins=200, kde=True , color='red')\n",
    "plt.xlim(-.1, 1)\n",
    "plt.xlabel('Debt to Income Ratio')\n",
    "plt.ylabel('Count')\n",
    "plt.title('Distribution of Borrower Debt to Income Ratio');"
   ]
  },
  {
   "cell_type": "markdown",
   "id": "8395a7cb",
   "metadata": {
    "papermill": {
     "duration": 0.021835,
     "end_time": "2022-07-25T19:14:18.152925",
     "exception": false,
     "start_time": "2022-07-25T19:14:18.131090",
     "status": "completed"
    },
    "tags": []
   },
   "source": [
    "* **It looks like most borrowers have a dept to income ratio of 20%**"
   ]
  },
  {
   "cell_type": "markdown",
   "id": "22946237",
   "metadata": {
    "papermill": {
     "duration": 0.022256,
     "end_time": "2022-07-25T19:14:18.198281",
     "exception": false,
     "start_time": "2022-07-25T19:14:18.176025",
     "status": "completed"
    },
    "tags": []
   },
   "source": [
    "# Let's see how being in a group affects the loan performance"
   ]
  },
  {
   "cell_type": "code",
   "execution_count": 22,
   "id": "6d474303",
   "metadata": {
    "execution": {
     "iopub.execute_input": "2022-07-25T19:14:18.243220Z",
     "iopub.status.busy": "2022-07-25T19:14:18.242520Z",
     "iopub.status.idle": "2022-07-25T19:14:18.427222Z",
     "shell.execute_reply": "2022-07-25T19:14:18.426099Z"
    },
    "papermill": {
     "duration": 0.210586,
     "end_time": "2022-07-25T19:14:18.429753",
     "exception": false,
     "start_time": "2022-07-25T19:14:18.219167",
     "status": "completed"
    },
    "tags": []
   },
   "outputs": [
    {
     "data": {
      "image/png": "[encoded data removed]",
      "text/plain": [
       "<Figure size 360x504 with 1 Axes>"
      ]
     },
     "metadata": {},
     "output_type": "display_data"
    }
   ],
   "source": [
    "\n",
    "plt.figure(figsize=(5,7))\n",
    "#ploting \n",
    "ax=sns.countplot(x='CurrentlyInGroup', data=int_feat, palette='Dark2_r' )\n",
    "plt.xlabel('Currently In  Group')\n",
    "plt.ylabel('Occurence')\n",
    "plt.title('How many Borrower in a group')\n",
    "#annotating the percentage\n",
    "total = float(len(int_feat))\n",
    "for p in ax.patches:\n",
    "    percentage = '{:.1f}%'.format(100 * p.get_height()/total)\n",
    "    x = p.get_x() + p.get_width()\n",
    "    y = p.get_height()\n",
    "    ax.annotate(percentage, (x, y),ha='right')\n",
    "plt.show()"
   ]
  },
  {
   "cell_type": "markdown",
   "id": "f1edce7c",
   "metadata": {
    "papermill": {
     "duration": 0.020764,
     "end_time": "2022-07-25T19:14:18.471743",
     "exception": false,
     "start_time": "2022-07-25T19:14:18.450979",
     "status": "completed"
    },
    "tags": []
   },
   "source": [
    "# How having investors affects the loan performance"
   ]
  },
  {
   "cell_type": "code",
   "execution_count": 23,
   "id": "60259ae6",
   "metadata": {
    "execution": {
     "iopub.execute_input": "2022-07-25T19:14:18.516020Z",
     "iopub.status.busy": "2022-07-25T19:14:18.515574Z",
     "iopub.status.idle": "2022-07-25T19:14:18.887112Z",
     "shell.execute_reply": "2022-07-25T19:14:18.885709Z"
    },
    "papermill": {
     "duration": 0.396829,
     "end_time": "2022-07-25T19:14:18.889807",
     "exception": false,
     "start_time": "2022-07-25T19:14:18.492978",
     "status": "completed"
    },
    "tags": []
   },
   "outputs": [
    {
     "data": {
      "text/plain": [
       "(-0.1, 1.0)"
      ]
     },
     "execution_count": 23,
     "metadata": {},
     "output_type": "execute_result"
    },
    {
     "data": {
      "image/png": "[encoded data removed]",
      "text/plain": [
       "<Figure size 576x360 with 1 Axes>"
      ]
     },
     "metadata": {},
     "output_type": "display_data"
    }
   ],
   "source": [
    "plt.figure(figsize = [8,5])\n",
    "sns.scatterplot(data=int_feat, x='EstimatedReturn',y='Investors',color='brown')\n",
    "plt.xlim(-.1, 1)"
   ]
  },
  {
   "cell_type": "code",
   "execution_count": 24,
   "id": "d2097ce9",
   "metadata": {
    "execution": {
     "iopub.execute_input": "2022-07-25T19:14:18.936864Z",
     "iopub.status.busy": "2022-07-25T19:14:18.936400Z",
     "iopub.status.idle": "2022-07-25T19:14:19.278193Z",
     "shell.execute_reply": "2022-07-25T19:14:19.276844Z"
    },
    "papermill": {
     "duration": 0.368269,
     "end_time": "2022-07-25T19:14:19.280947",
     "exception": false,
     "start_time": "2022-07-25T19:14:18.912678",
     "status": "completed"
    },
    "tags": []
   },
   "outputs": [
    {
     "data": {
      "text/plain": [
       "<AxesSubplot:xlabel='CreditGrade', ylabel='Investors'>"
      ]
     },
     "execution_count": 24,
     "metadata": {},
     "output_type": "execute_result"
    },
    {
     "data": {
      "image/png": "[encoded data removed]",
      "text/plain": [
       "<Figure size 576x360 with 1 Axes>"
      ]
     },
     "metadata": {},
     "output_type": "display_data"
    }
   ],
   "source": [
    "plt.figure(figsize = [8,5])\n",
    "sns.scatterplot(data=int_feat, x='CreditGrade',y='Investors',color='pink')"
   ]
  },
  {
   "cell_type": "code",
   "execution_count": 25,
   "id": "e72c148a",
   "metadata": {
    "execution": {
     "iopub.execute_input": "2022-07-25T19:14:19.329367Z",
     "iopub.status.busy": "2022-07-25T19:14:19.328240Z",
     "iopub.status.idle": "2022-07-25T19:14:19.731925Z",
     "shell.execute_reply": "2022-07-25T19:14:19.731062Z"
    },
    "papermill": {
     "duration": 0.43034,
     "end_time": "2022-07-25T19:14:19.734238",
     "exception": false,
     "start_time": "2022-07-25T19:14:19.303898",
     "status": "completed"
    },
    "tags": []
   },
   "outputs": [
    {
     "data": {
      "text/plain": [
       "<AxesSubplot:xlabel='DebtToIncomeRatio', ylabel='Investors'>"
      ]
     },
     "execution_count": 25,
     "metadata": {},
     "output_type": "execute_result"
    },
    {
     "data": {
      "image/png": "[encoded data removed]",
      "text/plain": [
       "<Figure size 576x360 with 1 Axes>"
      ]
     },
     "metadata": {},
     "output_type": "display_data"
    }
   ],
   "source": [
    "plt.figure(figsize = [8,5])\n",
    "sns.scatterplot(data=int_feat, x='DebtToIncomeRatio',y='Investors',color='orange')\n"
   ]
  },
  {
   "cell_type": "code",
   "execution_count": 26,
   "id": "123826d6",
   "metadata": {
    "execution": {
     "iopub.execute_input": "2022-07-25T19:14:19.786223Z",
     "iopub.status.busy": "2022-07-25T19:14:19.785594Z",
     "iopub.status.idle": "2022-07-25T19:14:20.202130Z",
     "shell.execute_reply": "2022-07-25T19:14:20.200824Z"
    },
    "papermill": {
     "duration": 0.445822,
     "end_time": "2022-07-25T19:14:20.205232",
     "exception": false,
     "start_time": "2022-07-25T19:14:19.759410",
     "status": "completed"
    },
    "tags": []
   },
   "outputs": [
    {
     "data": {
      "text/plain": [
       "<AxesSubplot:xlabel='IsBorrowerHomeowner', ylabel='Investors'>"
      ]
     },
     "execution_count": 26,
     "metadata": {},
     "output_type": "execute_result"
    },
    {
     "data": {
      "image/png": "[encoded data removed]",
      "text/plain": [
       "<Figure size 576x360 with 1 Axes>"
      ]
     },
     "metadata": {},
     "output_type": "display_data"
    }
   ],
   "source": [
    "plt.figure(figsize = [8,5])\n",
    "sns.scatterplot(data=int_feat, x='IsBorrowerHomeowner',y='Investors',color='Green')"
   ]
  },
  {
   "cell_type": "markdown",
   "id": "45f2d333",
   "metadata": {
    "papermill": {
     "duration": 0.024535,
     "end_time": "2022-07-25T19:14:20.253889",
     "exception": false,
     "start_time": "2022-07-25T19:14:20.229354",
     "status": "completed"
    },
    "tags": []
   },
   "source": [
    "**From the last 3 plots we can conclud that Investors tend to invest for the loans of the people with:**\n",
    "* credit grade of AA or A or B, The grades of C, D and E have far less investors to them.\n",
    "* debt to income ratio of 0-25%,  however a decent number of investors are investing in loans with the deb to income ratio of 10.\n",
    "* Estimated return of 0-20%\n",
    "* owning home\n",
    "* **This implies that having a better credit score, being a homeowner, having an estimadet return of 0-20% or having a dept to income ratio of 0-25% will always have more chances of getting you more investors , resulting in a better loan performance.**"
   ]
  },
  {
   "cell_type": "markdown",
   "id": "87e32be8",
   "metadata": {
    "papermill": {
     "duration": 0.023726,
     "end_time": "2022-07-25T19:14:20.302157",
     "exception": false,
     "start_time": "2022-07-25T19:14:20.278431",
     "status": "completed"
    },
    "tags": []
   },
   "source": [
    "#  Employment Status and Borrower Rate vs Status"
   ]
  },
  {
   "cell_type": "code",
   "execution_count": 27,
   "id": "c65522e4",
   "metadata": {
    "execution": {
     "iopub.execute_input": "2022-07-25T19:14:20.351153Z",
     "iopub.status.busy": "2022-07-25T19:14:20.350764Z",
     "iopub.status.idle": "2022-07-25T19:14:21.042738Z",
     "shell.execute_reply": "2022-07-25T19:14:21.041965Z"
    },
    "papermill": {
     "duration": 0.719065,
     "end_time": "2022-07-25T19:14:21.044941",
     "exception": false,
     "start_time": "2022-07-25T19:14:20.325876",
     "status": "completed"
    },
    "tags": []
   },
   "outputs": [
    {
     "data": {
      "image/png": "[encoded data removed]",
      "text/plain": [
       "<Figure size 864x576 with 1 Axes>"
      ]
     },
     "metadata": {},
     "output_type": "display_data"
    }
   ],
   "source": [
    "plt.figure(figsize = [12,8])\n",
    "sns.boxplot(data = int_feat, y = 'BorrowerRate', \n",
    "            x = 'EmploymentStatus', hue = \"Status\");\n",
    "\n",
    "plt.xlabel('Employment Status')\n",
    "plt.ylabel('Borrower Rate')\n",
    "plt.title('Employment Status and Borrower Rate vs Status');\n",
    "plt.xticks(rotation = 50);"
   ]
  },
  {
   "cell_type": "markdown",
   "id": "21b76abc",
   "metadata": {
    "papermill": {
     "duration": 0.024929,
     "end_time": "2022-07-25T19:14:21.095069",
     "exception": false,
     "start_time": "2022-07-25T19:14:21.070140",
     "status": "completed"
    },
    "tags": []
   },
   "source": [
    "# Correlation Among Numeric Variables"
   ]
  },
  {
   "cell_type": "code",
   "execution_count": 28,
   "id": "86d22ab5",
   "metadata": {
    "execution": {
     "iopub.execute_input": "2022-07-25T19:14:21.148031Z",
     "iopub.status.busy": "2022-07-25T19:14:21.147078Z",
     "iopub.status.idle": "2022-07-25T19:14:21.966092Z",
     "shell.execute_reply": "2022-07-25T19:14:21.964809Z"
    },
    "papermill": {
     "duration": 0.849724,
     "end_time": "2022-07-25T19:14:21.970018",
     "exception": false,
     "start_time": "2022-07-25T19:14:21.120294",
     "status": "completed"
    },
    "tags": []
   },
   "outputs": [
    {
     "data": {
      "image/png": "[encoded data removed]",
      "text/plain": [
       "<Figure size 720x576 with 2 Axes>"
      ]
     },
     "metadata": {},
     "output_type": "display_data"
    }
   ],
   "source": [
    "heat = ['BorrowerAPR','BorrowerRate','LenderYield', 'ProsperScore', 'CreditScoreRangeLower',\n",
    "       'CreditScoreRangeUpper', 'RevolvingCreditBalance','BankcardUtilization', 'DebtToIncomeRatio', \n",
    "       'LoanOriginalAmount']\n",
    "plt.figure(figsize = [10,8])\n",
    "sns.heatmap(subset_loan[heat].corr(), cmap = 'rocket_r', annot = True, fmt = '.2f');"
   ]
  },
  {
   "cell_type": "markdown",
   "id": "60c63cee",
   "metadata": {
    "papermill": {
     "duration": 0.038798,
     "end_time": "2022-07-25T19:14:22.039131",
     "exception": false,
     "start_time": "2022-07-25T19:14:22.000333",
     "status": "completed"
    },
    "tags": []
   },
   "source": [
    "# Answering some of the Research questions"
   ]
  },
  {
   "cell_type": "markdown",
   "id": "4a028779",
   "metadata": {
    "papermill": {
     "duration": 0.026315,
     "end_time": "2022-07-25T19:14:22.093825",
     "exception": false,
     "start_time": "2022-07-25T19:14:22.067510",
     "status": "completed"
    },
    "tags": []
   },
   "source": [
    "**What are the most number of borrowers Credit Grade?**"
   ]
  },
  {
   "cell_type": "code",
   "execution_count": 29,
   "id": "cfe788ec",
   "metadata": {
    "execution": {
     "iopub.execute_input": "2022-07-25T19:14:22.147893Z",
     "iopub.status.busy": "2022-07-25T19:14:22.146485Z",
     "iopub.status.idle": "2022-07-25T19:14:22.456813Z",
     "shell.execute_reply": "2022-07-25T19:14:22.455214Z"
    },
    "papermill": {
     "duration": 0.341067,
     "end_time": "2022-07-25T19:14:22.460581",
     "exception": false,
     "start_time": "2022-07-25T19:14:22.119514",
     "status": "completed"
    },
    "tags": []
   },
   "outputs": [
    {
     "data": {
      "image/png": "[encoded data removed]",
      "text/plain": [
       "<Figure size 720x576 with 1 Axes>"
      ]
     },
     "metadata": {},
     "output_type": "display_data"
    }
   ],
   "source": [
    "plt.figure(figsize = [10,8])\n",
    "sns.countplot(x=subset_loan['CreditGrade']);\n"
   ]
  },
  {
   "cell_type": "markdown",
   "id": "c2b7be04",
   "metadata": {
    "papermill": {
     "duration": 0.027394,
     "end_time": "2022-07-25T19:14:22.517358",
     "exception": false,
     "start_time": "2022-07-25T19:14:22.489964",
     "status": "completed"
    },
    "tags": []
   },
   "source": [
    "**Since there are so much low Credit Grade such as C and D , does it lead to a higher amount of deliquency ?**"
   ]
  },
  {
   "cell_type": "code",
   "execution_count": 30,
   "id": "38bac8f1",
   "metadata": {
    "execution": {
     "iopub.execute_input": "2022-07-25T19:14:22.572584Z",
     "iopub.status.busy": "2022-07-25T19:14:22.572156Z",
     "iopub.status.idle": "2022-07-25T19:14:22.767948Z",
     "shell.execute_reply": "2022-07-25T19:14:22.765701Z"
    },
    "papermill": {
     "duration": 0.22727,
     "end_time": "2022-07-25T19:14:22.771696",
     "exception": false,
     "start_time": "2022-07-25T19:14:22.544426",
     "status": "completed"
    },
    "tags": []
   },
   "outputs": [
    {
     "name": "stderr",
     "output_type": "stream",
     "text": [
      "/opt/conda/lib/python3.7/site-packages/seaborn/_decorators.py:43: FutureWarning: Pass the following variable as a keyword arg: x. From version 0.12, the only valid positional argument will be `data`, and passing other arguments without an explicit keyword will result in an error or misinterpretation.\n",
      "  FutureWarning\n"
     ]
    },
    {
     "data": {
      "image/png": "[encoded data removed]",
      "text/plain": [
       "<Figure size 720x576 with 1 Axes>"
      ]
     },
     "metadata": {},
     "output_type": "display_data"
    }
   ],
   "source": [
    "plt.figure(figsize = [10,8])\n",
    "sns.countplot(subset_loan[\"Status\"], palette=\"hls\");"
   ]
  },
  {
   "cell_type": "markdown",
   "id": "8a2c94f2",
   "metadata": {
    "papermill": {
     "duration": 0.026876,
     "end_time": "2022-07-25T19:14:22.826405",
     "exception": false,
     "start_time": "2022-07-25T19:14:22.799529",
     "status": "completed"
    },
    "tags": []
   },
   "source": [
    "**What is the highest number of BorrowerRate?**"
   ]
  },
  {
   "cell_type": "code",
   "execution_count": 31,
   "id": "cd10e667",
   "metadata": {
    "execution": {
     "iopub.execute_input": "2022-07-25T19:14:22.885195Z",
     "iopub.status.busy": "2022-07-25T19:14:22.884726Z",
     "iopub.status.idle": "2022-07-25T19:14:23.565396Z",
     "shell.execute_reply": "2022-07-25T19:14:23.564145Z"
    },
    "papermill": {
     "duration": 0.714554,
     "end_time": "2022-07-25T19:14:23.568512",
     "exception": false,
     "start_time": "2022-07-25T19:14:22.853958",
     "status": "completed"
    },
    "tags": []
   },
   "outputs": [
    {
     "data": {
      "text/plain": [
       "<AxesSubplot:xlabel='BorrowerRate', ylabel='Density'>"
      ]
     },
     "execution_count": 31,
     "metadata": {},
     "output_type": "execute_result"
    },
    {
     "data": {
      "image/png": "[encoded data removed]",
      "text/plain": [
       "<Figure size 720x576 with 1 Axes>"
      ]
     },
     "metadata": {},
     "output_type": "display_data"
    }
   ],
   "source": [
    "plt.figure(figsize = [10,8])\n",
    "sns.kdeplot(subset_loan['BorrowerRate'], shade=True, color=\"y\")"
   ]
  },
  {
   "cell_type": "markdown",
   "id": "e0377d93",
   "metadata": {
    "papermill": {
     "duration": 0.032327,
     "end_time": "2022-07-25T19:14:23.628157",
     "exception": false,
     "start_time": "2022-07-25T19:14:23.595830",
     "status": "completed"
    },
    "tags": []
   },
   "source": [
    "**Since the highest number of Borrower Rate is between 0.1 and 0.2, does the highest number of Lender Yield is between 0.1 and 0.2?**"
   ]
  },
  {
   "cell_type": "code",
   "execution_count": 32,
   "id": "0d5d450f",
   "metadata": {
    "execution": {
     "iopub.execute_input": "2022-07-25T19:14:23.686662Z",
     "iopub.status.busy": "2022-07-25T19:14:23.684963Z",
     "iopub.status.idle": "2022-07-25T19:14:24.355335Z",
     "shell.execute_reply": "2022-07-25T19:14:24.354115Z"
    },
    "papermill": {
     "duration": 0.701599,
     "end_time": "2022-07-25T19:14:24.357974",
     "exception": false,
     "start_time": "2022-07-25T19:14:23.656375",
     "status": "completed"
    },
    "tags": []
   },
   "outputs": [
    {
     "data": {
      "text/plain": [
       "<AxesSubplot:xlabel='LenderYield', ylabel='Density'>"
      ]
     },
     "execution_count": 32,
     "metadata": {},
     "output_type": "execute_result"
    },
    {
     "data": {
      "image/png": "[encoded data removed]",
      "text/plain": [
       "<Figure size 720x576 with 1 Axes>"
      ]
     },
     "metadata": {},
     "output_type": "display_data"
    }
   ],
   "source": [
    "plt.figure(figsize = [10,8])\n",
    "sns.kdeplot(subset_loan['LenderYield'], shade=True, color=\"g\")\n"
   ]
  },
  {
   "cell_type": "markdown",
   "id": "12edaf64",
   "metadata": {
    "papermill": {
     "duration": 0.029438,
     "end_time": "2022-07-25T19:14:24.416190",
     "exception": false,
     "start_time": "2022-07-25T19:14:24.386752",
     "status": "completed"
    },
    "tags": []
   },
   "source": [
    "# Spliting DATA"
   ]
  },
  {
   "cell_type": "code",
   "execution_count": 33,
   "id": "ae85841e",
   "metadata": {
    "execution": {
     "iopub.execute_input": "2022-07-25T19:14:24.479303Z",
     "iopub.status.busy": "2022-07-25T19:14:24.478837Z",
     "iopub.status.idle": "2022-07-25T19:14:24.510531Z",
     "shell.execute_reply": "2022-07-25T19:14:24.509135Z"
    },
    "papermill": {
     "duration": 0.066152,
     "end_time": "2022-07-25T19:14:24.513250",
     "exception": false,
     "start_time": "2022-07-25T19:14:24.447098",
     "status": "completed"
    },
    "tags": []
   },
   "outputs": [],
   "source": [
    "x = subset_loan.drop(columns=['ListingKey','CreditGrade','ListingCreationDate','LoanStatus','ClosedDate'\n",
    ",'ProsperRating (Alpha)','BorrowerState','Occupation','EmploymentStatus','GroupKey'\n",
    ",'DateCreditPulled','FirstRecordedCreditLine','IncomeRange','LoanKey','LoanOriginationDate'\n",
    ",'LoanOriginationQuarter','MemberKey','ListingCreationDate_parsed','ClosedDate_parsed','DateCreditPulled_parsed','LoanOriginationDate_parsed'  ])\n",
    "y= subset_loan['Status']"
   ]
  },
  {
   "cell_type": "markdown",
   "id": "1ee6c19d",
   "metadata": {
    "papermill": {
     "duration": 0.031222,
     "end_time": "2022-07-25T19:14:24.576254",
     "exception": false,
     "start_time": "2022-07-25T19:14:24.545032",
     "status": "completed"
    },
    "tags": []
   },
   "source": [
    "# Feature Engineering "
   ]
  },
  {
   "cell_type": "code",
   "execution_count": 34,
   "id": "508d7c05",
   "metadata": {
    "execution": {
     "iopub.execute_input": "2022-07-25T19:14:24.637188Z",
     "iopub.status.busy": "2022-07-25T19:14:24.636743Z",
     "iopub.status.idle": "2022-07-25T19:14:26.907529Z",
     "shell.execute_reply": "2022-07-25T19:14:26.906237Z"
    },
    "papermill": {
     "duration": 2.303768,
     "end_time": "2022-07-25T19:14:26.910188",
     "exception": false,
     "start_time": "2022-07-25T19:14:24.606420",
     "status": "completed"
    },
    "tags": []
   },
   "outputs": [
    {
     "data": {
      "text/html": [
       "<div>\n",
       "<style scoped>\n",
       "    .dataframe tbody tr th:only-of-type {\n",
       "        vertical-align: middle;\n",
       "    }\n",
       "\n",
       "    .dataframe tbody tr th {\n",
       "        vertical-align: top;\n",
       "    }\n",
       "\n",
       "    .dataframe thead th {\n",
       "        text-align: right;\n",
       "    }\n",
       "</style>\n",
       "<table border=\"1\" class=\"dataframe\">\n",
       "  <thead>\n",
       "    <tr style=\"text-align: right;\">\n",
       "      <th></th>\n",
       "      <th>ListingNumber</th>\n",
       "      <th>Term</th>\n",
       "      <th>ProsperRating (numeric)</th>\n",
       "      <th>ProsperScore</th>\n",
       "      <th>ListingCategory (numeric)</th>\n",
       "      <th>EmploymentStatusDuration</th>\n",
       "      <th>IsBorrowerHomeowner</th>\n",
       "      <th>CreditScoreRangeLower</th>\n",
       "      <th>CreditScoreRangeUpper</th>\n",
       "      <th>CurrentCreditLines</th>\n",
       "      <th>...</th>\n",
       "      <th>LP_CustomerPayments</th>\n",
       "      <th>LP_CustomerPrincipalPayments</th>\n",
       "      <th>LP_InterestandFees</th>\n",
       "      <th>LP_ServiceFees</th>\n",
       "      <th>LP_CollectionFees</th>\n",
       "      <th>LP_GrossPrincipalLoss</th>\n",
       "      <th>LP_NetPrincipalLoss</th>\n",
       "      <th>LP_NonPrincipalRecoverypayments</th>\n",
       "      <th>InvestmentFromFriendsAmount</th>\n",
       "      <th>Investors</th>\n",
       "    </tr>\n",
       "  </thead>\n",
       "  <tbody>\n",
       "    <tr>\n",
       "      <th>0</th>\n",
       "      <td>193129</td>\n",
       "      <td>36</td>\n",
       "      <td>NaN</td>\n",
       "      <td>NaN</td>\n",
       "      <td>0</td>\n",
       "      <td>2.0</td>\n",
       "      <td>True</td>\n",
       "      <td>640.0</td>\n",
       "      <td>659.0</td>\n",
       "      <td>5.0</td>\n",
       "      <td>...</td>\n",
       "      <td>11396.14</td>\n",
       "      <td>9425.0</td>\n",
       "      <td>1971.14</td>\n",
       "      <td>-133.18</td>\n",
       "      <td>0.0</td>\n",
       "      <td>0.0</td>\n",
       "      <td>0.0</td>\n",
       "      <td>0.0</td>\n",
       "      <td>0.0</td>\n",
       "      <td>258</td>\n",
       "    </tr>\n",
       "    <tr>\n",
       "      <th>1</th>\n",
       "      <td>1209647</td>\n",
       "      <td>36</td>\n",
       "      <td>6.0</td>\n",
       "      <td>7.0</td>\n",
       "      <td>2</td>\n",
       "      <td>44.0</td>\n",
       "      <td>False</td>\n",
       "      <td>680.0</td>\n",
       "      <td>699.0</td>\n",
       "      <td>14.0</td>\n",
       "      <td>...</td>\n",
       "      <td>0.0</td>\n",
       "      <td>0.0</td>\n",
       "      <td>0.0</td>\n",
       "      <td>0.0</td>\n",
       "      <td>0.0</td>\n",
       "      <td>0.0</td>\n",
       "      <td>0.0</td>\n",
       "      <td>0.0</td>\n",
       "      <td>0.0</td>\n",
       "      <td>1</td>\n",
       "    </tr>\n",
       "    <tr>\n",
       "      <th>2</th>\n",
       "      <td>81716</td>\n",
       "      <td>36</td>\n",
       "      <td>NaN</td>\n",
       "      <td>NaN</td>\n",
       "      <td>0</td>\n",
       "      <td>NaN</td>\n",
       "      <td>False</td>\n",
       "      <td>480.0</td>\n",
       "      <td>499.0</td>\n",
       "      <td>NaN</td>\n",
       "      <td>...</td>\n",
       "      <td>4186.63</td>\n",
       "      <td>3001.0</td>\n",
       "      <td>1185.63</td>\n",
       "      <td>-24.2</td>\n",
       "      <td>0.0</td>\n",
       "      <td>0.0</td>\n",
       "      <td>0.0</td>\n",
       "      <td>0.0</td>\n",
       "      <td>0.0</td>\n",
       "      <td>41</td>\n",
       "    </tr>\n",
       "    <tr>\n",
       "      <th>3</th>\n",
       "      <td>658116</td>\n",
       "      <td>36</td>\n",
       "      <td>6.0</td>\n",
       "      <td>9.0</td>\n",
       "      <td>16</td>\n",
       "      <td>113.0</td>\n",
       "      <td>True</td>\n",
       "      <td>800.0</td>\n",
       "      <td>819.0</td>\n",
       "      <td>5.0</td>\n",
       "      <td>...</td>\n",
       "      <td>5143.2</td>\n",
       "      <td>4091.09</td>\n",
       "      <td>1052.11</td>\n",
       "      <td>-108.01</td>\n",
       "      <td>0.0</td>\n",
       "      <td>0.0</td>\n",
       "      <td>0.0</td>\n",
       "      <td>0.0</td>\n",
       "      <td>0.0</td>\n",
       "      <td>158</td>\n",
       "    </tr>\n",
       "    <tr>\n",
       "      <th>4</th>\n",
       "      <td>909464</td>\n",
       "      <td>36</td>\n",
       "      <td>3.0</td>\n",
       "      <td>4.0</td>\n",
       "      <td>2</td>\n",
       "      <td>44.0</td>\n",
       "      <td>True</td>\n",
       "      <td>680.0</td>\n",
       "      <td>699.0</td>\n",
       "      <td>19.0</td>\n",
       "      <td>...</td>\n",
       "      <td>2819.85</td>\n",
       "      <td>1563.22</td>\n",
       "      <td>1256.63</td>\n",
       "      <td>-60.27</td>\n",
       "      <td>0.0</td>\n",
       "      <td>0.0</td>\n",
       "      <td>0.0</td>\n",
       "      <td>0.0</td>\n",
       "      <td>0.0</td>\n",
       "      <td>20</td>\n",
       "    </tr>\n",
       "  </tbody>\n",
       "</table>\n",
       "<p>5 rows × 50 columns</p>\n",
       "</div>"
      ],
      "text/plain": [
       "  ListingNumber Term ProsperRating (numeric) ProsperScore  \\\n",
       "0        193129   36                     NaN          NaN   \n",
       "1       1209647   36                     6.0          7.0   \n",
       "2         81716   36                     NaN          NaN   \n",
       "3        658116   36                     6.0          9.0   \n",
       "4        909464   36                     3.0          4.0   \n",
       "\n",
       "  ListingCategory (numeric) EmploymentStatusDuration IsBorrowerHomeowner  \\\n",
       "0                         0                      2.0                True   \n",
       "1                         2                     44.0               False   \n",
       "2                         0                      NaN               False   \n",
       "3                        16                    113.0                True   \n",
       "4                         2                     44.0                True   \n",
       "\n",
       "  CreditScoreRangeLower CreditScoreRangeUpper CurrentCreditLines  ...  \\\n",
       "0                 640.0                 659.0                5.0  ...   \n",
       "1                 680.0                 699.0               14.0  ...   \n",
       "2                 480.0                 499.0                NaN  ...   \n",
       "3                 800.0                 819.0                5.0  ...   \n",
       "4                 680.0                 699.0               19.0  ...   \n",
       "\n",
       "  LP_CustomerPayments LP_CustomerPrincipalPayments LP_InterestandFees  \\\n",
       "0            11396.14                       9425.0            1971.14   \n",
       "1                 0.0                          0.0                0.0   \n",
       "2             4186.63                       3001.0            1185.63   \n",
       "3              5143.2                      4091.09            1052.11   \n",
       "4             2819.85                      1563.22            1256.63   \n",
       "\n",
       "  LP_ServiceFees LP_CollectionFees LP_GrossPrincipalLoss LP_NetPrincipalLoss  \\\n",
       "0        -133.18               0.0                   0.0                 0.0   \n",
       "1            0.0               0.0                   0.0                 0.0   \n",
       "2          -24.2               0.0                   0.0                 0.0   \n",
       "3        -108.01               0.0                   0.0                 0.0   \n",
       "4         -60.27               0.0                   0.0                 0.0   \n",
       "\n",
       "  LP_NonPrincipalRecoverypayments InvestmentFromFriendsAmount Investors  \n",
       "0                             0.0                         0.0       258  \n",
       "1                             0.0                         0.0         1  \n",
       "2                             0.0                         0.0        41  \n",
       "3                             0.0                         0.0       158  \n",
       "4                             0.0                         0.0        20  \n",
       "\n",
       "[5 rows x 50 columns]"
      ]
     },
     "execution_count": 34,
     "metadata": {},
     "output_type": "execute_result"
    }
   ],
   "source": [
    "from sklearn.feature_selection import VarianceThreshold\n",
    "Model = VarianceThreshold(threshold=(.8 * (1 - .8)))\n",
    "importance = Model.fit_transform(x)\n",
    "importance = pd.DataFrame(importance)\n",
    "names =  Model.get_feature_names_out()\n",
    "importance.columns = names \n",
    "importance.head()"
   ]
  }
 ],
 "metadata": {
  "kernelspec": {
   "display_name": "Python 3",
   "language": "python",
   "name": "python3"
  },
  "language_info": {
   "codemirror_mode": {
    "name": "ipython",
    "version": 3
   },
   "file_extension": ".py",
   "mimetype": "text/x-python",
   "name": "python",
   "nbconvert_exporter": "python",
   "pygments_lexer": "ipython3",
   "version": "3.7.12"
  },
  "papermill": {
   "default_parameters": {},
   "duration": 38.403601,
   "end_time": "2022-07-25T19:14:28.164549",
   "environment_variables": {},
   "exception": null,
   "input_path": "__notebook__.ipynb",
   "output_path": "__notebook__.ipynb",
   "parameters": {},
   "start_time": "2022-07-25T19:13:49.760948",
   "version": "2.3.4"
  }
 },
 "nbformat": 4,
 "nbformat_minor": 5
}
