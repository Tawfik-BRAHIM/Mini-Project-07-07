{
 "cells": [
  {
   "cell_type": "code",
   "execution_count": 1,
   "id": "e543d8ef",
   "metadata": {
    "_cell_guid": "b1076dfc-b9ad-4769-8c92-a6c4dae69d19",
    "_uuid": "8f2839f25d086af736a60e9eeb907d3b93b6e0e5",
    "execution": {
     "iopub.execute_input": "2022-07-06T17:59:53.874581Z",
     "iopub.status.busy": "2022-07-06T17:59:53.873906Z",
     "iopub.status.idle": "2022-07-06T17:59:57.407513Z",
     "shell.execute_reply": "2022-07-06T17:59:57.406245Z"
    },
    "papermill": {
     "duration": 3.54244,
     "end_time": "2022-07-06T17:59:57.410040",
     "exception": false,
     "start_time": "2022-07-06T17:59:53.867600",
     "status": "completed"
    },
    "tags": []
   },
   "outputs": [
    {
     "name": "stdout",
     "output_type": "stream",
     "text": [
      "/kaggle/input/blood-transfusion-dataset/transfusion.csv\n",
      "Setup Complete\n"
     ]
    }
   ],
   "source": [
    "import numpy as np # linear algebra\n",
    "from sklearn.model_selection import train_test_split\n",
    "from sklearn.tree import DecisionTreeRegressor\n",
    "from sklearn.metrics import mean_absolute_error\n",
    "from tpot import TPOTClassifier\n",
    "from sklearn.linear_model import LogisticRegression\n",
    "from sklearn.metrics import roc_auc_score\n",
    "from sklearn import linear_model\n",
    "import pandas as pd # data processing, CSV file I/O (e.g. pd.read_csv)\n",
    "pd.plotting.register_matplotlib_converters()\n",
    "import matplotlib.pyplot as plt\n",
    "%matplotlib inline\n",
    "import seaborn as sns\n",
    "\n",
    "import os\n",
    "for dirname, _, filenames in os.walk('/kaggle/input'):\n",
    "    for filename in filenames:\n",
    "        print(os.path.join(dirname, filename))\n",
    "\n",
    "print(\"Setup Complete\")"
   ]
  },
  {
   "cell_type": "code",
   "execution_count": 2,
   "id": "d7b4cb68",
   "metadata": {
    "execution": {
     "iopub.execute_input": "2022-07-06T17:59:57.419632Z",
     "iopub.status.busy": "2022-07-06T17:59:57.419099Z",
     "iopub.status.idle": "2022-07-06T17:59:57.436305Z",
     "shell.execute_reply": "2022-07-06T17:59:57.435063Z"
    },
    "papermill": {
     "duration": 0.024999,
     "end_time": "2022-07-06T17:59:57.438935",
     "exception": false,
     "start_time": "2022-07-06T17:59:57.413936",
     "status": "completed"
    },
    "tags": []
   },
   "outputs": [
    {
     "name": "stdout",
     "output_type": "stream",
     "text": [
      "Setup Complete\n"
     ]
    }
   ],
   "source": [
    "#Importing the data base \n",
    "donation_filepath = \"../input/blood-transfusion-dataset/transfusion.csv\"\n",
    "transfusion = pd.read_csv(donation_filepath)\n",
    "print(\"Setup Complete\")"
   ]
  },
  {
   "cell_type": "code",
   "execution_count": 3,
   "id": "6dbe36ae",
   "metadata": {
    "execution": {
     "iopub.execute_input": "2022-07-06T17:59:57.448547Z",
     "iopub.status.busy": "2022-07-06T17:59:57.447565Z",
     "iopub.status.idle": "2022-07-06T17:59:57.469179Z",
     "shell.execute_reply": "2022-07-06T17:59:57.468243Z"
    },
    "papermill": {
     "duration": 0.028503,
     "end_time": "2022-07-06T17:59:57.471279",
     "exception": false,
     "start_time": "2022-07-06T17:59:57.442776",
     "status": "completed"
    },
    "tags": []
   },
   "outputs": [
    {
     "data": {
      "text/html": [
       "<div>\n",
       "<style scoped>\n",
       "    .dataframe tbody tr th:only-of-type {\n",
       "        vertical-align: middle;\n",
       "    }\n",
       "\n",
       "    .dataframe tbody tr th {\n",
       "        vertical-align: top;\n",
       "    }\n",
       "\n",
       "    .dataframe thead th {\n",
       "        text-align: right;\n",
       "    }\n",
       "</style>\n",
       "<table border=\"1\" class=\"dataframe\">\n",
       "  <thead>\n",
       "    <tr style=\"text-align: right;\">\n",
       "      <th></th>\n",
       "      <th>Recency (months)</th>\n",
       "      <th>Frequency (times)</th>\n",
       "      <th>Monetary (c.c. blood)</th>\n",
       "      <th>Time (months)</th>\n",
       "      <th>whether he/she donated blood in March 2007</th>\n",
       "    </tr>\n",
       "  </thead>\n",
       "  <tbody>\n",
       "    <tr>\n",
       "      <th>0</th>\n",
       "      <td>2</td>\n",
       "      <td>50</td>\n",
       "      <td>12500</td>\n",
       "      <td>98</td>\n",
       "      <td>1</td>\n",
       "    </tr>\n",
       "    <tr>\n",
       "      <th>1</th>\n",
       "      <td>0</td>\n",
       "      <td>13</td>\n",
       "      <td>3250</td>\n",
       "      <td>28</td>\n",
       "      <td>1</td>\n",
       "    </tr>\n",
       "    <tr>\n",
       "      <th>2</th>\n",
       "      <td>1</td>\n",
       "      <td>16</td>\n",
       "      <td>4000</td>\n",
       "      <td>35</td>\n",
       "      <td>1</td>\n",
       "    </tr>\n",
       "    <tr>\n",
       "      <th>3</th>\n",
       "      <td>2</td>\n",
       "      <td>20</td>\n",
       "      <td>5000</td>\n",
       "      <td>45</td>\n",
       "      <td>1</td>\n",
       "    </tr>\n",
       "    <tr>\n",
       "      <th>4</th>\n",
       "      <td>1</td>\n",
       "      <td>24</td>\n",
       "      <td>6000</td>\n",
       "      <td>77</td>\n",
       "      <td>0</td>\n",
       "    </tr>\n",
       "  </tbody>\n",
       "</table>\n",
       "</div>"
      ],
      "text/plain": [
       "   Recency (months)  Frequency (times)  Monetary (c.c. blood)  Time (months)  \\\n",
       "0                 2                 50                  12500             98   \n",
       "1                 0                 13                   3250             28   \n",
       "2                 1                 16                   4000             35   \n",
       "3                 2                 20                   5000             45   \n",
       "4                 1                 24                   6000             77   \n",
       "\n",
       "   whether he/she donated blood in March 2007  \n",
       "0                                           1  \n",
       "1                                           1  \n",
       "2                                           1  \n",
       "3                                           1  \n",
       "4                                           0  "
      ]
     },
     "execution_count": 3,
     "metadata": {},
     "output_type": "execute_result"
    }
   ],
   "source": [
    "#inspecting the 5 first rows\n",
    "transfusion.head()\n"
   ]
  },
  {
   "cell_type": "code",
   "execution_count": 4,
   "id": "db11d9d5",
   "metadata": {
    "execution": {
     "iopub.execute_input": "2022-07-06T17:59:57.480676Z",
     "iopub.status.busy": "2022-07-06T17:59:57.480137Z",
     "iopub.status.idle": "2022-07-06T17:59:57.515838Z",
     "shell.execute_reply": "2022-07-06T17:59:57.514621Z"
    },
    "papermill": {
     "duration": 0.042994,
     "end_time": "2022-07-06T17:59:57.518121",
     "exception": false,
     "start_time": "2022-07-06T17:59:57.475127",
     "status": "completed"
    },
    "tags": []
   },
   "outputs": [
    {
     "data": {
      "text/html": [
       "<div>\n",
       "<style scoped>\n",
       "    .dataframe tbody tr th:only-of-type {\n",
       "        vertical-align: middle;\n",
       "    }\n",
       "\n",
       "    .dataframe tbody tr th {\n",
       "        vertical-align: top;\n",
       "    }\n",
       "\n",
       "    .dataframe thead th {\n",
       "        text-align: right;\n",
       "    }\n",
       "</style>\n",
       "<table border=\"1\" class=\"dataframe\">\n",
       "  <thead>\n",
       "    <tr style=\"text-align: right;\">\n",
       "      <th></th>\n",
       "      <th>Recency (months)</th>\n",
       "      <th>Frequency (times)</th>\n",
       "      <th>Monetary (c.c. blood)</th>\n",
       "      <th>Time (months)</th>\n",
       "      <th>whether he/she donated blood in March 2007</th>\n",
       "    </tr>\n",
       "  </thead>\n",
       "  <tbody>\n",
       "    <tr>\n",
       "      <th>count</th>\n",
       "      <td>748.000000</td>\n",
       "      <td>748.000000</td>\n",
       "      <td>748.000000</td>\n",
       "      <td>748.000000</td>\n",
       "      <td>748.000000</td>\n",
       "    </tr>\n",
       "    <tr>\n",
       "      <th>mean</th>\n",
       "      <td>9.506684</td>\n",
       "      <td>5.514706</td>\n",
       "      <td>1378.676471</td>\n",
       "      <td>34.282086</td>\n",
       "      <td>0.237968</td>\n",
       "    </tr>\n",
       "    <tr>\n",
       "      <th>std</th>\n",
       "      <td>8.095396</td>\n",
       "      <td>5.839307</td>\n",
       "      <td>1459.826781</td>\n",
       "      <td>24.376714</td>\n",
       "      <td>0.426124</td>\n",
       "    </tr>\n",
       "    <tr>\n",
       "      <th>min</th>\n",
       "      <td>0.000000</td>\n",
       "      <td>1.000000</td>\n",
       "      <td>250.000000</td>\n",
       "      <td>2.000000</td>\n",
       "      <td>0.000000</td>\n",
       "    </tr>\n",
       "    <tr>\n",
       "      <th>25%</th>\n",
       "      <td>2.750000</td>\n",
       "      <td>2.000000</td>\n",
       "      <td>500.000000</td>\n",
       "      <td>16.000000</td>\n",
       "      <td>0.000000</td>\n",
       "    </tr>\n",
       "    <tr>\n",
       "      <th>50%</th>\n",
       "      <td>7.000000</td>\n",
       "      <td>4.000000</td>\n",
       "      <td>1000.000000</td>\n",
       "      <td>28.000000</td>\n",
       "      <td>0.000000</td>\n",
       "    </tr>\n",
       "    <tr>\n",
       "      <th>75%</th>\n",
       "      <td>14.000000</td>\n",
       "      <td>7.000000</td>\n",
       "      <td>1750.000000</td>\n",
       "      <td>50.000000</td>\n",
       "      <td>0.000000</td>\n",
       "    </tr>\n",
       "    <tr>\n",
       "      <th>max</th>\n",
       "      <td>74.000000</td>\n",
       "      <td>50.000000</td>\n",
       "      <td>12500.000000</td>\n",
       "      <td>98.000000</td>\n",
       "      <td>1.000000</td>\n",
       "    </tr>\n",
       "  </tbody>\n",
       "</table>\n",
       "</div>"
      ],
      "text/plain": [
       "       Recency (months)  Frequency (times)  Monetary (c.c. blood)  \\\n",
       "count        748.000000         748.000000             748.000000   \n",
       "mean           9.506684           5.514706            1378.676471   \n",
       "std            8.095396           5.839307            1459.826781   \n",
       "min            0.000000           1.000000             250.000000   \n",
       "25%            2.750000           2.000000             500.000000   \n",
       "50%            7.000000           4.000000            1000.000000   \n",
       "75%           14.000000           7.000000            1750.000000   \n",
       "max           74.000000          50.000000           12500.000000   \n",
       "\n",
       "       Time (months)  whether he/she donated blood in March 2007  \n",
       "count     748.000000                                  748.000000  \n",
       "mean       34.282086                                    0.237968  \n",
       "std        24.376714                                    0.426124  \n",
       "min         2.000000                                    0.000000  \n",
       "25%        16.000000                                    0.000000  \n",
       "50%        28.000000                                    0.000000  \n",
       "75%        50.000000                                    0.000000  \n",
       "max        98.000000                                    1.000000  "
      ]
     },
     "execution_count": 4,
     "metadata": {},
     "output_type": "execute_result"
    }
   ],
   "source": [
    "transfusion.describe()"
   ]
  },
  {
   "cell_type": "code",
   "execution_count": 5,
   "id": "b4ae0e92",
   "metadata": {
    "execution": {
     "iopub.execute_input": "2022-07-06T17:59:57.527932Z",
     "iopub.status.busy": "2022-07-06T17:59:57.527509Z",
     "iopub.status.idle": "2022-07-06T17:59:57.539420Z",
     "shell.execute_reply": "2022-07-06T17:59:57.538229Z"
    },
    "papermill": {
     "duration": 0.019695,
     "end_time": "2022-07-06T17:59:57.541975",
     "exception": false,
     "start_time": "2022-07-06T17:59:57.522280",
     "status": "completed"
    },
    "tags": []
   },
   "outputs": [
    {
     "data": {
      "text/html": [
       "<div>\n",
       "<style scoped>\n",
       "    .dataframe tbody tr th:only-of-type {\n",
       "        vertical-align: middle;\n",
       "    }\n",
       "\n",
       "    .dataframe tbody tr th {\n",
       "        vertical-align: top;\n",
       "    }\n",
       "\n",
       "    .dataframe thead th {\n",
       "        text-align: right;\n",
       "    }\n",
       "</style>\n",
       "<table border=\"1\" class=\"dataframe\">\n",
       "  <thead>\n",
       "    <tr style=\"text-align: right;\">\n",
       "      <th></th>\n",
       "      <th>Recency (months)</th>\n",
       "      <th>Frequency (times)</th>\n",
       "      <th>Monetary (c.c. blood)</th>\n",
       "      <th>Time (months)</th>\n",
       "      <th>target</th>\n",
       "    </tr>\n",
       "  </thead>\n",
       "  <tbody>\n",
       "    <tr>\n",
       "      <th>0</th>\n",
       "      <td>2</td>\n",
       "      <td>50</td>\n",
       "      <td>12500</td>\n",
       "      <td>98</td>\n",
       "      <td>1</td>\n",
       "    </tr>\n",
       "    <tr>\n",
       "      <th>1</th>\n",
       "      <td>0</td>\n",
       "      <td>13</td>\n",
       "      <td>3250</td>\n",
       "      <td>28</td>\n",
       "      <td>1</td>\n",
       "    </tr>\n",
       "    <tr>\n",
       "      <th>2</th>\n",
       "      <td>1</td>\n",
       "      <td>16</td>\n",
       "      <td>4000</td>\n",
       "      <td>35</td>\n",
       "      <td>1</td>\n",
       "    </tr>\n",
       "    <tr>\n",
       "      <th>3</th>\n",
       "      <td>2</td>\n",
       "      <td>20</td>\n",
       "      <td>5000</td>\n",
       "      <td>45</td>\n",
       "      <td>1</td>\n",
       "    </tr>\n",
       "    <tr>\n",
       "      <th>4</th>\n",
       "      <td>1</td>\n",
       "      <td>24</td>\n",
       "      <td>6000</td>\n",
       "      <td>77</td>\n",
       "      <td>0</td>\n",
       "    </tr>\n",
       "  </tbody>\n",
       "</table>\n",
       "</div>"
      ],
      "text/plain": [
       "   Recency (months)  Frequency (times)  Monetary (c.c. blood)  Time (months)  \\\n",
       "0                 2                 50                  12500             98   \n",
       "1                 0                 13                   3250             28   \n",
       "2                 1                 16                   4000             35   \n",
       "3                 2                 20                   5000             45   \n",
       "4                 1                 24                   6000             77   \n",
       "\n",
       "   target  \n",
       "0       1  \n",
       "1       1  \n",
       "2       1  \n",
       "3       1  \n",
       "4       0  "
      ]
     },
     "execution_count": 5,
     "metadata": {},
     "output_type": "execute_result"
    }
   ],
   "source": [
    "#creating target column\n",
    "\n",
    "transfusion.rename(columns={'whether he/she donated blood in March 2007': 'target'}, inplace=True)\n",
    "transfusion.head()"
   ]
  },
  {
   "cell_type": "code",
   "execution_count": 6,
   "id": "1a9e2a4a",
   "metadata": {
    "execution": {
     "iopub.execute_input": "2022-07-06T17:59:57.552103Z",
     "iopub.status.busy": "2022-07-06T17:59:57.551581Z",
     "iopub.status.idle": "2022-07-06T17:59:57.737035Z",
     "shell.execute_reply": "2022-07-06T17:59:57.735676Z"
    },
    "papermill": {
     "duration": 0.19331,
     "end_time": "2022-07-06T17:59:57.739463",
     "exception": false,
     "start_time": "2022-07-06T17:59:57.546153",
     "status": "completed"
    },
    "tags": []
   },
   "outputs": [
    {
     "data": {
      "image/png": "[encoded data removed]",
      "text/plain": [
       "<Figure size 216x504 with 1 Axes>"
      ]
     },
     "metadata": {
      "needs_background": "light"
     },
     "output_type": "display_data"
    }
   ],
   "source": [
    "#Checking target incidence\n",
    "#figure parameters\n",
    "plt.figure(figsize=(3,7))\n",
    "plt.xlabel('Target')\n",
    "plt.ylabel('Occurence')\n",
    "plt.title('target incidence')\n",
    "#ploting \n",
    "ax=sns.countplot(x='target', data=transfusion )\n",
    "#annotating the percentage\n",
    "total = float(len(transfusion))\n",
    "for p in ax.patches:\n",
    "    percentage = '{:.1f}%'.format(100 * p.get_height()/total)\n",
    "    x = p.get_x() + p.get_width()\n",
    "    y = p.get_height()\n",
    "    ax.annotate(percentage, (x, y),ha='right')\n",
    "plt.show()"
   ]
  },
  {
   "cell_type": "code",
   "execution_count": 7,
   "id": "6841146e",
   "metadata": {
    "execution": {
     "iopub.execute_input": "2022-07-06T17:59:57.750132Z",
     "iopub.status.busy": "2022-07-06T17:59:57.749694Z",
     "iopub.status.idle": "2022-07-06T17:59:57.760419Z",
     "shell.execute_reply": "2022-07-06T17:59:57.759026Z"
    },
    "papermill": {
     "duration": 0.018579,
     "end_time": "2022-07-06T17:59:57.762723",
     "exception": false,
     "start_time": "2022-07-06T17:59:57.744144",
     "status": "completed"
    },
    "tags": []
   },
   "outputs": [
    {
     "name": "stdout",
     "output_type": "stream",
     "text": [
      "0    76.203209\n",
      "1    23.796791\n",
      "Name: target, dtype: float64\n",
      "0    76.203209\n",
      "1    23.796791\n",
      "Name: target, dtype: float64\n"
     ]
    }
   ],
   "source": [
    "#extracting x and y from dataframe\n",
    "x=transfusion.drop(columns='target', axis=1)\n",
    "y=transfusion['target']\n",
    "print(y.value_counts(normalize=True)*100)\n",
    "print(y.value_counts(normalize=True)*100)"
   ]
  },
  {
   "cell_type": "code",
   "execution_count": 8,
   "id": "81d15661",
   "metadata": {
    "execution": {
     "iopub.execute_input": "2022-07-06T17:59:57.773437Z",
     "iopub.status.busy": "2022-07-06T17:59:57.772783Z",
     "iopub.status.idle": "2022-07-06T17:59:57.785419Z",
     "shell.execute_reply": "2022-07-06T17:59:57.784269Z"
    },
    "papermill": {
     "duration": 0.021744,
     "end_time": "2022-07-06T17:59:57.788975",
     "exception": false,
     "start_time": "2022-07-06T17:59:57.767231",
     "status": "completed"
    },
    "tags": []
   },
   "outputs": [
    {
     "name": "stdout",
     "output_type": "stream",
     "text": [
      "(748, 4) (598, 4) (150, 4)\n",
      "(748,) (598,) (150,)\n",
      "0    76.254181\n",
      "1    23.745819\n",
      "Name: target, dtype: float64\n",
      "0    76.0\n",
      "1    24.0\n",
      "Name: target, dtype: float64\n"
     ]
    }
   ],
   "source": [
    "#Splitting transfusion into train and test datasets\n",
    "x_train,x_test,y_train,y_test=train_test_split(x,y,test_size=0.2, random_state=1, stratify=y)\n",
    "print(x.shape,x_train.shape,x_test.shape)\n",
    "print(y.shape,y_train.shape,y_test.shape)\n",
    "print(y_train.value_counts(normalize=True)*100)\n",
    "print(y_test.value_counts(normalize=True)*100)"
   ]
  },
  {
   "cell_type": "code",
   "execution_count": 9,
   "id": "b7ab35e8",
   "metadata": {
    "execution": {
     "iopub.execute_input": "2022-07-06T17:59:57.800361Z",
     "iopub.status.busy": "2022-07-06T17:59:57.800019Z",
     "iopub.status.idle": "2022-07-06T18:02:04.528235Z",
     "shell.execute_reply": "2022-07-06T18:02:04.526849Z"
    },
    "papermill": {
     "duration": 126.73687,
     "end_time": "2022-07-06T18:02:04.531160",
     "exception": false,
     "start_time": "2022-07-06T17:59:57.794290",
     "status": "completed"
    },
    "tags": []
   },
   "outputs": [
    {
     "data": {
      "application/vnd.jupyter.widget-view+json": {
       "model_id": "191fcafec1564a92ab6fed73140c464f",
       "version_major": 2,
       "version_minor": 0
      },
      "text/plain": [
       "Optimization Progress:   0%|          | 0/300 [00:00<?, ?pipeline/s]"
      ]
     },
     "metadata": {},
     "output_type": "display_data"
    },
    {
     "name": "stdout",
     "output_type": "stream",
     "text": [
      "\n",
      "Generation 1 - Current best internal CV score: 0.8076470588235294\n",
      "\n",
      "Generation 2 - Current best internal CV score: 0.8076470588235294\n",
      "\n",
      "Generation 3 - Current best internal CV score: 0.8076470588235294\n",
      "\n",
      "Generation 4 - Current best internal CV score: 0.8076470588235294\n",
      "\n",
      "Generation 5 - Current best internal CV score: 0.8076470588235294\n",
      "\n",
      "Best pipeline: RandomForestClassifier(input_matrix, bootstrap=True, criterion=gini, max_features=0.5, min_samples_leaf=8, min_samples_split=7, n_estimators=100)\n"
     ]
    }
   ],
   "source": [
    "#Selecting model using TPOT\n",
    "tpot = TPOTClassifier(generations=5, population_size=50, verbosity=2,n_jobs=-1)\n",
    "tpot.fit(x_train, y_train)\n",
    "tpot.export('tpot_digits_pipeline.py')"
   ]
  },
  {
   "cell_type": "code",
   "execution_count": 10,
   "id": "70941c28",
   "metadata": {
    "execution": {
     "iopub.execute_input": "2022-07-06T18:02:04.543916Z",
     "iopub.status.busy": "2022-07-06T18:02:04.543488Z",
     "iopub.status.idle": "2022-07-06T18:02:04.604780Z",
     "shell.execute_reply": "2022-07-06T18:02:04.603330Z"
    },
    "papermill": {
     "duration": 0.070611,
     "end_time": "2022-07-06T18:02:04.607244",
     "exception": false,
     "start_time": "2022-07-06T18:02:04.536633",
     "status": "completed"
    },
    "tags": []
   },
   "outputs": [
    {
     "name": "stdout",
     "output_type": "stream",
     "text": [
      "\n",
      "AUC score : 0.7232\n",
      "\n",
      "Model score :  0.76\n",
      "\n",
      "MAE=  0.24\n"
     ]
    }
   ],
   "source": [
    "#cheking AUC \n",
    "logreg_auc_score=roc_auc_score(y_test, tpot.predict_proba(x_test)[:,1])\n",
    "print(f'\\nAUC score : {logreg_auc_score:.4f}')\n",
    "#cheking tpot score\n",
    "print('\\nModel score : ',tpot.score(x_test, y_test))\n",
    "#cheking MAE\n",
    "y_pred=tpot.predict(x_test)\n",
    "print('\\nMAE= ',mean_absolute_error(y_test,y_pred))"
   ]
  },
  {
   "cell_type": "code",
   "execution_count": 11,
   "id": "09090a98",
   "metadata": {
    "execution": {
     "iopub.execute_input": "2022-07-06T18:02:04.618934Z",
     "iopub.status.busy": "2022-07-06T18:02:04.618550Z",
     "iopub.status.idle": "2022-07-06T18:02:04.630382Z",
     "shell.execute_reply": "2022-07-06T18:02:04.629541Z"
    },
    "papermill": {
     "duration": 0.020257,
     "end_time": "2022-07-06T18:02:04.632459",
     "exception": false,
     "start_time": "2022-07-06T18:02:04.612202",
     "status": "completed"
    },
    "tags": []
   },
   "outputs": [
    {
     "data": {
      "text/plain": [
       "Pipeline(steps=[('randomforestclassifier',\n",
       "                 RandomForestClassifier(max_features=0.5, min_samples_leaf=8,\n",
       "                                        min_samples_split=7))])"
      ]
     },
     "execution_count": 11,
     "metadata": {},
     "output_type": "execute_result"
    }
   ],
   "source": [
    "#cheking the best model chosen by tpot\n",
    "tpot.fitted_pipeline_"
   ]
  },
  {
   "cell_type": "code",
   "execution_count": 12,
   "id": "fd903b7f",
   "metadata": {
    "execution": {
     "iopub.execute_input": "2022-07-06T18:02:04.644661Z",
     "iopub.status.busy": "2022-07-06T18:02:04.644287Z",
     "iopub.status.idle": "2022-07-06T18:02:04.653408Z",
     "shell.execute_reply": "2022-07-06T18:02:04.652214Z"
    },
    "papermill": {
     "duration": 0.018504,
     "end_time": "2022-07-06T18:02:04.656225",
     "exception": false,
     "start_time": "2022-07-06T18:02:04.637721",
     "status": "completed"
    },
    "tags": []
   },
   "outputs": [
    {
     "data": {
      "text/plain": [
       "Recency (months)              78.0\n",
       "Frequency (times)             31.0\n",
       "Monetary (c.c. blood)    1940789.0\n",
       "Time (months)                514.0\n",
       "dtype: float64"
      ]
     },
     "execution_count": 12,
     "metadata": {},
     "output_type": "execute_result"
    }
   ],
   "source": [
    "#Checking the variance\n",
    "np.var(x_test).round()"
   ]
  },
  {
   "cell_type": "code",
   "execution_count": 13,
   "id": "c2bc7f3a",
   "metadata": {
    "execution": {
     "iopub.execute_input": "2022-07-06T18:02:04.668833Z",
     "iopub.status.busy": "2022-07-06T18:02:04.668437Z",
     "iopub.status.idle": "2022-07-06T18:02:04.682388Z",
     "shell.execute_reply": "2022-07-06T18:02:04.680914Z"
    },
    "papermill": {
     "duration": 0.023099,
     "end_time": "2022-07-06T18:02:04.684902",
     "exception": false,
     "start_time": "2022-07-06T18:02:04.661803",
     "status": "completed"
    },
    "tags": []
   },
   "outputs": [
    {
     "data": {
      "text/plain": [
       "Recency (months)              78.0\n",
       "Frequency (times)             31.0\n",
       "Monetary (c.c. blood)    1940789.0\n",
       "Time (months)                514.0\n",
       "Log_cc                         1.0\n",
       "dtype: float64"
      ]
     },
     "execution_count": 13,
     "metadata": {},
     "output_type": "execute_result"
    }
   ],
   "source": [
    "# Log normalization the Monetary (c.c. blood) column\n",
    "x_train_normed,x_test_normed = x_train.copy(),x_test.copy()\n",
    "x_train_normed['Log_cc'] = np.log(x_train_normed['Monetary (c.c. blood)'])\n",
    "x_test_normed['Log_cc'] = np.log(x_test_normed['Monetary (c.c. blood)'])\n",
    "#cheking the variance for changes\n",
    "np.var(x_test_normed).round()"
   ]
  },
  {
   "cell_type": "code",
   "execution_count": 14,
   "id": "020770db",
   "metadata": {
    "execution": {
     "iopub.execute_input": "2022-07-06T18:02:04.697667Z",
     "iopub.status.busy": "2022-07-06T18:02:04.697056Z",
     "iopub.status.idle": "2022-07-06T18:02:04.708800Z",
     "shell.execute_reply": "2022-07-06T18:02:04.707047Z"
    },
    "papermill": {
     "duration": 0.021718,
     "end_time": "2022-07-06T18:02:04.712124",
     "exception": false,
     "start_time": "2022-07-06T18:02:04.690406",
     "status": "completed"
    },
    "tags": []
   },
   "outputs": [
    {
     "name": "stdout",
     "output_type": "stream",
     "text": [
      "\n",
      "MAE=  0.32536788250849646\n"
     ]
    }
   ],
   "source": [
    "#Training the linear regression model\n",
    "model=linear_model.LinearRegression()\n",
    "model.fit(x_train,y_train)\n",
    "#cheking MAE\n",
    "y_pred=model.predict(x_test)\n",
    "print('\\nMAE= ',mean_absolute_error(y_test,y_pred))\n"
   ]
  }
 ],
 "metadata": {
  "kernelspec": {
   "display_name": "Python 3",
   "language": "python",
   "name": "python3"
  },
  "language_info": {
   "codemirror_mode": {
    "name": "ipython",
    "version": 3
   },
   "file_extension": ".py",
   "mimetype": "text/x-python",
   "name": "python",
   "nbconvert_exporter": "python",
   "pygments_lexer": "ipython3",
   "version": "3.7.12"
  },
  "papermill": {
   "default_parameters": {},
   "duration": 142.371679,
   "end_time": "2022-07-06T18:02:07.340944",
   "environment_variables": {},
   "exception": null,
   "input_path": "__notebook__.ipynb",
   "output_path": "__notebook__.ipynb",
   "parameters": {},
   "start_time": "2022-07-06T17:59:44.969265",
   "version": "2.3.4"
  },
  "widgets": {
   "application/vnd.jupyter.widget-state+json": {
    "state": {
     "106c24ac89c148f39ecd0d2ff43ab740": {
      "model_module": "@jupyter-widgets/controls",
      "model_module_version": "1.5.0",
      "model_name": "DescriptionStyleModel",
      "state": {
       "_model_module": "@jupyter-widgets/controls",
       "_model_module_version": "1.5.0",
       "_model_name": "DescriptionStyleModel",
       "_view_count": null,
       "_view_module": "@jupyter-widgets/base",
       "_view_module_version": "1.2.0",
       "_view_name": "StyleView",
       "description_width": ""
      }
     },
     "191fcafec1564a92ab6fed73140c464f": {
      "model_module": "@jupyter-widgets/controls",
      "model_module_version": "1.5.0",
      "model_name": "HBoxModel",
      "state": {
       "_dom_classes": [],
       "_model_module": "@jupyter-widgets/controls",
       "_model_module_version": "1.5.0",
       "_model_name": "HBoxModel",
       "_view_count": null,
       "_view_module": "@jupyter-widgets/controls",
       "_view_module_version": "1.5.0",
       "_view_name": "HBoxView",
       "box_style": "",
       "children": [
        "IPY_MODEL_ad9e66606092419b9cf7b38fbaf9597f",
        "IPY_MODEL_5a663be57c2a4f1ab3ef50c760254b9b",
        "IPY_MODEL_68e4fab9db3a4ec58f712a010a06b313"
       ],
       "layout": "IPY_MODEL_3d112c31f0ed49caa2d6e7724dd433c5"
      }
     },
     "3d112c31f0ed49caa2d6e7724dd433c5": {
      "model_module": "@jupyter-widgets/base",
      "model_module_version": "1.2.0",
      "model_name": "LayoutModel",
      "state": {
       "_model_module": "@jupyter-widgets/base",
       "_model_module_version": "1.2.0",
       "_model_name": "LayoutModel",
       "_view_count": null,
       "_view_module": "@jupyter-widgets/base",
       "_view_module_version": "1.2.0",
       "_view_name": "LayoutView",
       "align_content": null,
       "align_items": null,
       "align_self": null,
       "border": null,
       "bottom": null,
       "display": null,
       "flex": null,
       "flex_flow": null,
       "grid_area": null,
       "grid_auto_columns": null,
       "grid_auto_flow": null,
       "grid_auto_rows": null,
       "grid_column": null,
       "grid_gap": null,
       "grid_row": null,
       "grid_template_areas": null,
       "grid_template_columns": null,
       "grid_template_rows": null,
       "height": null,
       "justify_content": null,
       "justify_items": null,
       "left": null,
       "margin": null,
       "max_height": null,
       "max_width": null,
       "min_height": null,
       "min_width": null,
       "object_fit": null,
       "object_position": null,
       "order": null,
       "overflow": null,
       "overflow_x": null,
       "overflow_y": null,
       "padding": null,
       "right": null,
       "top": null,
       "visibility": null,
       "width": null
      }
     },
     "5a663be57c2a4f1ab3ef50c760254b9b": {
      "model_module": "@jupyter-widgets/controls",
      "model_module_version": "1.5.0",
      "model_name": "FloatProgressModel",
      "state": {
       "_dom_classes": [],
       "_model_module": "@jupyter-widgets/controls",
       "_model_module_version": "1.5.0",
       "_model_name": "FloatProgressModel",
       "_view_count": null,
       "_view_module": "@jupyter-widgets/controls",
       "_view_module_version": "1.5.0",
       "_view_name": "ProgressView",
       "bar_style": "",
       "description": "",
       "description_tooltip": null,
       "layout": "IPY_MODEL_bb4de2f7aa9f4e918a1d285d2ceddb2e",
       "max": 300.0,
       "min": 0.0,
       "orientation": "horizontal",
       "style": "IPY_MODEL_6d07281e387d44fd9f747d1fd7403158",
       "value": 300.0
      }
     },
     "68e4fab9db3a4ec58f712a010a06b313": {
      "model_module": "@jupyter-widgets/controls",
      "model_module_version": "1.5.0",
      "model_name": "HTMLModel",
      "state": {
       "_dom_classes": [],
       "_model_module": "@jupyter-widgets/controls",
       "_model_module_version": "1.5.0",
       "_model_name": "HTMLModel",
       "_view_count": null,
       "_view_module": "@jupyter-widgets/controls",
       "_view_module_version": "1.5.0",
       "_view_name": "HTMLView",
       "description": "",
       "description_tooltip": null,
       "layout": "IPY_MODEL_f14c327c769c432e91b5d0dedd72f1a7",
       "placeholder": "​",
       "style": "IPY_MODEL_106c24ac89c148f39ecd0d2ff43ab740",
       "value": " 300/300 [02:03&lt;00:00,  2.55pipeline/s]"
      }
     },
     "6d07281e387d44fd9f747d1fd7403158": {
      "model_module": "@jupyter-widgets/controls",
      "model_module_version": "1.5.0",
      "model_name": "ProgressStyleModel",
      "state": {
       "_model_module": "@jupyter-widgets/controls",
       "_model_module_version": "1.5.0",
       "_model_name": "ProgressStyleModel",
       "_view_count": null,
       "_view_module": "@jupyter-widgets/base",
       "_view_module_version": "1.2.0",
       "_view_name": "StyleView",
       "bar_color": null,
       "description_width": ""
      }
     },
     "ad9e66606092419b9cf7b38fbaf9597f": {
      "model_module": "@jupyter-widgets/controls",
      "model_module_version": "1.5.0",
      "model_name": "HTMLModel",
      "state": {
       "_dom_classes": [],
       "_model_module": "@jupyter-widgets/controls",
       "_model_module_version": "1.5.0",
       "_model_name": "HTMLModel",
       "_view_count": null,
       "_view_module": "@jupyter-widgets/controls",
       "_view_module_version": "1.5.0",
       "_view_name": "HTMLView",
       "description": "",
       "description_tooltip": null,
       "layout": "IPY_MODEL_feda5e2390654fb8a8789b6b5917177f",
       "placeholder": "​",
       "style": "IPY_MODEL_c23faca495f34260a9714d898fb805d1",
       "value": "Optimization Progress: 100%"
      }
     },
     "bb4de2f7aa9f4e918a1d285d2ceddb2e": {
      "model_module": "@jupyter-widgets/base",
      "model_module_version": "1.2.0",
      "model_name": "LayoutModel",
      "state": {
       "_model_module": "@jupyter-widgets/base",
       "_model_module_version": "1.2.0",
       "_model_name": "LayoutModel",
       "_view_count": null,
       "_view_module": "@jupyter-widgets/base",
       "_view_module_version": "1.2.0",
       "_view_name": "LayoutView",
       "align_content": null,
       "align_items": null,
       "align_self": null,
       "border": null,
       "bottom": null,
       "display": null,
       "flex": null,
       "flex_flow": null,
       "grid_area": null,
       "grid_auto_columns": null,
       "grid_auto_flow": null,
       "grid_auto_rows": null,
       "grid_column": null,
       "grid_gap": null,
       "grid_row": null,
       "grid_template_areas": null,
       "grid_template_columns": null,
       "grid_template_rows": null,
       "height": null,
       "justify_content": null,
       "justify_items": null,
       "left": null,
       "margin": null,
       "max_height": null,
       "max_width": null,
       "min_height": null,
       "min_width": null,
       "object_fit": null,
       "object_position": null,
       "order": null,
       "overflow": null,
       "overflow_x": null,
       "overflow_y": null,
       "padding": null,
       "right": null,
       "top": null,
       "visibility": null,
       "width": null
      }
     },
     "c23faca495f34260a9714d898fb805d1": {
      "model_module": "@jupyter-widgets/controls",
      "model_module_version": "1.5.0",
      "model_name": "DescriptionStyleModel",
      "state": {
       "_model_module": "@jupyter-widgets/controls",
       "_model_module_version": "1.5.0",
       "_model_name": "DescriptionStyleModel",
       "_view_count": null,
       "_view_module": "@jupyter-widgets/base",
       "_view_module_version": "1.2.0",
       "_view_name": "StyleView",
       "description_width": ""
      }
     },
     "f14c327c769c432e91b5d0dedd72f1a7": {
      "model_module": "@jupyter-widgets/base",
      "model_module_version": "1.2.0",
      "model_name": "LayoutModel",
      "state": {
       "_model_module": "@jupyter-widgets/base",
       "_model_module_version": "1.2.0",
       "_model_name": "LayoutModel",
       "_view_count": null,
       "_view_module": "@jupyter-widgets/base",
       "_view_module_version": "1.2.0",
       "_view_name": "LayoutView",
       "align_content": null,
       "align_items": null,
       "align_self": null,
       "border": null,
       "bottom": null,
       "display": null,
       "flex": null,
       "flex_flow": null,
       "grid_area": null,
       "grid_auto_columns": null,
       "grid_auto_flow": null,
       "grid_auto_rows": null,
       "grid_column": null,
       "grid_gap": null,
       "grid_row": null,
       "grid_template_areas": null,
       "grid_template_columns": null,
       "grid_template_rows": null,
       "height": null,
       "justify_content": null,
       "justify_items": null,
       "left": null,
       "margin": null,
       "max_height": null,
       "max_width": null,
       "min_height": null,
       "min_width": null,
       "object_fit": null,
       "object_position": null,
       "order": null,
       "overflow": null,
       "overflow_x": null,
       "overflow_y": null,
       "padding": null,
       "right": null,
       "top": null,
       "visibility": null,
       "width": null
      }
     },
     "feda5e2390654fb8a8789b6b5917177f": {
      "model_module": "@jupyter-widgets/base",
      "model_module_version": "1.2.0",
      "model_name": "LayoutModel",
      "state": {
       "_model_module": "@jupyter-widgets/base",
       "_model_module_version": "1.2.0",
       "_model_name": "LayoutModel",
       "_view_count": null,
       "_view_module": "@jupyter-widgets/base",
       "_view_module_version": "1.2.0",
       "_view_name": "LayoutView",
       "align_content": null,
       "align_items": null,
       "align_self": null,
       "border": null,
       "bottom": null,
       "display": null,
       "flex": null,
       "flex_flow": null,
       "grid_area": null,
       "grid_auto_columns": null,
       "grid_auto_flow": null,
       "grid_auto_rows": null,
       "grid_column": null,
       "grid_gap": null,
       "grid_row": null,
       "grid_template_areas": null,
       "grid_template_columns": null,
       "grid_template_rows": null,
       "height": null,
       "justify_content": null,
       "justify_items": null,
       "left": null,
       "margin": null,
       "max_height": null,
       "max_width": null,
       "min_height": null,
       "min_width": null,
       "object_fit": null,
       "object_position": null,
       "order": null,
       "overflow": null,
       "overflow_x": null,
       "overflow_y": null,
       "padding": null,
       "right": null,
       "top": null,
       "visibility": null,
       "width": null
      }
     }
    },
    "version_major": 2,
    "version_minor": 0
   }
  }
 },
 "nbformat": 4,
 "nbformat_minor": 5
}
