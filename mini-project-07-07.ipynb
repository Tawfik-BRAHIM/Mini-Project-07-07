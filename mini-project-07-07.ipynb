{
 "cells": [
  {
   "cell_type": "code",
   "execution_count": 1,
   "id": "230dcd3d",
   "metadata": {
    "_cell_guid": "b1076dfc-b9ad-4769-8c92-a6c4dae69d19",
    "_uuid": "8f2839f25d086af736a60e9eeb907d3b93b6e0e5",
    "execution": {
     "iopub.execute_input": "2022-07-06T10:22:45.049969Z",
     "iopub.status.busy": "2022-07-06T10:22:45.049502Z",
     "iopub.status.idle": "2022-07-06T10:22:48.837205Z",
     "shell.execute_reply": "2022-07-06T10:22:48.836245Z"
    },
    "papermill": {
     "duration": 3.798959,
     "end_time": "2022-07-06T10:22:48.840677",
     "exception": false,
     "start_time": "2022-07-06T10:22:45.041718",
     "status": "completed"
    },
    "tags": []
   },
   "outputs": [
    {
     "name": "stdout",
     "output_type": "stream",
     "text": [
      "/kaggle/input/blood-transfusion-dataset/transfusion.csv\n",
      "Setup Complete\n"
     ]
    }
   ],
   "source": [
    "import numpy as np # linear algebra\n",
    "from sklearn.model_selection import train_test_split\n",
    "from sklearn.tree import DecisionTreeRegressor\n",
    "from sklearn.metrics import mean_absolute_error\n",
    "from tpot import TPOTClassifier\n",
    "from sklearn.linear_model import LogisticRegression\n",
    "from sklearn.metrics import roc_auc_score\n",
    "from sklearn import linear_model\n",
    "import pandas as pd # data processing, CSV file I/O (e.g. pd.read_csv)\n",
    "pd.plotting.register_matplotlib_converters()\n",
    "import matplotlib.pyplot as plt\n",
    "%matplotlib inline\n",
    "import seaborn as sns\n",
    "\n",
    "import os\n",
    "for dirname, _, filenames in os.walk('/kaggle/input'):\n",
    "    for filename in filenames:\n",
    "        print(os.path.join(dirname, filename))\n",
    "\n",
    "print(\"Setup Complete\")"
   ]
  },
  {
   "cell_type": "code",
   "execution_count": 2,
   "id": "513a80b4",
   "metadata": {
    "execution": {
     "iopub.execute_input": "2022-07-06T10:22:48.854343Z",
     "iopub.status.busy": "2022-07-06T10:22:48.853137Z",
     "iopub.status.idle": "2022-07-06T10:22:48.876246Z",
     "shell.execute_reply": "2022-07-06T10:22:48.875192Z"
    },
    "papermill": {
     "duration": 0.03301,
     "end_time": "2022-07-06T10:22:48.879652",
     "exception": false,
     "start_time": "2022-07-06T10:22:48.846642",
     "status": "completed"
    },
    "tags": []
   },
   "outputs": [
    {
     "name": "stdout",
     "output_type": "stream",
     "text": [
      "Setup Complete\n"
     ]
    }
   ],
   "source": [
    "#Importing the data base \n",
    "donation_filepath = \"../input/blood-transfusion-dataset/transfusion.csv\"\n",
    "transfusion = pd.read_csv(donation_filepath)\n",
    "print(\"Setup Complete\")"
   ]
  },
  {
   "cell_type": "code",
   "execution_count": 3,
   "id": "f62ed7d0",
   "metadata": {
    "execution": {
     "iopub.execute_input": "2022-07-06T10:22:48.893008Z",
     "iopub.status.busy": "2022-07-06T10:22:48.892215Z",
     "iopub.status.idle": "2022-07-06T10:22:48.913888Z",
     "shell.execute_reply": "2022-07-06T10:22:48.912425Z"
    },
    "papermill": {
     "duration": 0.031555,
     "end_time": "2022-07-06T10:22:48.916590",
     "exception": false,
     "start_time": "2022-07-06T10:22:48.885035",
     "status": "completed"
    },
    "tags": []
   },
   "outputs": [
    {
     "data": {
      "text/html": [
       "<div>\n",
       "<style scoped>\n",
       "    .dataframe tbody tr th:only-of-type {\n",
       "        vertical-align: middle;\n",
       "    }\n",
       "\n",
       "    .dataframe tbody tr th {\n",
       "        vertical-align: top;\n",
       "    }\n",
       "\n",
       "    .dataframe thead th {\n",
       "        text-align: right;\n",
       "    }\n",
       "</style>\n",
       "<table border=\"1\" class=\"dataframe\">\n",
       "  <thead>\n",
       "    <tr style=\"text-align: right;\">\n",
       "      <th></th>\n",
       "      <th>Recency (months)</th>\n",
       "      <th>Frequency (times)</th>\n",
       "      <th>Monetary (c.c. blood)</th>\n",
       "      <th>Time (months)</th>\n",
       "      <th>whether he/she donated blood in March 2007</th>\n",
       "    </tr>\n",
       "  </thead>\n",
       "  <tbody>\n",
       "    <tr>\n",
       "      <th>0</th>\n",
       "      <td>2</td>\n",
       "      <td>50</td>\n",
       "      <td>12500</td>\n",
       "      <td>98</td>\n",
       "      <td>1</td>\n",
       "    </tr>\n",
       "    <tr>\n",
       "      <th>1</th>\n",
       "      <td>0</td>\n",
       "      <td>13</td>\n",
       "      <td>3250</td>\n",
       "      <td>28</td>\n",
       "      <td>1</td>\n",
       "    </tr>\n",
       "    <tr>\n",
       "      <th>2</th>\n",
       "      <td>1</td>\n",
       "      <td>16</td>\n",
       "      <td>4000</td>\n",
       "      <td>35</td>\n",
       "      <td>1</td>\n",
       "    </tr>\n",
       "    <tr>\n",
       "      <th>3</th>\n",
       "      <td>2</td>\n",
       "      <td>20</td>\n",
       "      <td>5000</td>\n",
       "      <td>45</td>\n",
       "      <td>1</td>\n",
       "    </tr>\n",
       "    <tr>\n",
       "      <th>4</th>\n",
       "      <td>1</td>\n",
       "      <td>24</td>\n",
       "      <td>6000</td>\n",
       "      <td>77</td>\n",
       "      <td>0</td>\n",
       "    </tr>\n",
       "  </tbody>\n",
       "</table>\n",
       "</div>"
      ],
      "text/plain": [
       "   Recency (months)  Frequency (times)  Monetary (c.c. blood)  Time (months)  \\\n",
       "0                 2                 50                  12500             98   \n",
       "1                 0                 13                   3250             28   \n",
       "2                 1                 16                   4000             35   \n",
       "3                 2                 20                   5000             45   \n",
       "4                 1                 24                   6000             77   \n",
       "\n",
       "   whether he/she donated blood in March 2007  \n",
       "0                                           1  \n",
       "1                                           1  \n",
       "2                                           1  \n",
       "3                                           1  \n",
       "4                                           0  "
      ]
     },
     "execution_count": 3,
     "metadata": {},
     "output_type": "execute_result"
    }
   ],
   "source": [
    "#inspecting the 5 first rows\n",
    "transfusion.head()\n"
   ]
  },
  {
   "cell_type": "code",
   "execution_count": 4,
   "id": "ed5eb4bb",
   "metadata": {
    "execution": {
     "iopub.execute_input": "2022-07-06T10:22:48.930202Z",
     "iopub.status.busy": "2022-07-06T10:22:48.929380Z",
     "iopub.status.idle": "2022-07-06T10:22:48.970719Z",
     "shell.execute_reply": "2022-07-06T10:22:48.969544Z"
    },
    "papermill": {
     "duration": 0.050814,
     "end_time": "2022-07-06T10:22:48.972975",
     "exception": false,
     "start_time": "2022-07-06T10:22:48.922161",
     "status": "completed"
    },
    "tags": []
   },
   "outputs": [
    {
     "data": {
      "text/html": [
       "<div>\n",
       "<style scoped>\n",
       "    .dataframe tbody tr th:only-of-type {\n",
       "        vertical-align: middle;\n",
       "    }\n",
       "\n",
       "    .dataframe tbody tr th {\n",
       "        vertical-align: top;\n",
       "    }\n",
       "\n",
       "    .dataframe thead th {\n",
       "        text-align: right;\n",
       "    }\n",
       "</style>\n",
       "<table border=\"1\" class=\"dataframe\">\n",
       "  <thead>\n",
       "    <tr style=\"text-align: right;\">\n",
       "      <th></th>\n",
       "      <th>Recency (months)</th>\n",
       "      <th>Frequency (times)</th>\n",
       "      <th>Monetary (c.c. blood)</th>\n",
       "      <th>Time (months)</th>\n",
       "      <th>whether he/she donated blood in March 2007</th>\n",
       "    </tr>\n",
       "  </thead>\n",
       "  <tbody>\n",
       "    <tr>\n",
       "      <th>count</th>\n",
       "      <td>748.000000</td>\n",
       "      <td>748.000000</td>\n",
       "      <td>748.000000</td>\n",
       "      <td>748.000000</td>\n",
       "      <td>748.000000</td>\n",
       "    </tr>\n",
       "    <tr>\n",
       "      <th>mean</th>\n",
       "      <td>9.506684</td>\n",
       "      <td>5.514706</td>\n",
       "      <td>1378.676471</td>\n",
       "      <td>34.282086</td>\n",
       "      <td>0.237968</td>\n",
       "    </tr>\n",
       "    <tr>\n",
       "      <th>std</th>\n",
       "      <td>8.095396</td>\n",
       "      <td>5.839307</td>\n",
       "      <td>1459.826781</td>\n",
       "      <td>24.376714</td>\n",
       "      <td>0.426124</td>\n",
       "    </tr>\n",
       "    <tr>\n",
       "      <th>min</th>\n",
       "      <td>0.000000</td>\n",
       "      <td>1.000000</td>\n",
       "      <td>250.000000</td>\n",
       "      <td>2.000000</td>\n",
       "      <td>0.000000</td>\n",
       "    </tr>\n",
       "    <tr>\n",
       "      <th>25%</th>\n",
       "      <td>2.750000</td>\n",
       "      <td>2.000000</td>\n",
       "      <td>500.000000</td>\n",
       "      <td>16.000000</td>\n",
       "      <td>0.000000</td>\n",
       "    </tr>\n",
       "    <tr>\n",
       "      <th>50%</th>\n",
       "      <td>7.000000</td>\n",
       "      <td>4.000000</td>\n",
       "      <td>1000.000000</td>\n",
       "      <td>28.000000</td>\n",
       "      <td>0.000000</td>\n",
       "    </tr>\n",
       "    <tr>\n",
       "      <th>75%</th>\n",
       "      <td>14.000000</td>\n",
       "      <td>7.000000</td>\n",
       "      <td>1750.000000</td>\n",
       "      <td>50.000000</td>\n",
       "      <td>0.000000</td>\n",
       "    </tr>\n",
       "    <tr>\n",
       "      <th>max</th>\n",
       "      <td>74.000000</td>\n",
       "      <td>50.000000</td>\n",
       "      <td>12500.000000</td>\n",
       "      <td>98.000000</td>\n",
       "      <td>1.000000</td>\n",
       "    </tr>\n",
       "  </tbody>\n",
       "</table>\n",
       "</div>"
      ],
      "text/plain": [
       "       Recency (months)  Frequency (times)  Monetary (c.c. blood)  \\\n",
       "count        748.000000         748.000000             748.000000   \n",
       "mean           9.506684           5.514706            1378.676471   \n",
       "std            8.095396           5.839307            1459.826781   \n",
       "min            0.000000           1.000000             250.000000   \n",
       "25%            2.750000           2.000000             500.000000   \n",
       "50%            7.000000           4.000000            1000.000000   \n",
       "75%           14.000000           7.000000            1750.000000   \n",
       "max           74.000000          50.000000           12500.000000   \n",
       "\n",
       "       Time (months)  whether he/she donated blood in March 2007  \n",
       "count     748.000000                                  748.000000  \n",
       "mean       34.282086                                    0.237968  \n",
       "std        24.376714                                    0.426124  \n",
       "min         2.000000                                    0.000000  \n",
       "25%        16.000000                                    0.000000  \n",
       "50%        28.000000                                    0.000000  \n",
       "75%        50.000000                                    0.000000  \n",
       "max        98.000000                                    1.000000  "
      ]
     },
     "execution_count": 4,
     "metadata": {},
     "output_type": "execute_result"
    }
   ],
   "source": [
    "transfusion.describe()"
   ]
  },
  {
   "cell_type": "code",
   "execution_count": 5,
   "id": "29596b7b",
   "metadata": {
    "execution": {
     "iopub.execute_input": "2022-07-06T10:22:48.986498Z",
     "iopub.status.busy": "2022-07-06T10:22:48.985893Z",
     "iopub.status.idle": "2022-07-06T10:22:48.996849Z",
     "shell.execute_reply": "2022-07-06T10:22:48.995725Z"
    },
    "papermill": {
     "duration": 0.020858,
     "end_time": "2022-07-06T10:22:48.999604",
     "exception": false,
     "start_time": "2022-07-06T10:22:48.978746",
     "status": "completed"
    },
    "tags": []
   },
   "outputs": [
    {
     "data": {
      "text/html": [
       "<div>\n",
       "<style scoped>\n",
       "    .dataframe tbody tr th:only-of-type {\n",
       "        vertical-align: middle;\n",
       "    }\n",
       "\n",
       "    .dataframe tbody tr th {\n",
       "        vertical-align: top;\n",
       "    }\n",
       "\n",
       "    .dataframe thead th {\n",
       "        text-align: right;\n",
       "    }\n",
       "</style>\n",
       "<table border=\"1\" class=\"dataframe\">\n",
       "  <thead>\n",
       "    <tr style=\"text-align: right;\">\n",
       "      <th></th>\n",
       "      <th>Recency (months)</th>\n",
       "      <th>Frequency (times)</th>\n",
       "      <th>Monetary (c.c. blood)</th>\n",
       "      <th>Time (months)</th>\n",
       "      <th>target</th>\n",
       "    </tr>\n",
       "  </thead>\n",
       "  <tbody>\n",
       "    <tr>\n",
       "      <th>0</th>\n",
       "      <td>2</td>\n",
       "      <td>50</td>\n",
       "      <td>12500</td>\n",
       "      <td>98</td>\n",
       "      <td>1</td>\n",
       "    </tr>\n",
       "    <tr>\n",
       "      <th>1</th>\n",
       "      <td>0</td>\n",
       "      <td>13</td>\n",
       "      <td>3250</td>\n",
       "      <td>28</td>\n",
       "      <td>1</td>\n",
       "    </tr>\n",
       "    <tr>\n",
       "      <th>2</th>\n",
       "      <td>1</td>\n",
       "      <td>16</td>\n",
       "      <td>4000</td>\n",
       "      <td>35</td>\n",
       "      <td>1</td>\n",
       "    </tr>\n",
       "    <tr>\n",
       "      <th>3</th>\n",
       "      <td>2</td>\n",
       "      <td>20</td>\n",
       "      <td>5000</td>\n",
       "      <td>45</td>\n",
       "      <td>1</td>\n",
       "    </tr>\n",
       "    <tr>\n",
       "      <th>4</th>\n",
       "      <td>1</td>\n",
       "      <td>24</td>\n",
       "      <td>6000</td>\n",
       "      <td>77</td>\n",
       "      <td>0</td>\n",
       "    </tr>\n",
       "  </tbody>\n",
       "</table>\n",
       "</div>"
      ],
      "text/plain": [
       "   Recency (months)  Frequency (times)  Monetary (c.c. blood)  Time (months)  \\\n",
       "0                 2                 50                  12500             98   \n",
       "1                 0                 13                   3250             28   \n",
       "2                 1                 16                   4000             35   \n",
       "3                 2                 20                   5000             45   \n",
       "4                 1                 24                   6000             77   \n",
       "\n",
       "   target  \n",
       "0       1  \n",
       "1       1  \n",
       "2       1  \n",
       "3       1  \n",
       "4       0  "
      ]
     },
     "execution_count": 5,
     "metadata": {},
     "output_type": "execute_result"
    }
   ],
   "source": [
    "#creating target column\n",
    "\n",
    "transfusion.rename(columns={'whether he/she donated blood in March 2007': 'target'}, inplace=True)\n",
    "transfusion.head()"
   ]
  },
  {
   "cell_type": "code",
   "execution_count": 6,
   "id": "6bc85151",
   "metadata": {
    "execution": {
     "iopub.execute_input": "2022-07-06T10:22:49.013665Z",
     "iopub.status.busy": "2022-07-06T10:22:49.012957Z",
     "iopub.status.idle": "2022-07-06T10:22:49.219720Z",
     "shell.execute_reply": "2022-07-06T10:22:49.218479Z"
    },
    "papermill": {
     "duration": 0.216545,
     "end_time": "2022-07-06T10:22:49.222222",
     "exception": false,
     "start_time": "2022-07-06T10:22:49.005677",
     "status": "completed"
    },
    "tags": []
   },
   "outputs": [
    {
     "data": {
      "image/png": "[encoded data removed]",
      "text/plain": [
       "<Figure size 216x504 with 1 Axes>"
      ]
     },
     "metadata": {
      "needs_background": "light"
     },
     "output_type": "display_data"
    }
   ],
   "source": [
    "#Checking target incidence\n",
    "#figure parameters\n",
    "plt.figure(figsize=(3,7))\n",
    "plt.xlabel('Target')\n",
    "plt.ylabel('Occurence')\n",
    "plt.title('target incidence')\n",
    "#ploting \n",
    "ax=sns.countplot(x='target', data=transfusion )\n",
    "#annotating the percentage\n",
    "total = float(len(transfusion))\n",
    "for p in ax.patches:\n",
    "    percentage = '{:.1f}%'.format(100 * p.get_height()/total)\n",
    "    x = p.get_x() + p.get_width()\n",
    "    y = p.get_height()\n",
    "    ax.annotate(percentage, (x, y),ha='right')\n",
    "plt.show()"
   ]
  },
  {
   "cell_type": "code",
   "execution_count": 7,
   "id": "c146a239",
   "metadata": {
    "execution": {
     "iopub.execute_input": "2022-07-06T10:22:49.236491Z",
     "iopub.status.busy": "2022-07-06T10:22:49.236102Z",
     "iopub.status.idle": "2022-07-06T10:22:49.246655Z",
     "shell.execute_reply": "2022-07-06T10:22:49.245375Z"
    },
    "papermill": {
     "duration": 0.020824,
     "end_time": "2022-07-06T10:22:49.249362",
     "exception": false,
     "start_time": "2022-07-06T10:22:49.228538",
     "status": "completed"
    },
    "tags": []
   },
   "outputs": [
    {
     "name": "stdout",
     "output_type": "stream",
     "text": [
      "0    76.203209\n",
      "1    23.796791\n",
      "Name: target, dtype: float64\n",
      "0    76.203209\n",
      "1    23.796791\n",
      "Name: target, dtype: float64\n"
     ]
    }
   ],
   "source": [
    "#extracting x and y from dataframe\n",
    "x=transfusion.drop(columns='target', axis=1)\n",
    "y=transfusion['target']\n",
    "print(y.value_counts(normalize=True)*100)\n",
    "print(y.value_counts(normalize=True)*100)"
   ]
  },
  {
   "cell_type": "code",
   "execution_count": 8,
   "id": "28dc6e26",
   "metadata": {
    "execution": {
     "iopub.execute_input": "2022-07-06T10:22:49.263451Z",
     "iopub.status.busy": "2022-07-06T10:22:49.263061Z",
     "iopub.status.idle": "2022-07-06T10:22:49.278467Z",
     "shell.execute_reply": "2022-07-06T10:22:49.277190Z"
    },
    "papermill": {
     "duration": 0.025397,
     "end_time": "2022-07-06T10:22:49.280940",
     "exception": false,
     "start_time": "2022-07-06T10:22:49.255543",
     "status": "completed"
    },
    "tags": []
   },
   "outputs": [
    {
     "name": "stdout",
     "output_type": "stream",
     "text": [
      "(748, 4) (598, 4) (150, 4)\n",
      "(748,) (598,) (150,)\n",
      "0    76.254181\n",
      "1    23.745819\n",
      "Name: target, dtype: float64\n",
      "0    76.0\n",
      "1    24.0\n",
      "Name: target, dtype: float64\n"
     ]
    }
   ],
   "source": [
    "#Splitting transfusion into train and test datasets\n",
    "x_train,x_test,y_train,y_test=train_test_split(x,y,test_size=0.2, random_state=1, stratify=y)\n",
    "print(x.shape,x_train.shape,x_test.shape)\n",
    "print(y.shape,y_train.shape,y_test.shape)\n",
    "print(y_train.value_counts(normalize=True)*100)\n",
    "print(y_test.value_counts(normalize=True)*100)"
   ]
  },
  {
   "cell_type": "code",
   "execution_count": 9,
   "id": "c1feb807",
   "metadata": {
    "execution": {
     "iopub.execute_input": "2022-07-06T10:22:49.295272Z",
     "iopub.status.busy": "2022-07-06T10:22:49.294878Z",
     "iopub.status.idle": "2022-07-06T10:25:26.516981Z",
     "shell.execute_reply": "2022-07-06T10:25:26.515950Z"
    },
    "papermill": {
     "duration": 157.232413,
     "end_time": "2022-07-06T10:25:26.519681",
     "exception": false,
     "start_time": "2022-07-06T10:22:49.287268",
     "status": "completed"
    },
    "tags": []
   },
   "outputs": [
    {
     "data": {
      "application/vnd.jupyter.widget-view+json": {
       "model_id": "a7a66d995c1b42068ba4ad92cebb3e4f",
       "version_major": 2,
       "version_minor": 0
      },
      "text/plain": [
       "Optimization Progress:   0%|          | 0/300 [00:00<?, ?pipeline/s]"
      ]
     },
     "metadata": {},
     "output_type": "display_data"
    },
    {
     "name": "stdout",
     "output_type": "stream",
     "text": [
      "\n",
      "Generation 1 - Current best internal CV score: 0.8009943977591035\n",
      "\n",
      "Generation 2 - Current best internal CV score: 0.8060224089635855\n",
      "\n",
      "Generation 3 - Current best internal CV score: 0.8060224089635855\n",
      "\n",
      "Generation 4 - Current best internal CV score: 0.8060224089635855\n",
      "\n",
      "Generation 5 - Current best internal CV score: 0.8093277310924369\n",
      "\n",
      "Best pipeline: RandomForestClassifier(input_matrix, bootstrap=False, criterion=gini, max_features=0.9500000000000001, min_samples_leaf=17, min_samples_split=4, n_estimators=100)\n"
     ]
    }
   ],
   "source": [
    "#Selecting model using TPOT\n",
    "tpot = TPOTClassifier(generations=5, population_size=50, verbosity=2,n_jobs=-1)\n",
    "tpot.fit(x_train, y_train)\n",
    "tpot.export('tpot_digits_pipeline.py')"
   ]
  },
  {
   "cell_type": "code",
   "execution_count": 10,
   "id": "b86839bd",
   "metadata": {
    "execution": {
     "iopub.execute_input": "2022-07-06T10:25:26.535622Z",
     "iopub.status.busy": "2022-07-06T10:25:26.535202Z",
     "iopub.status.idle": "2022-07-06T10:25:26.597280Z",
     "shell.execute_reply": "2022-07-06T10:25:26.595705Z"
    },
    "papermill": {
     "duration": 0.073329,
     "end_time": "2022-07-06T10:25:26.599880",
     "exception": false,
     "start_time": "2022-07-06T10:25:26.526551",
     "status": "completed"
    },
    "tags": []
   },
   "outputs": [
    {
     "name": "stdout",
     "output_type": "stream",
     "text": [
      "\n",
      "AUC score : 0.7267\n",
      "\n",
      "Model score :  0.7666666666666667\n",
      "\n",
      "MAE=  0.23333333333333334\n"
     ]
    }
   ],
   "source": [
    "#cheking AUC \n",
    "logreg_auc_score=roc_auc_score(y_test, tpot.predict_proba(x_test)[:,1])\n",
    "print(f'\\nAUC score : {logreg_auc_score:.4f}')\n",
    "#cheking tpot score\n",
    "print('\\nModel score : ',tpot.score(x_test, y_test))\n",
    "#cheking MAE\n",
    "y_pred=tpot.predict(x_test)\n",
    "print('\\nMAE= ',mean_absolute_error(y_test,y_pred))"
   ]
  },
  {
   "cell_type": "code",
   "execution_count": 11,
   "id": "d9897152",
   "metadata": {
    "execution": {
     "iopub.execute_input": "2022-07-06T10:25:26.615589Z",
     "iopub.status.busy": "2022-07-06T10:25:26.615125Z",
     "iopub.status.idle": "2022-07-06T10:25:26.627708Z",
     "shell.execute_reply": "2022-07-06T10:25:26.626544Z"
    },
    "papermill": {
     "duration": 0.02331,
     "end_time": "2022-07-06T10:25:26.630028",
     "exception": false,
     "start_time": "2022-07-06T10:25:26.606718",
     "status": "completed"
    },
    "tags": []
   },
   "outputs": [
    {
     "data": {
      "text/plain": [
       "Pipeline(steps=[('randomforestclassifier',\n",
       "                 RandomForestClassifier(bootstrap=False,\n",
       "                                        max_features=0.9500000000000001,\n",
       "                                        min_samples_leaf=17,\n",
       "                                        min_samples_split=4))])"
      ]
     },
     "execution_count": 11,
     "metadata": {},
     "output_type": "execute_result"
    }
   ],
   "source": [
    "#cheking the best model chosen by tpot\n",
    "tpot.fitted_pipeline_"
   ]
  },
  {
   "cell_type": "code",
   "execution_count": 12,
   "id": "5363fa1a",
   "metadata": {
    "execution": {
     "iopub.execute_input": "2022-07-06T10:25:26.646243Z",
     "iopub.status.busy": "2022-07-06T10:25:26.645636Z",
     "iopub.status.idle": "2022-07-06T10:25:26.654028Z",
     "shell.execute_reply": "2022-07-06T10:25:26.652766Z"
    },
    "papermill": {
     "duration": 0.019242,
     "end_time": "2022-07-06T10:25:26.656328",
     "exception": false,
     "start_time": "2022-07-06T10:25:26.637086",
     "status": "completed"
    },
    "tags": []
   },
   "outputs": [
    {
     "data": {
      "text/plain": [
       "Recency (months)         6.544782e+01\n",
       "Frequency (times)        3.405192e+01\n",
       "Monetary (c.c. blood)    2.128245e+06\n",
       "Time (months)            5.934298e+02\n",
       "target                   1.813392e-01\n",
       "dtype: float64"
      ]
     },
     "execution_count": 12,
     "metadata": {},
     "output_type": "execute_result"
    }
   ],
   "source": [
    "#Checking the variance\n",
    "np.var(transfusion)"
   ]
  },
  {
   "cell_type": "code",
   "execution_count": 13,
   "id": "0752e208",
   "metadata": {
    "execution": {
     "iopub.execute_input": "2022-07-06T10:25:26.672506Z",
     "iopub.status.busy": "2022-07-06T10:25:26.671796Z",
     "iopub.status.idle": "2022-07-06T10:25:26.681984Z",
     "shell.execute_reply": "2022-07-06T10:25:26.680805Z"
    },
    "papermill": {
     "duration": 0.021039,
     "end_time": "2022-07-06T10:25:26.684431",
     "exception": false,
     "start_time": "2022-07-06T10:25:26.663392",
     "status": "completed"
    },
    "tags": []
   },
   "outputs": [
    {
     "data": {
      "text/plain": [
       "Recency (months)         6.544782e+01\n",
       "Frequency (times)        3.405192e+01\n",
       "Monetary (c.c. blood)    2.128245e+06\n",
       "Time (months)            5.934298e+02\n",
       "target                   1.813392e-01\n",
       "Log_cc                   8.352303e-01\n",
       "dtype: float64"
      ]
     },
     "execution_count": 13,
     "metadata": {},
     "output_type": "execute_result"
    }
   ],
   "source": [
    "# Log normalization the Monetary (c.c. blood) column\n",
    "transfusion['Log_cc'] = np.log(transfusion['Monetary (c.c. blood)'])\n",
    "#cheking the variance for changes\n",
    "np.var(transfusion)"
   ]
  },
  {
   "cell_type": "code",
   "execution_count": 14,
   "id": "25fd4b87",
   "metadata": {
    "execution": {
     "iopub.execute_input": "2022-07-06T10:25:26.701561Z",
     "iopub.status.busy": "2022-07-06T10:25:26.700843Z",
     "iopub.status.idle": "2022-07-06T10:25:26.729876Z",
     "shell.execute_reply": "2022-07-06T10:25:26.728509Z"
    },
    "papermill": {
     "duration": 0.040883,
     "end_time": "2022-07-06T10:25:26.732700",
     "exception": false,
     "start_time": "2022-07-06T10:25:26.691817",
     "status": "completed"
    },
    "tags": []
   },
   "outputs": [
    {
     "name": "stdout",
     "output_type": "stream",
     "text": [
      "\n",
      "Model score :  0.7666666666666667\n",
      "\n",
      "MAE=  0.32536788250849646\n"
     ]
    }
   ],
   "source": [
    "#Training the linear regression model\n",
    "model=linear_model.LinearRegression()\n",
    "model.fit(x_train,y_train)\n",
    "#cheking tpot score\n",
    "print('\\nModel score : ',tpot.score(x_test, y_test))\n",
    "#cheking MAE\n",
    "y_pred=model.predict(x_test)\n",
    "print('\\nMAE= ',mean_absolute_error(y_test,y_pred))\n"
   ]
  },
  {
   "cell_type": "code",
   "execution_count": 15,
   "id": "dcb65d5b",
   "metadata": {
    "execution": {
     "iopub.execute_input": "2022-07-06T10:25:26.750358Z",
     "iopub.status.busy": "2022-07-06T10:25:26.749607Z",
     "iopub.status.idle": "2022-07-06T10:25:26.927698Z",
     "shell.execute_reply": "2022-07-06T10:25:26.926226Z"
    },
    "papermill": {
     "duration": 0.190223,
     "end_time": "2022-07-06T10:25:26.930845",
     "exception": false,
     "start_time": "2022-07-06T10:25:26.740622",
     "status": "completed"
    },
    "tags": []
   },
   "outputs": [
    {
     "name": "stdout",
     "output_type": "stream",
     "text": [
      "model score  0.78\n",
      "\n",
      "AUC score : 0.7407\n"
     ]
    }
   ],
   "source": [
    "#Training the linear regression model\n",
    "from sklearn.ensemble import ExtraTreesClassifier\n",
    "logreg= ExtraTreesClassifier(max_features=0.9500000000000001,\n",
    "                                      min_samples_leaf=5,\n",
    "                                      min_samples_split=8)\n",
    "logreg.fit(x_train, y_train)\n",
    "print('model score ',logreg.score(x_test, y_test))\n",
    "logreg_auc_score=roc_auc_score(y_test, logreg.predict_proba(x_test)[:,1])\n",
    "print(f'\\nAUC score : {logreg_auc_score:.4f}')"
   ]
  }
 ],
 "metadata": {
  "kernelspec": {
   "display_name": "Python 3",
   "language": "python",
   "name": "python3"
  },
  "language_info": {
   "codemirror_mode": {
    "name": "ipython",
    "version": 3
   },
   "file_extension": ".py",
   "mimetype": "text/x-python",
   "name": "python",
   "nbconvert_exporter": "python",
   "pygments_lexer": "ipython3",
   "version": "3.7.12"
  },
  "papermill": {
   "default_parameters": {},
   "duration": 175.30951,
   "end_time": "2022-07-06T10:25:29.560975",
   "environment_variables": {},
   "exception": null,
   "input_path": "__notebook__.ipynb",
   "output_path": "__notebook__.ipynb",
   "parameters": {},
   "start_time": "2022-07-06T10:22:34.251465",
   "version": "2.3.4"
  },
  "widgets": {
   "application/vnd.jupyter.widget-state+json": {
    "state": {
     "0385b6f4a06c426385ccb590933a411e": {
      "model_module": "@jupyter-widgets/base",
      "model_module_version": "1.2.0",
      "model_name": "LayoutModel",
      "state": {
       "_model_module": "@jupyter-widgets/base",
       "_model_module_version": "1.2.0",
       "_model_name": "LayoutModel",
       "_view_count": null,
       "_view_module": "@jupyter-widgets/base",
       "_view_module_version": "1.2.0",
       "_view_name": "LayoutView",
       "align_content": null,
       "align_items": null,
       "align_self": null,
       "border": null,
       "bottom": null,
       "display": null,
       "flex": null,
       "flex_flow": null,
       "grid_area": null,
       "grid_auto_columns": null,
       "grid_auto_flow": null,
       "grid_auto_rows": null,
       "grid_column": null,
       "grid_gap": null,
       "grid_row": null,
       "grid_template_areas": null,
       "grid_template_columns": null,
       "grid_template_rows": null,
       "height": null,
       "justify_content": null,
       "justify_items": null,
       "left": null,
       "margin": null,
       "max_height": null,
       "max_width": null,
       "min_height": null,
       "min_width": null,
       "object_fit": null,
       "object_position": null,
       "order": null,
       "overflow": null,
       "overflow_x": null,
       "overflow_y": null,
       "padding": null,
       "right": null,
       "top": null,
       "visibility": null,
       "width": null
      }
     },
     "244c56eb645e4e8789bd8eae2d7a6ace": {
      "model_module": "@jupyter-widgets/base",
      "model_module_version": "1.2.0",
      "model_name": "LayoutModel",
      "state": {
       "_model_module": "@jupyter-widgets/base",
       "_model_module_version": "1.2.0",
       "_model_name": "LayoutModel",
       "_view_count": null,
       "_view_module": "@jupyter-widgets/base",
       "_view_module_version": "1.2.0",
       "_view_name": "LayoutView",
       "align_content": null,
       "align_items": null,
       "align_self": null,
       "border": null,
       "bottom": null,
       "display": null,
       "flex": null,
       "flex_flow": null,
       "grid_area": null,
       "grid_auto_columns": null,
       "grid_auto_flow": null,
       "grid_auto_rows": null,
       "grid_column": null,
       "grid_gap": null,
       "grid_row": null,
       "grid_template_areas": null,
       "grid_template_columns": null,
       "grid_template_rows": null,
       "height": null,
       "justify_content": null,
       "justify_items": null,
       "left": null,
       "margin": null,
       "max_height": null,
       "max_width": null,
       "min_height": null,
       "min_width": null,
       "object_fit": null,
       "object_position": null,
       "order": null,
       "overflow": null,
       "overflow_x": null,
       "overflow_y": null,
       "padding": null,
       "right": null,
       "top": null,
       "visibility": null,
       "width": null
      }
     },
     "2aa5e06936234cf29314a709a7dbd904": {
      "model_module": "@jupyter-widgets/controls",
      "model_module_version": "1.5.0",
      "model_name": "FloatProgressModel",
      "state": {
       "_dom_classes": [],
       "_model_module": "@jupyter-widgets/controls",
       "_model_module_version": "1.5.0",
       "_model_name": "FloatProgressModel",
       "_view_count": null,
       "_view_module": "@jupyter-widgets/controls",
       "_view_module_version": "1.5.0",
       "_view_name": "ProgressView",
       "bar_style": "",
       "description": "",
       "description_tooltip": null,
       "layout": "IPY_MODEL_584957b1cd2b4e8996a7a9e22bb5293e",
       "max": 300.0,
       "min": 0.0,
       "orientation": "horizontal",
       "style": "IPY_MODEL_bb5e70e94dc246e4a42ef263640db4f5",
       "value": 300.0
      }
     },
     "465a124183094f9184ca3f242a23f309": {
      "model_module": "@jupyter-widgets/controls",
      "model_module_version": "1.5.0",
      "model_name": "HTMLModel",
      "state": {
       "_dom_classes": [],
       "_model_module": "@jupyter-widgets/controls",
       "_model_module_version": "1.5.0",
       "_model_name": "HTMLModel",
       "_view_count": null,
       "_view_module": "@jupyter-widgets/controls",
       "_view_module_version": "1.5.0",
       "_view_name": "HTMLView",
       "description": "",
       "description_tooltip": null,
       "layout": "IPY_MODEL_244c56eb645e4e8789bd8eae2d7a6ace",
       "placeholder": "​",
       "style": "IPY_MODEL_f9df17f88eb34e548753b8a5f10aa85a",
       "value": " 300/300 [02:32&lt;00:00,  2.15pipeline/s]"
      }
     },
     "584957b1cd2b4e8996a7a9e22bb5293e": {
      "model_module": "@jupyter-widgets/base",
      "model_module_version": "1.2.0",
      "model_name": "LayoutModel",
      "state": {
       "_model_module": "@jupyter-widgets/base",
       "_model_module_version": "1.2.0",
       "_model_name": "LayoutModel",
       "_view_count": null,
       "_view_module": "@jupyter-widgets/base",
       "_view_module_version": "1.2.0",
       "_view_name": "LayoutView",
       "align_content": null,
       "align_items": null,
       "align_self": null,
       "border": null,
       "bottom": null,
       "display": null,
       "flex": null,
       "flex_flow": null,
       "grid_area": null,
       "grid_auto_columns": null,
       "grid_auto_flow": null,
       "grid_auto_rows": null,
       "grid_column": null,
       "grid_gap": null,
       "grid_row": null,
       "grid_template_areas": null,
       "grid_template_columns": null,
       "grid_template_rows": null,
       "height": null,
       "justify_content": null,
       "justify_items": null,
       "left": null,
       "margin": null,
       "max_height": null,
       "max_width": null,
       "min_height": null,
       "min_width": null,
       "object_fit": null,
       "object_position": null,
       "order": null,
       "overflow": null,
       "overflow_x": null,
       "overflow_y": null,
       "padding": null,
       "right": null,
       "top": null,
       "visibility": null,
       "width": null
      }
     },
     "91ebbbf929c44c8a8a35c461cad4a91e": {
      "model_module": "@jupyter-widgets/controls",
      "model_module_version": "1.5.0",
      "model_name": "DescriptionStyleModel",
      "state": {
       "_model_module": "@jupyter-widgets/controls",
       "_model_module_version": "1.5.0",
       "_model_name": "DescriptionStyleModel",
       "_view_count": null,
       "_view_module": "@jupyter-widgets/base",
       "_view_module_version": "1.2.0",
       "_view_name": "StyleView",
       "description_width": ""
      }
     },
     "a7a66d995c1b42068ba4ad92cebb3e4f": {
      "model_module": "@jupyter-widgets/controls",
      "model_module_version": "1.5.0",
      "model_name": "HBoxModel",
      "state": {
       "_dom_classes": [],
       "_model_module": "@jupyter-widgets/controls",
       "_model_module_version": "1.5.0",
       "_model_name": "HBoxModel",
       "_view_count": null,
       "_view_module": "@jupyter-widgets/controls",
       "_view_module_version": "1.5.0",
       "_view_name": "HBoxView",
       "box_style": "",
       "children": [
        "IPY_MODEL_df9bba330af44e0d964baeaf245bf2f9",
        "IPY_MODEL_2aa5e06936234cf29314a709a7dbd904",
        "IPY_MODEL_465a124183094f9184ca3f242a23f309"
       ],
       "layout": "IPY_MODEL_0385b6f4a06c426385ccb590933a411e"
      }
     },
     "bb5e70e94dc246e4a42ef263640db4f5": {
      "model_module": "@jupyter-widgets/controls",
      "model_module_version": "1.5.0",
      "model_name": "ProgressStyleModel",
      "state": {
       "_model_module": "@jupyter-widgets/controls",
       "_model_module_version": "1.5.0",
       "_model_name": "ProgressStyleModel",
       "_view_count": null,
       "_view_module": "@jupyter-widgets/base",
       "_view_module_version": "1.2.0",
       "_view_name": "StyleView",
       "bar_color": null,
       "description_width": ""
      }
     },
     "df9bba330af44e0d964baeaf245bf2f9": {
      "model_module": "@jupyter-widgets/controls",
      "model_module_version": "1.5.0",
      "model_name": "HTMLModel",
      "state": {
       "_dom_classes": [],
       "_model_module": "@jupyter-widgets/controls",
       "_model_module_version": "1.5.0",
       "_model_name": "HTMLModel",
       "_view_count": null,
       "_view_module": "@jupyter-widgets/controls",
       "_view_module_version": "1.5.0",
       "_view_name": "HTMLView",
       "description": "",
       "description_tooltip": null,
       "layout": "IPY_MODEL_f7dfeb3c7aa64c40b8383465b38383f4",
       "placeholder": "​",
       "style": "IPY_MODEL_91ebbbf929c44c8a8a35c461cad4a91e",
       "value": "Optimization Progress: 100%"
      }
     },
     "f7dfeb3c7aa64c40b8383465b38383f4": {
      "model_module": "@jupyter-widgets/base",
      "model_module_version": "1.2.0",
      "model_name": "LayoutModel",
      "state": {
       "_model_module": "@jupyter-widgets/base",
       "_model_module_version": "1.2.0",
       "_model_name": "LayoutModel",
       "_view_count": null,
       "_view_module": "@jupyter-widgets/base",
       "_view_module_version": "1.2.0",
       "_view_name": "LayoutView",
       "align_content": null,
       "align_items": null,
       "align_self": null,
       "border": null,
       "bottom": null,
       "display": null,
       "flex": null,
       "flex_flow": null,
       "grid_area": null,
       "grid_auto_columns": null,
       "grid_auto_flow": null,
       "grid_auto_rows": null,
       "grid_column": null,
       "grid_gap": null,
       "grid_row": null,
       "grid_template_areas": null,
       "grid_template_columns": null,
       "grid_template_rows": null,
       "height": null,
       "justify_content": null,
       "justify_items": null,
       "left": null,
       "margin": null,
       "max_height": null,
       "max_width": null,
       "min_height": null,
       "min_width": null,
       "object_fit": null,
       "object_position": null,
       "order": null,
       "overflow": null,
       "overflow_x": null,
       "overflow_y": null,
       "padding": null,
       "right": null,
       "top": null,
       "visibility": null,
       "width": null
      }
     },
     "f9df17f88eb34e548753b8a5f10aa85a": {
      "model_module": "@jupyter-widgets/controls",
      "model_module_version": "1.5.0",
      "model_name": "DescriptionStyleModel",
      "state": {
       "_model_module": "@jupyter-widgets/controls",
       "_model_module_version": "1.5.0",
       "_model_name": "DescriptionStyleModel",
       "_view_count": null,
       "_view_module": "@jupyter-widgets/base",
       "_view_module_version": "1.2.0",
       "_view_name": "StyleView",
       "description_width": ""
      }
     }
    },
    "version_major": 2,
    "version_minor": 0
   }
  }
 },
 "nbformat": 4,
 "nbformat_minor": 5
}
