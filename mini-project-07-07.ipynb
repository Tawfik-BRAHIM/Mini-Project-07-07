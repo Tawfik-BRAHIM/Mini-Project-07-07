{
 "cells": [
  {
   "cell_type": "code",
   "execution_count": 1,
   "id": "7ae7e565",
   "metadata": {
    "_cell_guid": "b1076dfc-b9ad-4769-8c92-a6c4dae69d19",
    "_uuid": "8f2839f25d086af736a60e9eeb907d3b93b6e0e5",
    "execution": {
     "iopub.execute_input": "2022-07-06T09:13:11.527168Z",
     "iopub.status.busy": "2022-07-06T09:13:11.526412Z",
     "iopub.status.idle": "2022-07-06T09:13:15.514823Z",
     "shell.execute_reply": "2022-07-06T09:13:15.513523Z"
    },
    "papermill": {
     "duration": 3.997829,
     "end_time": "2022-07-06T09:13:15.517853",
     "exception": false,
     "start_time": "2022-07-06T09:13:11.520024",
     "status": "completed"
    },
    "tags": []
   },
   "outputs": [
    {
     "name": "stdout",
     "output_type": "stream",
     "text": [
      "/kaggle/input/blood-transfusion-dataset/transfusion.csv\n",
      "Setup Complete\n"
     ]
    }
   ],
   "source": [
    "import numpy as np # linear algebra\n",
    "from sklearn.model_selection import train_test_split\n",
    "from sklearn.tree import DecisionTreeRegressor\n",
    "from sklearn.metrics import mean_absolute_error\n",
    "from tpot import TPOTClassifier\n",
    "from sklearn.linear_model import LogisticRegression\n",
    "from sklearn.metrics import roc_auc_score\n",
    "import pandas as pd # data processing, CSV file I/O (e.g. pd.read_csv)\n",
    "pd.plotting.register_matplotlib_converters()\n",
    "import matplotlib.pyplot as plt\n",
    "%matplotlib inline\n",
    "import seaborn as sns\n",
    "\n",
    "import os\n",
    "for dirname, _, filenames in os.walk('/kaggle/input'):\n",
    "    for filename in filenames:\n",
    "        print(os.path.join(dirname, filename))\n",
    "\n",
    "print(\"Setup Complete\")"
   ]
  },
  {
   "cell_type": "code",
   "execution_count": 2,
   "id": "3dc2c404",
   "metadata": {
    "execution": {
     "iopub.execute_input": "2022-07-06T09:13:15.526784Z",
     "iopub.status.busy": "2022-07-06T09:13:15.526187Z",
     "iopub.status.idle": "2022-07-06T09:13:15.542230Z",
     "shell.execute_reply": "2022-07-06T09:13:15.541052Z"
    },
    "papermill": {
     "duration": 0.023232,
     "end_time": "2022-07-06T09:13:15.544640",
     "exception": false,
     "start_time": "2022-07-06T09:13:15.521408",
     "status": "completed"
    },
    "tags": []
   },
   "outputs": [
    {
     "name": "stdout",
     "output_type": "stream",
     "text": [
      "Setup Complete\n"
     ]
    }
   ],
   "source": [
    "#Importing the data base \n",
    "donation_filepath = \"../input/blood-transfusion-dataset/transfusion.csv\"\n",
    "transfusion = pd.read_csv(donation_filepath)\n",
    "print(\"Setup Complete\")"
   ]
  },
  {
   "cell_type": "code",
   "execution_count": 3,
   "id": "ba207c7b",
   "metadata": {
    "execution": {
     "iopub.execute_input": "2022-07-06T09:13:15.553478Z",
     "iopub.status.busy": "2022-07-06T09:13:15.553067Z",
     "iopub.status.idle": "2022-07-06T09:13:15.572582Z",
     "shell.execute_reply": "2022-07-06T09:13:15.571520Z"
    },
    "papermill": {
     "duration": 0.026629,
     "end_time": "2022-07-06T09:13:15.574808",
     "exception": false,
     "start_time": "2022-07-06T09:13:15.548179",
     "status": "completed"
    },
    "tags": []
   },
   "outputs": [
    {
     "data": {
      "text/html": [
       "<div>\n",
       "<style scoped>\n",
       "    .dataframe tbody tr th:only-of-type {\n",
       "        vertical-align: middle;\n",
       "    }\n",
       "\n",
       "    .dataframe tbody tr th {\n",
       "        vertical-align: top;\n",
       "    }\n",
       "\n",
       "    .dataframe thead th {\n",
       "        text-align: right;\n",
       "    }\n",
       "</style>\n",
       "<table border=\"1\" class=\"dataframe\">\n",
       "  <thead>\n",
       "    <tr style=\"text-align: right;\">\n",
       "      <th></th>\n",
       "      <th>Recency (months)</th>\n",
       "      <th>Frequency (times)</th>\n",
       "      <th>Monetary (c.c. blood)</th>\n",
       "      <th>Time (months)</th>\n",
       "      <th>whether he/she donated blood in March 2007</th>\n",
       "    </tr>\n",
       "  </thead>\n",
       "  <tbody>\n",
       "    <tr>\n",
       "      <th>0</th>\n",
       "      <td>2</td>\n",
       "      <td>50</td>\n",
       "      <td>12500</td>\n",
       "      <td>98</td>\n",
       "      <td>1</td>\n",
       "    </tr>\n",
       "    <tr>\n",
       "      <th>1</th>\n",
       "      <td>0</td>\n",
       "      <td>13</td>\n",
       "      <td>3250</td>\n",
       "      <td>28</td>\n",
       "      <td>1</td>\n",
       "    </tr>\n",
       "    <tr>\n",
       "      <th>2</th>\n",
       "      <td>1</td>\n",
       "      <td>16</td>\n",
       "      <td>4000</td>\n",
       "      <td>35</td>\n",
       "      <td>1</td>\n",
       "    </tr>\n",
       "    <tr>\n",
       "      <th>3</th>\n",
       "      <td>2</td>\n",
       "      <td>20</td>\n",
       "      <td>5000</td>\n",
       "      <td>45</td>\n",
       "      <td>1</td>\n",
       "    </tr>\n",
       "    <tr>\n",
       "      <th>4</th>\n",
       "      <td>1</td>\n",
       "      <td>24</td>\n",
       "      <td>6000</td>\n",
       "      <td>77</td>\n",
       "      <td>0</td>\n",
       "    </tr>\n",
       "  </tbody>\n",
       "</table>\n",
       "</div>"
      ],
      "text/plain": [
       "   Recency (months)  Frequency (times)  Monetary (c.c. blood)  Time (months)  \\\n",
       "0                 2                 50                  12500             98   \n",
       "1                 0                 13                   3250             28   \n",
       "2                 1                 16                   4000             35   \n",
       "3                 2                 20                   5000             45   \n",
       "4                 1                 24                   6000             77   \n",
       "\n",
       "   whether he/she donated blood in March 2007  \n",
       "0                                           1  \n",
       "1                                           1  \n",
       "2                                           1  \n",
       "3                                           1  \n",
       "4                                           0  "
      ]
     },
     "execution_count": 3,
     "metadata": {},
     "output_type": "execute_result"
    }
   ],
   "source": [
    "#inspecting the 5 first rows\n",
    "transfusion.head()\n"
   ]
  },
  {
   "cell_type": "code",
   "execution_count": 4,
   "id": "119612c5",
   "metadata": {
    "execution": {
     "iopub.execute_input": "2022-07-06T09:13:15.584099Z",
     "iopub.status.busy": "2022-07-06T09:13:15.583758Z",
     "iopub.status.idle": "2022-07-06T09:13:15.624556Z",
     "shell.execute_reply": "2022-07-06T09:13:15.623334Z"
    },
    "papermill": {
     "duration": 0.04872,
     "end_time": "2022-07-06T09:13:15.627257",
     "exception": false,
     "start_time": "2022-07-06T09:13:15.578537",
     "status": "completed"
    },
    "tags": []
   },
   "outputs": [
    {
     "data": {
      "text/html": [
       "<div>\n",
       "<style scoped>\n",
       "    .dataframe tbody tr th:only-of-type {\n",
       "        vertical-align: middle;\n",
       "    }\n",
       "\n",
       "    .dataframe tbody tr th {\n",
       "        vertical-align: top;\n",
       "    }\n",
       "\n",
       "    .dataframe thead th {\n",
       "        text-align: right;\n",
       "    }\n",
       "</style>\n",
       "<table border=\"1\" class=\"dataframe\">\n",
       "  <thead>\n",
       "    <tr style=\"text-align: right;\">\n",
       "      <th></th>\n",
       "      <th>Recency (months)</th>\n",
       "      <th>Frequency (times)</th>\n",
       "      <th>Monetary (c.c. blood)</th>\n",
       "      <th>Time (months)</th>\n",
       "      <th>whether he/she donated blood in March 2007</th>\n",
       "    </tr>\n",
       "  </thead>\n",
       "  <tbody>\n",
       "    <tr>\n",
       "      <th>count</th>\n",
       "      <td>748.000000</td>\n",
       "      <td>748.000000</td>\n",
       "      <td>748.000000</td>\n",
       "      <td>748.000000</td>\n",
       "      <td>748.000000</td>\n",
       "    </tr>\n",
       "    <tr>\n",
       "      <th>mean</th>\n",
       "      <td>9.506684</td>\n",
       "      <td>5.514706</td>\n",
       "      <td>1378.676471</td>\n",
       "      <td>34.282086</td>\n",
       "      <td>0.237968</td>\n",
       "    </tr>\n",
       "    <tr>\n",
       "      <th>std</th>\n",
       "      <td>8.095396</td>\n",
       "      <td>5.839307</td>\n",
       "      <td>1459.826781</td>\n",
       "      <td>24.376714</td>\n",
       "      <td>0.426124</td>\n",
       "    </tr>\n",
       "    <tr>\n",
       "      <th>min</th>\n",
       "      <td>0.000000</td>\n",
       "      <td>1.000000</td>\n",
       "      <td>250.000000</td>\n",
       "      <td>2.000000</td>\n",
       "      <td>0.000000</td>\n",
       "    </tr>\n",
       "    <tr>\n",
       "      <th>25%</th>\n",
       "      <td>2.750000</td>\n",
       "      <td>2.000000</td>\n",
       "      <td>500.000000</td>\n",
       "      <td>16.000000</td>\n",
       "      <td>0.000000</td>\n",
       "    </tr>\n",
       "    <tr>\n",
       "      <th>50%</th>\n",
       "      <td>7.000000</td>\n",
       "      <td>4.000000</td>\n",
       "      <td>1000.000000</td>\n",
       "      <td>28.000000</td>\n",
       "      <td>0.000000</td>\n",
       "    </tr>\n",
       "    <tr>\n",
       "      <th>75%</th>\n",
       "      <td>14.000000</td>\n",
       "      <td>7.000000</td>\n",
       "      <td>1750.000000</td>\n",
       "      <td>50.000000</td>\n",
       "      <td>0.000000</td>\n",
       "    </tr>\n",
       "    <tr>\n",
       "      <th>max</th>\n",
       "      <td>74.000000</td>\n",
       "      <td>50.000000</td>\n",
       "      <td>12500.000000</td>\n",
       "      <td>98.000000</td>\n",
       "      <td>1.000000</td>\n",
       "    </tr>\n",
       "  </tbody>\n",
       "</table>\n",
       "</div>"
      ],
      "text/plain": [
       "       Recency (months)  Frequency (times)  Monetary (c.c. blood)  \\\n",
       "count        748.000000         748.000000             748.000000   \n",
       "mean           9.506684           5.514706            1378.676471   \n",
       "std            8.095396           5.839307            1459.826781   \n",
       "min            0.000000           1.000000             250.000000   \n",
       "25%            2.750000           2.000000             500.000000   \n",
       "50%            7.000000           4.000000            1000.000000   \n",
       "75%           14.000000           7.000000            1750.000000   \n",
       "max           74.000000          50.000000           12500.000000   \n",
       "\n",
       "       Time (months)  whether he/she donated blood in March 2007  \n",
       "count     748.000000                                  748.000000  \n",
       "mean       34.282086                                    0.237968  \n",
       "std        24.376714                                    0.426124  \n",
       "min         2.000000                                    0.000000  \n",
       "25%        16.000000                                    0.000000  \n",
       "50%        28.000000                                    0.000000  \n",
       "75%        50.000000                                    0.000000  \n",
       "max        98.000000                                    1.000000  "
      ]
     },
     "execution_count": 4,
     "metadata": {},
     "output_type": "execute_result"
    }
   ],
   "source": [
    "transfusion.describe()"
   ]
  },
  {
   "cell_type": "code",
   "execution_count": 5,
   "id": "c042027c",
   "metadata": {
    "execution": {
     "iopub.execute_input": "2022-07-06T09:13:15.637383Z",
     "iopub.status.busy": "2022-07-06T09:13:15.637006Z",
     "iopub.status.idle": "2022-07-06T09:13:15.648041Z",
     "shell.execute_reply": "2022-07-06T09:13:15.646921Z"
    },
    "papermill": {
     "duration": 0.019136,
     "end_time": "2022-07-06T09:13:15.650697",
     "exception": false,
     "start_time": "2022-07-06T09:13:15.631561",
     "status": "completed"
    },
    "tags": []
   },
   "outputs": [
    {
     "data": {
      "text/html": [
       "<div>\n",
       "<style scoped>\n",
       "    .dataframe tbody tr th:only-of-type {\n",
       "        vertical-align: middle;\n",
       "    }\n",
       "\n",
       "    .dataframe tbody tr th {\n",
       "        vertical-align: top;\n",
       "    }\n",
       "\n",
       "    .dataframe thead th {\n",
       "        text-align: right;\n",
       "    }\n",
       "</style>\n",
       "<table border=\"1\" class=\"dataframe\">\n",
       "  <thead>\n",
       "    <tr style=\"text-align: right;\">\n",
       "      <th></th>\n",
       "      <th>Recency (months)</th>\n",
       "      <th>Frequency (times)</th>\n",
       "      <th>Monetary (c.c. blood)</th>\n",
       "      <th>Time (months)</th>\n",
       "      <th>target</th>\n",
       "    </tr>\n",
       "  </thead>\n",
       "  <tbody>\n",
       "    <tr>\n",
       "      <th>0</th>\n",
       "      <td>2</td>\n",
       "      <td>50</td>\n",
       "      <td>12500</td>\n",
       "      <td>98</td>\n",
       "      <td>1</td>\n",
       "    </tr>\n",
       "    <tr>\n",
       "      <th>1</th>\n",
       "      <td>0</td>\n",
       "      <td>13</td>\n",
       "      <td>3250</td>\n",
       "      <td>28</td>\n",
       "      <td>1</td>\n",
       "    </tr>\n",
       "    <tr>\n",
       "      <th>2</th>\n",
       "      <td>1</td>\n",
       "      <td>16</td>\n",
       "      <td>4000</td>\n",
       "      <td>35</td>\n",
       "      <td>1</td>\n",
       "    </tr>\n",
       "    <tr>\n",
       "      <th>3</th>\n",
       "      <td>2</td>\n",
       "      <td>20</td>\n",
       "      <td>5000</td>\n",
       "      <td>45</td>\n",
       "      <td>1</td>\n",
       "    </tr>\n",
       "    <tr>\n",
       "      <th>4</th>\n",
       "      <td>1</td>\n",
       "      <td>24</td>\n",
       "      <td>6000</td>\n",
       "      <td>77</td>\n",
       "      <td>0</td>\n",
       "    </tr>\n",
       "  </tbody>\n",
       "</table>\n",
       "</div>"
      ],
      "text/plain": [
       "   Recency (months)  Frequency (times)  Monetary (c.c. blood)  Time (months)  \\\n",
       "0                 2                 50                  12500             98   \n",
       "1                 0                 13                   3250             28   \n",
       "2                 1                 16                   4000             35   \n",
       "3                 2                 20                   5000             45   \n",
       "4                 1                 24                   6000             77   \n",
       "\n",
       "   target  \n",
       "0       1  \n",
       "1       1  \n",
       "2       1  \n",
       "3       1  \n",
       "4       0  "
      ]
     },
     "execution_count": 5,
     "metadata": {},
     "output_type": "execute_result"
    }
   ],
   "source": [
    "#creating target column\n",
    "\n",
    "transfusion.rename(columns={'whether he/she donated blood in March 2007': 'target'}, inplace=True)\n",
    "transfusion.head()"
   ]
  },
  {
   "cell_type": "code",
   "execution_count": 6,
   "id": "34e1386a",
   "metadata": {
    "execution": {
     "iopub.execute_input": "2022-07-06T09:13:15.660814Z",
     "iopub.status.busy": "2022-07-06T09:13:15.660140Z",
     "iopub.status.idle": "2022-07-06T09:13:15.859806Z",
     "shell.execute_reply": "2022-07-06T09:13:15.858409Z"
    },
    "papermill": {
     "duration": 0.207412,
     "end_time": "2022-07-06T09:13:15.862167",
     "exception": false,
     "start_time": "2022-07-06T09:13:15.654755",
     "status": "completed"
    },
    "tags": []
   },
   "outputs": [
    {
     "data": {
      "image/png": "[encoded data removed]",
      "text/plain": [
       "<Figure size 216x504 with 1 Axes>"
      ]
     },
     "metadata": {
      "needs_background": "light"
     },
     "output_type": "display_data"
    }
   ],
   "source": [
    "#Checking target incidence\n",
    "#figure parameters\n",
    "plt.figure(figsize=(3,7))\n",
    "plt.xlabel('Target')\n",
    "plt.ylabel('Occurence')\n",
    "plt.title('target incidence')\n",
    "#ploting \n",
    "ax=sns.countplot(x='target', data=transfusion )\n",
    "#annotating the percentage\n",
    "total = float(len(transfusion))\n",
    "for p in ax.patches:\n",
    "    percentage = '{:.1f}%'.format(100 * p.get_height()/total)\n",
    "    x = p.get_x() + p.get_width()\n",
    "    y = p.get_height()\n",
    "    ax.annotate(percentage, (x, y),ha='right')\n",
    "plt.show()"
   ]
  },
  {
   "cell_type": "code",
   "execution_count": 7,
   "id": "dd9454bd",
   "metadata": {
    "execution": {
     "iopub.execute_input": "2022-07-06T09:13:15.872733Z",
     "iopub.status.busy": "2022-07-06T09:13:15.872337Z",
     "iopub.status.idle": "2022-07-06T09:13:15.882469Z",
     "shell.execute_reply": "2022-07-06T09:13:15.881358Z"
    },
    "papermill": {
     "duration": 0.017977,
     "end_time": "2022-07-06T09:13:15.884761",
     "exception": false,
     "start_time": "2022-07-06T09:13:15.866784",
     "status": "completed"
    },
    "tags": []
   },
   "outputs": [
    {
     "name": "stdout",
     "output_type": "stream",
     "text": [
      "0    76.203209\n",
      "1    23.796791\n",
      "Name: target, dtype: float64\n",
      "0    76.203209\n",
      "1    23.796791\n",
      "Name: target, dtype: float64\n"
     ]
    }
   ],
   "source": [
    "#extracting x and y from dataframe\n",
    "x=transfusion.drop(columns='target', axis=1)\n",
    "y=transfusion['target']\n",
    "print(y.value_counts(normalize=True)*100)\n",
    "print(y.value_counts(normalize=True)*100)"
   ]
  },
  {
   "cell_type": "code",
   "execution_count": 8,
   "id": "1e9000fe",
   "metadata": {
    "execution": {
     "iopub.execute_input": "2022-07-06T09:13:15.895751Z",
     "iopub.status.busy": "2022-07-06T09:13:15.895007Z",
     "iopub.status.idle": "2022-07-06T09:13:15.910131Z",
     "shell.execute_reply": "2022-07-06T09:13:15.908669Z"
    },
    "papermill": {
     "duration": 0.023294,
     "end_time": "2022-07-06T09:13:15.912477",
     "exception": false,
     "start_time": "2022-07-06T09:13:15.889183",
     "status": "completed"
    },
    "tags": []
   },
   "outputs": [
    {
     "name": "stdout",
     "output_type": "stream",
     "text": [
      "(748, 4) (598, 4) (150, 4)\n",
      "(748,) (598,) (150,)\n",
      "0    76.254181\n",
      "1    23.745819\n",
      "Name: target, dtype: float64\n",
      "0    76.0\n",
      "1    24.0\n",
      "Name: target, dtype: float64\n"
     ]
    }
   ],
   "source": [
    "#Splitting transfusion into train and test datasets\n",
    "x_train,x_test,y_train,y_test=train_test_split(x,y,test_size=0.2, random_state=1, stratify=y)\n",
    "print(x.shape,x_train.shape,x_test.shape)\n",
    "print(y.shape,y_train.shape,y_test.shape)\n",
    "print(y_train.value_counts(normalize=True)*100)\n",
    "print(y_test.value_counts(normalize=True)*100)"
   ]
  },
  {
   "cell_type": "code",
   "execution_count": 9,
   "id": "367f227c",
   "metadata": {
    "execution": {
     "iopub.execute_input": "2022-07-06T09:13:15.923424Z",
     "iopub.status.busy": "2022-07-06T09:13:15.922775Z",
     "iopub.status.idle": "2022-07-06T09:15:41.329967Z",
     "shell.execute_reply": "2022-07-06T09:15:41.329055Z"
    },
    "papermill": {
     "duration": 145.415186,
     "end_time": "2022-07-06T09:15:41.332314",
     "exception": false,
     "start_time": "2022-07-06T09:13:15.917128",
     "status": "completed"
    },
    "tags": []
   },
   "outputs": [
    {
     "data": {
      "application/vnd.jupyter.widget-view+json": {
       "model_id": "26e58830b2b843dfb6991f2205bb4cd6",
       "version_major": 2,
       "version_minor": 0
      },
      "text/plain": [
       "Optimization Progress:   0%|          | 0/300 [00:00<?, ?pipeline/s]"
      ]
     },
     "metadata": {},
     "output_type": "display_data"
    },
    {
     "name": "stdout",
     "output_type": "stream",
     "text": [
      "\n",
      "Generation 1 - Current best internal CV score: 0.8076470588235294\n",
      "\n",
      "Generation 2 - Current best internal CV score: 0.8076470588235294\n",
      "\n",
      "Generation 3 - Current best internal CV score: 0.8076470588235294\n",
      "\n",
      "Generation 4 - Current best internal CV score: 0.8076470588235294\n",
      "\n",
      "Generation 5 - Current best internal CV score: 0.8076470588235294\n",
      "\n",
      "Best pipeline: RandomForestClassifier(input_matrix, bootstrap=True, criterion=entropy, max_features=0.55, min_samples_leaf=9, min_samples_split=3, n_estimators=100)\n"
     ]
    }
   ],
   "source": [
    "#Selecting model using TPOT\n",
    "tpot = TPOTClassifier(generations=5, population_size=50, verbosity=2,n_jobs=-1)\n",
    "tpot.fit(x_train, y_train)\n",
    "tpot.export('tpot_digits_pipeline.py')"
   ]
  },
  {
   "cell_type": "code",
   "execution_count": 10,
   "id": "2f8364bf",
   "metadata": {
    "execution": {
     "iopub.execute_input": "2022-07-06T09:15:41.344185Z",
     "iopub.status.busy": "2022-07-06T09:15:41.343794Z",
     "iopub.status.idle": "2022-07-06T09:15:41.364996Z",
     "shell.execute_reply": "2022-07-06T09:15:41.364261Z"
    },
    "papermill": {
     "duration": 0.02944,
     "end_time": "2022-07-06T09:15:41.366779",
     "exception": false,
     "start_time": "2022-07-06T09:15:41.337339",
     "status": "completed"
    },
    "tags": []
   },
   "outputs": [
    {
     "name": "stdout",
     "output_type": "stream",
     "text": [
      "\n",
      "AUC score : 0.7378\n"
     ]
    }
   ],
   "source": [
    "#cheking AUC \n",
    "logreg_auc_score=roc_auc_score(y_test, tpot.predict_proba(x_test)[:,1])\n",
    "print(f'\\nAUC score : {logreg_auc_score:.4f}')"
   ]
  },
  {
   "cell_type": "code",
   "execution_count": 11,
   "id": "8701fc6e",
   "metadata": {
    "execution": {
     "iopub.execute_input": "2022-07-06T09:15:41.378552Z",
     "iopub.status.busy": "2022-07-06T09:15:41.377777Z",
     "iopub.status.idle": "2022-07-06T09:15:41.397914Z",
     "shell.execute_reply": "2022-07-06T09:15:41.396724Z"
    },
    "papermill": {
     "duration": 0.028293,
     "end_time": "2022-07-06T09:15:41.400125",
     "exception": false,
     "start_time": "2022-07-06T09:15:41.371832",
     "status": "completed"
    },
    "tags": []
   },
   "outputs": [
    {
     "name": "stdout",
     "output_type": "stream",
     "text": [
      "0.7666666666666667\n"
     ]
    }
   ],
   "source": [
    "#cheking tpot score\n",
    "print(tpot.score(x_test, y_test))"
   ]
  },
  {
   "cell_type": "code",
   "execution_count": 12,
   "id": "de45c3e4",
   "metadata": {
    "execution": {
     "iopub.execute_input": "2022-07-06T09:15:41.411713Z",
     "iopub.status.busy": "2022-07-06T09:15:41.411339Z",
     "iopub.status.idle": "2022-07-06T09:15:41.422001Z",
     "shell.execute_reply": "2022-07-06T09:15:41.421005Z"
    },
    "papermill": {
     "duration": 0.018875,
     "end_time": "2022-07-06T09:15:41.424141",
     "exception": false,
     "start_time": "2022-07-06T09:15:41.405266",
     "status": "completed"
    },
    "tags": []
   },
   "outputs": [
    {
     "data": {
      "text/plain": [
       "Pipeline(steps=[('randomforestclassifier',\n",
       "                 RandomForestClassifier(criterion='entropy', max_features=0.55,\n",
       "                                        min_samples_leaf=9,\n",
       "                                        min_samples_split=3))])"
      ]
     },
     "execution_count": 12,
     "metadata": {},
     "output_type": "execute_result"
    }
   ],
   "source": [
    "#cheking the best model chosen by tpot\n",
    "tpot.fitted_pipeline_"
   ]
  },
  {
   "cell_type": "code",
   "execution_count": 13,
   "id": "f151fa96",
   "metadata": {
    "execution": {
     "iopub.execute_input": "2022-07-06T09:15:41.436340Z",
     "iopub.status.busy": "2022-07-06T09:15:41.435471Z",
     "iopub.status.idle": "2022-07-06T09:15:41.444186Z",
     "shell.execute_reply": "2022-07-06T09:15:41.443145Z"
    },
    "papermill": {
     "duration": 0.016982,
     "end_time": "2022-07-06T09:15:41.446240",
     "exception": false,
     "start_time": "2022-07-06T09:15:41.429258",
     "status": "completed"
    },
    "tags": []
   },
   "outputs": [
    {
     "data": {
      "text/plain": [
       "Recency (months)         6.544782e+01\n",
       "Frequency (times)        3.405192e+01\n",
       "Monetary (c.c. blood)    2.128245e+06\n",
       "Time (months)            5.934298e+02\n",
       "target                   1.813392e-01\n",
       "dtype: float64"
      ]
     },
     "execution_count": 13,
     "metadata": {},
     "output_type": "execute_result"
    }
   ],
   "source": [
    "#Checking the variance\n",
    "np.var(transfusion)"
   ]
  },
  {
   "cell_type": "code",
   "execution_count": 14,
   "id": "abaa6440",
   "metadata": {
    "execution": {
     "iopub.execute_input": "2022-07-06T09:15:41.458089Z",
     "iopub.status.busy": "2022-07-06T09:15:41.457729Z",
     "iopub.status.idle": "2022-07-06T09:15:41.467789Z",
     "shell.execute_reply": "2022-07-06T09:15:41.466695Z"
    },
    "papermill": {
     "duration": 0.018223,
     "end_time": "2022-07-06T09:15:41.469740",
     "exception": false,
     "start_time": "2022-07-06T09:15:41.451517",
     "status": "completed"
    },
    "tags": []
   },
   "outputs": [
    {
     "data": {
      "text/plain": [
       "Recency (months)         6.544782e+01\n",
       "Frequency (times)        3.405192e+01\n",
       "Monetary (c.c. blood)    2.128245e+06\n",
       "Time (months)            5.934298e+02\n",
       "target                   1.813392e-01\n",
       "Log_cc                   8.352303e-01\n",
       "dtype: float64"
      ]
     },
     "execution_count": 14,
     "metadata": {},
     "output_type": "execute_result"
    }
   ],
   "source": [
    "# Log normalization the Monetary (c.c. blood) column\n",
    "transfusion['Log_cc'] = np.log(transfusion['Monetary (c.c. blood)'])\n",
    "#cheking the variance for changes\n",
    "np.var(transfusion)"
   ]
  },
  {
   "cell_type": "code",
   "execution_count": 15,
   "id": "99405a89",
   "metadata": {
    "execution": {
     "iopub.execute_input": "2022-07-06T09:15:41.482634Z",
     "iopub.status.busy": "2022-07-06T09:15:41.482257Z",
     "iopub.status.idle": "2022-07-06T09:15:41.597003Z",
     "shell.execute_reply": "2022-07-06T09:15:41.596002Z"
    },
    "papermill": {
     "duration": 0.123153,
     "end_time": "2022-07-06T09:15:41.599063",
     "exception": false,
     "start_time": "2022-07-06T09:15:41.475910",
     "status": "completed"
    },
    "tags": []
   },
   "outputs": [
    {
     "data": {
      "text/plain": [
       "ExtraTreesClassifier(max_features=0.9500000000000001, min_samples_leaf=5,\n",
       "                     min_samples_split=8)"
      ]
     },
     "execution_count": 15,
     "metadata": {},
     "output_type": "execute_result"
    }
   ],
   "source": [
    "#Training the linear regression model\n",
    "from sklearn.ensemble import ExtraTreesClassifier\n",
    "logreg= ExtraTreesClassifier(max_features=0.9500000000000001,\n",
    "                                      min_samples_leaf=5,\n",
    "                                      min_samples_split=8)\n",
    "logreg.fit(x_train, y_train)"
   ]
  },
  {
   "cell_type": "code",
   "execution_count": 16,
   "id": "6e54d991",
   "metadata": {
    "execution": {
     "iopub.execute_input": "2022-07-06T09:15:41.611594Z",
     "iopub.status.busy": "2022-07-06T09:15:41.611203Z",
     "iopub.status.idle": "2022-07-06T09:15:41.631877Z",
     "shell.execute_reply": "2022-07-06T09:15:41.630511Z"
    },
    "papermill": {
     "duration": 0.030049,
     "end_time": "2022-07-06T09:15:41.634702",
     "exception": false,
     "start_time": "2022-07-06T09:15:41.604653",
     "status": "completed"
    },
    "tags": []
   },
   "outputs": [
    {
     "name": "stdout",
     "output_type": "stream",
     "text": [
      "0.78\n"
     ]
    }
   ],
   "source": [
    "print(logreg.score(x_test, y_test))"
   ]
  },
  {
   "cell_type": "code",
   "execution_count": 17,
   "id": "91322d13",
   "metadata": {
    "execution": {
     "iopub.execute_input": "2022-07-06T09:15:41.648226Z",
     "iopub.status.busy": "2022-07-06T09:15:41.647552Z",
     "iopub.status.idle": "2022-07-06T09:15:41.669490Z",
     "shell.execute_reply": "2022-07-06T09:15:41.668373Z"
    },
    "papermill": {
     "duration": 0.031009,
     "end_time": "2022-07-06T09:15:41.671769",
     "exception": false,
     "start_time": "2022-07-06T09:15:41.640760",
     "status": "completed"
    },
    "tags": []
   },
   "outputs": [
    {
     "name": "stdout",
     "output_type": "stream",
     "text": [
      "\n",
      "AUC score : 0.7349\n"
     ]
    }
   ],
   "source": [
    "logreg_auc_score=roc_auc_score(y_test, logreg.predict_proba(x_test)[:,1])\n",
    "print(f'\\nAUC score : {logreg_auc_score:.4f}')"
   ]
  }
 ],
 "metadata": {
  "kernelspec": {
   "display_name": "Python 3",
   "language": "python",
   "name": "python3"
  },
  "language_info": {
   "codemirror_mode": {
    "name": "ipython",
    "version": 3
   },
   "file_extension": ".py",
   "mimetype": "text/x-python",
   "name": "python",
   "nbconvert_exporter": "python",
   "pygments_lexer": "ipython3",
   "version": "3.7.12"
  },
  "papermill": {
   "default_parameters": {},
   "duration": 162.262295,
   "end_time": "2022-07-06T09:15:44.299890",
   "environment_variables": {},
   "exception": null,
   "input_path": "__notebook__.ipynb",
   "output_path": "__notebook__.ipynb",
   "parameters": {},
   "start_time": "2022-07-06T09:13:02.037595",
   "version": "2.3.4"
  },
  "widgets": {
   "application/vnd.jupyter.widget-state+json": {
    "state": {
     "26e58830b2b843dfb6991f2205bb4cd6": {
      "model_module": "@jupyter-widgets/controls",
      "model_module_version": "1.5.0",
      "model_name": "HBoxModel",
      "state": {
       "_dom_classes": [],
       "_model_module": "@jupyter-widgets/controls",
       "_model_module_version": "1.5.0",
       "_model_name": "HBoxModel",
       "_view_count": null,
       "_view_module": "@jupyter-widgets/controls",
       "_view_module_version": "1.5.0",
       "_view_name": "HBoxView",
       "box_style": "",
       "children": [
        "IPY_MODEL_28d7c02f8e0b420ea49ee31913c989bc",
        "IPY_MODEL_a4f7a90b3a9d4575922d1d76e78bd615",
        "IPY_MODEL_83e56beee13049569e54f52fbf3c94db"
       ],
       "layout": "IPY_MODEL_dfed5623a9184d768cea6e105155cab6"
      }
     },
     "28d7c02f8e0b420ea49ee31913c989bc": {
      "model_module": "@jupyter-widgets/controls",
      "model_module_version": "1.5.0",
      "model_name": "HTMLModel",
      "state": {
       "_dom_classes": [],
       "_model_module": "@jupyter-widgets/controls",
       "_model_module_version": "1.5.0",
       "_model_name": "HTMLModel",
       "_view_count": null,
       "_view_module": "@jupyter-widgets/controls",
       "_view_module_version": "1.5.0",
       "_view_name": "HTMLView",
       "description": "",
       "description_tooltip": null,
       "layout": "IPY_MODEL_653cb9c239a7488aac59528cb3423422",
       "placeholder": "​",
       "style": "IPY_MODEL_e7621da5e5bc4abaa1bcf7cbeb597244",
       "value": "Optimization Progress: 100%"
      }
     },
     "4c42d799740349efa36007573c41f59d": {
      "model_module": "@jupyter-widgets/controls",
      "model_module_version": "1.5.0",
      "model_name": "DescriptionStyleModel",
      "state": {
       "_model_module": "@jupyter-widgets/controls",
       "_model_module_version": "1.5.0",
       "_model_name": "DescriptionStyleModel",
       "_view_count": null,
       "_view_module": "@jupyter-widgets/base",
       "_view_module_version": "1.2.0",
       "_view_name": "StyleView",
       "description_width": ""
      }
     },
     "653cb9c239a7488aac59528cb3423422": {
      "model_module": "@jupyter-widgets/base",
      "model_module_version": "1.2.0",
      "model_name": "LayoutModel",
      "state": {
       "_model_module": "@jupyter-widgets/base",
       "_model_module_version": "1.2.0",
       "_model_name": "LayoutModel",
       "_view_count": null,
       "_view_module": "@jupyter-widgets/base",
       "_view_module_version": "1.2.0",
       "_view_name": "LayoutView",
       "align_content": null,
       "align_items": null,
       "align_self": null,
       "border": null,
       "bottom": null,
       "display": null,
       "flex": null,
       "flex_flow": null,
       "grid_area": null,
       "grid_auto_columns": null,
       "grid_auto_flow": null,
       "grid_auto_rows": null,
       "grid_column": null,
       "grid_gap": null,
       "grid_row": null,
       "grid_template_areas": null,
       "grid_template_columns": null,
       "grid_template_rows": null,
       "height": null,
       "justify_content": null,
       "justify_items": null,
       "left": null,
       "margin": null,
       "max_height": null,
       "max_width": null,
       "min_height": null,
       "min_width": null,
       "object_fit": null,
       "object_position": null,
       "order": null,
       "overflow": null,
       "overflow_x": null,
       "overflow_y": null,
       "padding": null,
       "right": null,
       "top": null,
       "visibility": null,
       "width": null
      }
     },
     "7c0934d5c97a4e429f6ee04b97b08763": {
      "model_module": "@jupyter-widgets/controls",
      "model_module_version": "1.5.0",
      "model_name": "ProgressStyleModel",
      "state": {
       "_model_module": "@jupyter-widgets/controls",
       "_model_module_version": "1.5.0",
       "_model_name": "ProgressStyleModel",
       "_view_count": null,
       "_view_module": "@jupyter-widgets/base",
       "_view_module_version": "1.2.0",
       "_view_name": "StyleView",
       "bar_color": null,
       "description_width": ""
      }
     },
     "82e4c715f3254fe9886e392cea4d2737": {
      "model_module": "@jupyter-widgets/base",
      "model_module_version": "1.2.0",
      "model_name": "LayoutModel",
      "state": {
       "_model_module": "@jupyter-widgets/base",
       "_model_module_version": "1.2.0",
       "_model_name": "LayoutModel",
       "_view_count": null,
       "_view_module": "@jupyter-widgets/base",
       "_view_module_version": "1.2.0",
       "_view_name": "LayoutView",
       "align_content": null,
       "align_items": null,
       "align_self": null,
       "border": null,
       "bottom": null,
       "display": null,
       "flex": null,
       "flex_flow": null,
       "grid_area": null,
       "grid_auto_columns": null,
       "grid_auto_flow": null,
       "grid_auto_rows": null,
       "grid_column": null,
       "grid_gap": null,
       "grid_row": null,
       "grid_template_areas": null,
       "grid_template_columns": null,
       "grid_template_rows": null,
       "height": null,
       "justify_content": null,
       "justify_items": null,
       "left": null,
       "margin": null,
       "max_height": null,
       "max_width": null,
       "min_height": null,
       "min_width": null,
       "object_fit": null,
       "object_position": null,
       "order": null,
       "overflow": null,
       "overflow_x": null,
       "overflow_y": null,
       "padding": null,
       "right": null,
       "top": null,
       "visibility": null,
       "width": null
      }
     },
     "83e56beee13049569e54f52fbf3c94db": {
      "model_module": "@jupyter-widgets/controls",
      "model_module_version": "1.5.0",
      "model_name": "HTMLModel",
      "state": {
       "_dom_classes": [],
       "_model_module": "@jupyter-widgets/controls",
       "_model_module_version": "1.5.0",
       "_model_name": "HTMLModel",
       "_view_count": null,
       "_view_module": "@jupyter-widgets/controls",
       "_view_module_version": "1.5.0",
       "_view_name": "HTMLView",
       "description": "",
       "description_tooltip": null,
       "layout": "IPY_MODEL_cf0056dcb3cf4c9485ea571b59555a50",
       "placeholder": "​",
       "style": "IPY_MODEL_4c42d799740349efa36007573c41f59d",
       "value": " 300/300 [02:21&lt;00:00,  2.62pipeline/s]"
      }
     },
     "a4f7a90b3a9d4575922d1d76e78bd615": {
      "model_module": "@jupyter-widgets/controls",
      "model_module_version": "1.5.0",
      "model_name": "FloatProgressModel",
      "state": {
       "_dom_classes": [],
       "_model_module": "@jupyter-widgets/controls",
       "_model_module_version": "1.5.0",
       "_model_name": "FloatProgressModel",
       "_view_count": null,
       "_view_module": "@jupyter-widgets/controls",
       "_view_module_version": "1.5.0",
       "_view_name": "ProgressView",
       "bar_style": "",
       "description": "",
       "description_tooltip": null,
       "layout": "IPY_MODEL_82e4c715f3254fe9886e392cea4d2737",
       "max": 300.0,
       "min": 0.0,
       "orientation": "horizontal",
       "style": "IPY_MODEL_7c0934d5c97a4e429f6ee04b97b08763",
       "value": 300.0
      }
     },
     "cf0056dcb3cf4c9485ea571b59555a50": {
      "model_module": "@jupyter-widgets/base",
      "model_module_version": "1.2.0",
      "model_name": "LayoutModel",
      "state": {
       "_model_module": "@jupyter-widgets/base",
       "_model_module_version": "1.2.0",
       "_model_name": "LayoutModel",
       "_view_count": null,
       "_view_module": "@jupyter-widgets/base",
       "_view_module_version": "1.2.0",
       "_view_name": "LayoutView",
       "align_content": null,
       "align_items": null,
       "align_self": null,
       "border": null,
       "bottom": null,
       "display": null,
       "flex": null,
       "flex_flow": null,
       "grid_area": null,
       "grid_auto_columns": null,
       "grid_auto_flow": null,
       "grid_auto_rows": null,
       "grid_column": null,
       "grid_gap": null,
       "grid_row": null,
       "grid_template_areas": null,
       "grid_template_columns": null,
       "grid_template_rows": null,
       "height": null,
       "justify_content": null,
       "justify_items": null,
       "left": null,
       "margin": null,
       "max_height": null,
       "max_width": null,
       "min_height": null,
       "min_width": null,
       "object_fit": null,
       "object_position": null,
       "order": null,
       "overflow": null,
       "overflow_x": null,
       "overflow_y": null,
       "padding": null,
       "right": null,
       "top": null,
       "visibility": null,
       "width": null
      }
     },
     "dfed5623a9184d768cea6e105155cab6": {
      "model_module": "@jupyter-widgets/base",
      "model_module_version": "1.2.0",
      "model_name": "LayoutModel",
      "state": {
       "_model_module": "@jupyter-widgets/base",
       "_model_module_version": "1.2.0",
       "_model_name": "LayoutModel",
       "_view_count": null,
       "_view_module": "@jupyter-widgets/base",
       "_view_module_version": "1.2.0",
       "_view_name": "LayoutView",
       "align_content": null,
       "align_items": null,
       "align_self": null,
       "border": null,
       "bottom": null,
       "display": null,
       "flex": null,
       "flex_flow": null,
       "grid_area": null,
       "grid_auto_columns": null,
       "grid_auto_flow": null,
       "grid_auto_rows": null,
       "grid_column": null,
       "grid_gap": null,
       "grid_row": null,
       "grid_template_areas": null,
       "grid_template_columns": null,
       "grid_template_rows": null,
       "height": null,
       "justify_content": null,
       "justify_items": null,
       "left": null,
       "margin": null,
       "max_height": null,
       "max_width": null,
       "min_height": null,
       "min_width": null,
       "object_fit": null,
       "object_position": null,
       "order": null,
       "overflow": null,
       "overflow_x": null,
       "overflow_y": null,
       "padding": null,
       "right": null,
       "top": null,
       "visibility": null,
       "width": null
      }
     },
     "e7621da5e5bc4abaa1bcf7cbeb597244": {
      "model_module": "@jupyter-widgets/controls",
      "model_module_version": "1.5.0",
      "model_name": "DescriptionStyleModel",
      "state": {
       "_model_module": "@jupyter-widgets/controls",
       "_model_module_version": "1.5.0",
       "_model_name": "DescriptionStyleModel",
       "_view_count": null,
       "_view_module": "@jupyter-widgets/base",
       "_view_module_version": "1.2.0",
       "_view_name": "StyleView",
       "description_width": ""
      }
     }
    },
    "version_major": 2,
    "version_minor": 0
   }
  }
 },
 "nbformat": 4,
 "nbformat_minor": 5
}
